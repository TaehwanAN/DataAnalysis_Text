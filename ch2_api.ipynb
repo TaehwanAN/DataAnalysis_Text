{
 "cells": [
  {
   "cell_type": "code",
   "execution_count": 1,
   "id": "8c970330-721f-4245-bc19-d80332fb125b",
   "metadata": {},
   "outputs": [],
   "source": [
    "import requests\n",
    "from datetime import datetime\n",
    "import time\n",
    "import pandas as pd"
   ]
  },
  {
   "cell_type": "markdown",
   "id": "baf2aa92-b746-44d8-8eff-82ca7e877aa3",
   "metadata": {},
   "source": [
    "# 2.3 Request Module\n",
    "- https://docs.github.com/en/rest/repos/repos?apiVersion=2022-11-28"
   ]
  },
  {
   "cell_type": "code",
   "execution_count": 1,
   "id": "0f39bb8b-e5b5-44ac-93bf-a811fcf170e1",
   "metadata": {},
   "outputs": [
    {
     "name": "stdout",
     "output_type": "stream",
     "text": [
      "200\n"
     ]
    }
   ],
   "source": [
    "## requests.get(), response.status_code\n",
    "import requests\n",
    "response= requests.get('https://api.github.com/repositories',\n",
    "                      headers={'Accept':'application/vnd.github+json'})\n",
    "print(response.status_code)"
   ]
  },
  {
   "cell_type": "code",
   "execution_count": 12,
   "id": "3f43cff6-2e41-49bd-9f67-be3126f8215c",
   "metadata": {},
   "outputs": [
    {
     "name": "stdout",
     "output_type": "stream",
     "text": [
      "utf-8\n",
      "application/json; charset=utf-8\n",
      "GitHub.com\n",
      "ETag, Link, Location, Retry-After, X-GitHub-OTP, X-RateLimit-Limit, X-RateLimit-Remaining, X-RateLimit-Used, X-RateLimit-Resource, X-RateLimit-Reset, X-OAuth-Scopes, X-Accepted-OAuth-Scopes, X-Poll-Interval, X-GitHub-Media-Type, X-GitHub-SSO, X-GitHub-Request-Id, Deprecation, Sunset\n",
      "{'Server': 'GitHub.com', 'Date': 'Tue, 30 Jan 2024 10:23:37 GMT', 'Content-Type': 'application/json; charset=utf-8', 'Cache-Control': 'public, max-age=60, s-maxage=60', 'Vary': 'Accept, Accept-Encoding, Accept, X-Requested-With', 'ETag': 'W/\"3c54a93639294e719c717ee9fb29aa31617be2a77aed1b49a769e1b1c9dd5ef5\"', 'X-GitHub-Media-Type': 'github.v3; format=json', 'Link': '<https://api.github.com/repositories?since=369>; rel=\"next\", <https://api.github.com/repositories{?since}>; rel=\"first\"', 'x-github-api-version-selected': '2022-11-28', 'Access-Control-Expose-Headers': 'ETag, Link, Location, Retry-After, X-GitHub-OTP, X-RateLimit-Limit, X-RateLimit-Remaining, X-RateLimit-Used, X-RateLimit-Resource, X-RateLimit-Reset, X-OAuth-Scopes, X-Accepted-OAuth-Scopes, X-Poll-Interval, X-GitHub-Media-Type, X-GitHub-SSO, X-GitHub-Request-Id, Deprecation, Sunset', 'Access-Control-Allow-Origin': '*', 'Strict-Transport-Security': 'max-age=31536000; includeSubdomains; preload', 'X-Frame-Options': 'deny', 'X-Content-Type-Options': 'nosniff', 'X-XSS-Protection': '0', 'Referrer-Policy': 'origin-when-cross-origin, strict-origin-when-cross-origin', 'Content-Security-Policy': \"default-src 'none'\", 'Content-Encoding': 'gzip', 'X-RateLimit-Limit': '60', 'X-RateLimit-Remaining': '57', 'X-RateLimit-Reset': '1706613722', 'X-RateLimit-Resource': 'core', 'X-RateLimit-Used': '3', 'Accept-Ranges': 'bytes', 'Transfer-Encoding': 'chunked', 'X-GitHub-Request-Id': 'FE89:2AF594:C01340:DDBEAE:65B8CE28'}\n"
     ]
    }
   ],
   "source": [
    "## response.headers\n",
    "print(response.encoding)\n",
    "print(response.headers['Content-Type'])\n",
    "print(response.headers['server'])\n",
    "print(response.headers['Access-Control-Expose-Headers'])\n",
    "print(response.headers)"
   ]
  },
  {
   "cell_type": "code",
   "execution_count": 21,
   "id": "7a9672f9-be77-4a56-9094-9181a8b22ae2",
   "metadata": {},
   "outputs": [
    {
     "name": "stdout",
     "output_type": "stream",
     "text": [
      "100\n",
      "{\n",
      "  \"id\": 1,\n",
      "  \"node_id\": \"MDEwOlJlcG9zaXRvcnkx\",\n",
      "  \"name\": \"grit\",\n",
      "  \"full_name\": \"mojombo/grit\",\n",
      "  \"private\": false,\n",
      "  \"owner\": {\n",
      "    \"login\": \"mojombo\",\n",
      "    \"id\": 1,\n",
      "    \"node_id\": \"MDQ6VXNlcjE=\",\n",
      "\n"
     ]
    }
   ],
   "source": [
    "## response를 json 객체로 변환하기\n",
    "import json\n",
    "print(len(response.json())) # 100: 100개의 데이터가 있음, response.json()\n",
    "print(json.dumps(response.json()[0], indent=2)[:200])"
   ]
  },
  {
   "cell_type": "code",
   "execution_count": 22,
   "id": "c80bb1f8-e235-4a79-b73a-0a7b9dd4074e",
   "metadata": {},
   "outputs": [
    {
     "name": "stdout",
     "output_type": "stream",
     "text": [
      "200\n"
     ]
    }
   ],
   "source": [
    "## query 매개변수를 이용하여 필요한 정보 search\n",
    "response=requests.get('https://api.github.com/repositories',\n",
    "                      headers={'Accept':'application/vnd.github+json'},\n",
    "                     params= {'q':'data+language:python'})\n",
    "print(response.status_code)"
   ]
  },
  {
   "cell_type": "markdown",
   "id": "2b4315a9-5296-4cf2-8ef2-c717eccf0162",
   "metadata": {},
   "source": [
    "## 레포지토리의 댓글 모니터링"
   ]
  },
  {
   "cell_type": "code",
   "execution_count": 32,
   "id": "cbf6b865-b3d8-4de8-ae11-1d74d958a239",
   "metadata": {},
   "outputs": [
    {
     "name": "stdout",
     "output_type": "stream",
     "text": [
      "200\n",
      "30\n",
      "{'url': 'https://api.github.com/repos/pytorch/pytorch/issues/comments/246085619', 'html_url': 'https://github.com/pytorch/pytorch/issues/20#issuecomment-246085619', 'issue_url': 'https://api.github.com/repos/pytorch/pytorch/issues/20', 'id': 246085619, 'node_id': 'MDEyOklzc3VlQ29tbWVudDI0NjA4NTYxOQ==', 'user': {'login': 'apaszke', 'id': 4583066, 'node_id': 'MDQ6VXNlcjQ1ODMwNjY=', 'avatar_url': 'https://avatars.githubusercontent.com/u/4583066?v=4', 'gravatar_id': '', 'url': 'https://api.github.com/users/apaszke', 'html_url': 'https://github.com/apaszke', 'followers_url': 'https://api.github.com/users/apaszke/followers', 'following_url': 'https://api.github.com/users/apaszke/following{/other_user}', 'gists_url': 'https://api.github.com/users/apaszke/gists{/gist_id}', 'starred_url': 'https://api.github.com/users/apaszke/starred{/owner}{/repo}', 'subscriptions_url': 'https://api.github.com/users/apaszke/subscriptions', 'organizations_url': 'https://api.github.com/users/apaszke/orgs', 'repos_url': 'https://api.github.com/users/apaszke/repos', 'events_url': 'https://api.github.com/users/apaszke/events{/privacy}', 'received_events_url': 'https://api.github.com/users/apaszke/received_events', 'type': 'User', 'site_admin': False}, 'created_at': '2016-09-10T03:27:35Z', 'updated_at': '2016-09-10T03:27:35Z', 'author_association': 'CONTRIBUTOR', 'body': 'Yeah, keyword args are a reasonable solution, but I would require them only for long tensors (and optionally allow them for other types).\\n', 'reactions': {'url': 'https://api.github.com/repos/pytorch/pytorch/issues/comments/246085619/reactions', 'total_count': 0, '+1': 0, '-1': 0, 'laugh': 0, 'hooray': 0, 'confused': 0, 'heart': 0, 'rocket': 0, 'eyes': 0}, 'performed_via_github_app': None}\n"
     ]
    }
   ],
   "source": [
    "response= requests.get('https://api.github.com/repos/pytorch/pytorch/issues/comments')\n",
    "print(response.status_code)\n",
    "print(len(response.json()))\n",
    "print(response.json()[29])\n",
    "## 왜 30개의 댓글만 가져온 것일까?"
   ]
  },
  {
   "cell_type": "code",
   "execution_count": 28,
   "id": "6ac468ba-b33c-4b33-b20c-4a9bc51d49ff",
   "metadata": {},
   "outputs": [
    {
     "data": {
      "text/plain": [
       "{'next': {'url': 'https://api.github.com/repositories/65600975/issues/comments?page=2',\n",
       "  'rel': 'next'},\n",
       " 'last': {'url': 'https://api.github.com/repositories/65600975/issues/comments?page=1000',\n",
       "  'rel': 'last'}}"
      ]
     },
     "execution_count": 28,
     "metadata": {},
     "output_type": "execute_result"
    }
   ],
   "source": [
    "## 페이지 매기기\n",
    "response.links\n",
    "# 다음 페이지가 존재했음. 1페이지당 30개씩만 출력"
   ]
  },
  {
   "cell_type": "markdown",
   "id": "1ffb0b30-348b-410c-a62d-b89eda063478",
   "metadata": {},
   "source": [
    "### function: get_all_pages(url, params, headers)"
   ]
  },
  {
   "cell_type": "code",
   "execution_count": 34,
   "id": "22dd90d5-a5e4-4505-970a-1c1ce84c7a5e",
   "metadata": {},
   "outputs": [],
   "source": [
    "def get_all_pages(url, params=None, headers=None):\n",
    "    output_json=[]\n",
    "    response = requests.get(url, params=params, headers=headers)\n",
    "    if response.status_code == 200:\n",
    "        output_json = response.json() # reponse -> list( dict{}, dict{},...)\n",
    "        if 'next' in response.links:\n",
    "            next_url = response.links['next']['url']\n",
    "            if next_url is not None:\n",
    "                output_json+=get_all_pages(next_url, params, headers) # 재귀 함수를 이용하여 다음 페이지가 있을 때까지 무한 반복시킴\n",
    "    return output_json"
   ]
  },
  {
   "cell_type": "code",
   "execution_count": 57,
   "id": "3bdc1479-0613-46b2-9a4c-b8f68b2d388b",
   "metadata": {},
   "outputs": [
    {
     "name": "stdout",
     "output_type": "stream",
     "text": [
      "경과시간:  0:00:02.041605\n"
     ]
    },
    {
     "data": {
      "text/html": [
       "<div>\n",
       "<style scoped>\n",
       "    .dataframe tbody tr th:only-of-type {\n",
       "        vertical-align: middle;\n",
       "    }\n",
       "\n",
       "    .dataframe tbody tr th {\n",
       "        vertical-align: top;\n",
       "    }\n",
       "\n",
       "    .dataframe thead th {\n",
       "        text-align: right;\n",
       "    }\n",
       "</style>\n",
       "<table border=\"1\" class=\"dataframe\">\n",
       "  <thead>\n",
       "    <tr style=\"text-align: right;\">\n",
       "      <th></th>\n",
       "      <th>url</th>\n",
       "      <th>html_url</th>\n",
       "      <th>issue_url</th>\n",
       "      <th>id</th>\n",
       "      <th>node_id</th>\n",
       "      <th>user</th>\n",
       "      <th>created_at</th>\n",
       "      <th>updated_at</th>\n",
       "      <th>author_association</th>\n",
       "      <th>body</th>\n",
       "      <th>reactions</th>\n",
       "      <th>performed_via_github_app</th>\n",
       "    </tr>\n",
       "  </thead>\n",
       "  <tbody>\n",
       "    <tr>\n",
       "      <th>12</th>\n",
       "      <td>https://api.github.com/repos/pytorch/pytorch/i...</td>\n",
       "      <td>https://github.com/pytorch/pytorch/pull/115539...</td>\n",
       "      <td>https://api.github.com/repos/pytorch/pytorch/i...</td>\n",
       "      <td>1916501942</td>\n",
       "      <td>IC_kwDOA-j9z85yO3-2</td>\n",
       "      <td>{'login': 'pytorchmergebot', 'id': 97764156, '...</td>\n",
       "      <td>2024-01-30T10:10:58Z</td>\n",
       "      <td>2024-01-30T10:10:58Z</td>\n",
       "      <td>COLLABORATOR</td>\n",
       "      <td>@pytorchbot started a rebase job onto [refs/re...</td>\n",
       "      <td>{'url': 'https://api.github.com/repos/pytorch/...</td>\n",
       "      <td>None</td>\n",
       "    </tr>\n",
       "  </tbody>\n",
       "</table>\n",
       "</div>"
      ],
      "text/plain": [
       "                                                  url  \\\n",
       "12  https://api.github.com/repos/pytorch/pytorch/i...   \n",
       "\n",
       "                                             html_url  \\\n",
       "12  https://github.com/pytorch/pytorch/pull/115539...   \n",
       "\n",
       "                                            issue_url          id  \\\n",
       "12  https://api.github.com/repos/pytorch/pytorch/i...  1916501942   \n",
       "\n",
       "                node_id                                               user  \\\n",
       "12  IC_kwDOA-j9z85yO3-2  {'login': 'pytorchmergebot', 'id': 97764156, '...   \n",
       "\n",
       "              created_at            updated_at author_association  \\\n",
       "12  2024-01-30T10:10:58Z  2024-01-30T10:10:58Z       COLLABORATOR   \n",
       "\n",
       "                                                 body  \\\n",
       "12  @pytorchbot started a rebase job onto [refs/re...   \n",
       "\n",
       "                                            reactions performed_via_github_app  \n",
       "12  {'url': 'https://api.github.com/repos/pytorch/...                     None  "
      ]
     },
     "metadata": {},
     "output_type": "display_data"
    },
    {
     "name": "stdout",
     "output_type": "stream",
     "text": [
      "추출된 댓글의 수 60\n"
     ]
    },
    {
     "data": {
      "text/html": [
       "<div>\n",
       "<style scoped>\n",
       "    .dataframe tbody tr th:only-of-type {\n",
       "        vertical-align: middle;\n",
       "    }\n",
       "\n",
       "    .dataframe tbody tr th {\n",
       "        vertical-align: top;\n",
       "    }\n",
       "\n",
       "    .dataframe thead th {\n",
       "        text-align: right;\n",
       "    }\n",
       "</style>\n",
       "<table border=\"1\" class=\"dataframe\">\n",
       "  <thead>\n",
       "    <tr style=\"text-align: right;\">\n",
       "      <th></th>\n",
       "      <th>id</th>\n",
       "      <th>created_at</th>\n",
       "      <th>body</th>\n",
       "    </tr>\n",
       "  </thead>\n",
       "  <tbody>\n",
       "    <tr>\n",
       "      <th>25</th>\n",
       "      <td>1916384722</td>\n",
       "      <td>2024-01-30T09:12:04Z</td>\n",
       "      <td>@pytorchbot merge</td>\n",
       "    </tr>\n",
       "  </tbody>\n",
       "</table>\n",
       "</div>"
      ],
      "text/plain": [
       "            id            created_at               body\n",
       "25  1916384722  2024-01-30T09:12:04Z  @pytorchbot merge"
      ]
     },
     "metadata": {},
     "output_type": "display_data"
    }
   ],
   "source": [
    "url=\"https://api.github.com/repos/pytorch/pytorch/issues/comments\"\n",
    "params={\"since\":\"2022-01-31T00:00:00Z\",\n",
    "       \"sorted\":\"created\", \"direction\":\"desc\"}\n",
    "headers={'Accept':'application/vnd.github+json'}\n",
    "\n",
    "start=datetime.now()\n",
    "output=get_all_pages(url,params,headers)\n",
    "lapse=  datetime.now()-start\n",
    "print(\"경과시간: \", lapse)\n",
    "# print(\"output\",output[:2])\n",
    "df=pd.DataFrame(output)\n",
    "display(df.sample(1))\n",
    "print(\"추출된 댓글의 수\",df['body'].count())\n",
    "display(df[['id','created_at','body']].sample(1))"
   ]
  },
  {
   "cell_type": "code",
   "execution_count": 52,
   "id": "b9aeb30a-1321-4da4-9a2f-ccd329f8eee3",
   "metadata": {},
   "outputs": [],
   "source": [
    "\n",
    "before=datetime.now()\n",
    "time.sleep(5)\n",
    "lapse=datetime.now()-before"
   ]
  },
  {
   "cell_type": "code",
   "execution_count": 54,
   "id": "a70af350-c821-4ce3-9657-0f5df0ad7521",
   "metadata": {},
   "outputs": [
    {
     "name": "stdout",
     "output_type": "stream",
     "text": [
      "0:00:05.000577\n"
     ]
    }
   ],
   "source": [
    "print(lapse)"
   ]
  },
  {
   "cell_type": "code",
   "execution_count": 60,
   "id": "6cb2108b-13be-4407-831f-2c2c1d1b40c4",
   "metadata": {},
   "outputs": [
    {
     "name": "stdout",
     "output_type": "stream",
     "text": [
      "X-Ratelimit-Limit:  60\n",
      "X-Ratelimit-Remaining:  58\n",
      "Rate Limits reset at:  Tue Jan 30 22:42:58 2024\n"
     ]
    }
   ],
   "source": [
    "## 속도제한 해결: \n",
    "# X-Ratelimit-Limit\n",
    "# X-Ratelimit-Remaining\n",
    "# X-Ratelimit-Reset\n",
    "\n",
    "url=\"https://api.github.com/repos/pytorch/pytorch/issues/comments\"\n",
    "response=requests.get(url)\n",
    "\n",
    "print('X-Ratelimit-Limit: ', response.headers['X-Ratelimit-Limit'])\n",
    "print('X-Ratelimit-Remaining: ', response.headers['X-Ratelimit-Remaining'])\n",
    "\n",
    "print('Rate Limits reset at: ', datetime.fromtimestamp(int(response.headers['X-Ratelimit-Reset'])).strftime('%c'))"
   ]
  },
  {
   "cell_type": "markdown",
   "id": "b0b904e4-6af6-4834-82d8-e4d710f7290d",
   "metadata": {},
   "source": [
    "### function handle_rate_limits(response) return boolean"
   ]
  },
  {
   "cell_type": "code",
   "execution_count": 2,
   "id": "55d8dc29-4282-4ad4-83e5-7e060d197e33",
   "metadata": {},
   "outputs": [],
   "source": [
    "def handle_rate_limits(response):\n",
    "    now=datetime.now()\n",
    "    reset_time = datetime.fromtimestamp(int(response.headers['X-RateLimit-Reset'])) # api 호출 가능 개수가 리셋되는 시간\n",
    "    remaining_requests= response.headers['X-Ratelimit-Remaining'] # 남은 호출 가능 횟수\n",
    "    remaining_time= (reset_time-now).total_seconds() # 리셋까지 남은 시간\n",
    "    intervals= remaining_time/(1.0 + int(remaining_requests)) # 남은 시간 / 남은 호출+1 => 매 호출이 일어날 시간\n",
    "    print('Sleeping for', intervals)\n",
    "    time.sleep(intervals)\n",
    "    return True"
   ]
  },
  {
   "cell_type": "code",
   "execution_count": 14,
   "id": "d3abf343-092e-4cd4-9b3d-0ea80f0a3cab",
   "metadata": {},
   "outputs": [
    {
     "name": "stdout",
     "output_type": "stream",
     "text": [
      "awesome\n",
      "kaitai_struct\n",
      "data-structures-and-algorithms\n",
      "Python-Roadmap\n",
      "Sports_Data_Reference\n"
     ]
    }
   ],
   "source": [
    "## Retry Strategy\n",
    "from requests.adapters import HTTPAdapter\n",
    "from requests.packages.urllib3.util.retry import Retry\n",
    "\n",
    "retry_strategy = Retry(total=5, status_forcelist=[500,503,504], backoff_factor=1)\n",
    "# status_forcelist: 어떠한 상태일 경우에 retry를 시도하는지를 지정\n",
    "# backoff_factor: 서버에 대한 호출 시간을 기하급수적으로 늘려서 지연시키기\n",
    "\n",
    "retry_adapter=HTTPAdapter(max_retries=retry_strategy)\n",
    "\n",
    "http=requests.Session()\n",
    "http.mount(\"https://\", retry_adapter)\n",
    "http.mount(\"http://\", retry_adapter)\n",
    "\n",
    "url='https://api.github.com/search/repositories'\n",
    "params={'q':'data+language:python'}\n",
    "\n",
    "response= http.get(url, params=params)\n",
    "\n",
    "for item in response.json()['items'][:5]:\n",
    "    print(item['name'])"
   ]
  },
  {
   "cell_type": "code",
   "execution_count": 16,
   "id": "d26676cd-e222-4a77-a8cc-1925ef1881cc",
   "metadata": {},
   "outputs": [
    {
     "name": "stdout",
     "output_type": "stream",
     "text": [
      "30\n",
      "<class 'list'>\n"
     ]
    }
   ],
   "source": [
    "print(len(response.json()['items']))\n",
    "print(type(response.json()['items']))"
   ]
  },
  {
   "cell_type": "markdown",
   "id": "b225b11d-00e9-462e-8339-90eabfc42100",
   "metadata": {},
   "source": [
    "## Total Process"
   ]
  },
  {
   "cell_type": "code",
   "execution_count": 19,
   "id": "572747d8-ab0a-4e55-9308-f7186ba05d4c",
   "metadata": {},
   "outputs": [],
   "source": [
    "# 1. Prepare retry strategy\n",
    "from requests.adapters import HTTPAdapter\n",
    "from requests.packages.urllib3.util.retry import Retry\n",
    "\n",
    "retry_strategy = Retry(\n",
    "    total=5,\n",
    "    status_forcelist=[500, 503, 504],\n",
    "    backoff_factor=1\n",
    ")\n",
    "\n",
    "retry_adapter = HTTPAdapter(max_retries=retry_strategy)\n",
    "\n",
    "http = requests.Session()\n",
    "http.mount(\"https://\", retry_adapter)\n",
    "http.mount(\"http://\", retry_adapter)\n",
    "\n",
    "# 2. Get all pages\n",
    "def get_all_pages(url, param=None, header=None):\n",
    "    output_json = []\n",
    "    response = http.get(url, params=param, headers=header)\n",
    "    if response.status_code == 200:\n",
    "        output_json = response.json()\n",
    "        if 'next' in response.links:\n",
    "            next_url = response.links['next']['url']\n",
    "            if (next_url is not None) and (handle_rate_limits(response)):  # 3. Handle limits\n",
    "                output_json += get_all_pages(next_url, param, header)\n",
    "    return output_json\n"
   ]
  },
  {
   "cell_type": "code",
   "execution_count": null,
   "id": "45b11f40-1212-41e1-bb59-fa380cbcdbaf",
   "metadata": {},
   "outputs": [],
   "source": [
    "out = get_all_pages(\"https://api.github.com/repos/pytorch/pytorch/issues/comments\", param={'since': '2023-12-01T00:00:01Z'})\n",
    "df = pd.DataFrame(out)\n",
    "print(df)"
   ]
  },
  {
   "cell_type": "markdown",
   "id": "164e6272-f9ee-4a50-9c8a-a089716e3c88",
   "metadata": {},
   "source": [
    "# 2.4 Twitter and tweepy\n",
    "\n",
    "- API KEY: dYVvLwbQUZnpfsjovN12mji3v\n",
    "- API KEY SECRET: jW7M7XIrPgJkQQOk7ZuEkFOOR2VceSsBMWJzBEoLRQ2GCppUQI"
   ]
  },
  {
   "cell_type": "markdown",
   "id": "fa6bb3df-87ee-4373-b6e0-0401bdd48c53",
   "metadata": {},
   "source": [
    "!pip install tweepy"
   ]
  },
  {
   "cell_type": "code",
   "execution_count": 25,
   "id": "6dbd7c24-505e-4ba9-b965-86343d0d9e95",
   "metadata": {},
   "outputs": [
    {
     "ename": "ModuleNotFoundError",
     "evalue": "No module named 'tweepy'",
     "output_type": "error",
     "traceback": [
      "\u001b[1;31m---------------------------------------------------------------------------\u001b[0m",
      "\u001b[1;31mModuleNotFoundError\u001b[0m                       Traceback (most recent call last)",
      "Cell \u001b[1;32mIn[25], line 1\u001b[0m\n\u001b[1;32m----> 1\u001b[0m \u001b[38;5;28;01mimport\u001b[39;00m \u001b[38;5;21;01mtweepy\u001b[39;00m\n\u001b[0;32m      2\u001b[0m app_api_key\u001b[38;5;241m=\u001b[39m\u001b[38;5;124m'\u001b[39m\u001b[38;5;124mdYVvLwbQUZnpfsjovN12mji3v\u001b[39m\u001b[38;5;124m'\u001b[39m\n\u001b[0;32m      3\u001b[0m app_api_secret_key\u001b[38;5;241m=\u001b[39m\u001b[38;5;124m'\u001b[39m\u001b[38;5;124mjW7M7XIrPgJkQQOk7ZuEkFOOR2VceSsBMWJzBEoLRQ2GCppUQI\u001b[39m\u001b[38;5;124m'\u001b[39m\n",
      "\u001b[1;31mModuleNotFoundError\u001b[0m: No module named 'tweepy'"
     ]
    }
   ],
   "source": [
    "import tweepy\n",
    "app_api_key='dYVvLwbQUZnpfsjovN12mji3v'\n",
    "app_api_secret_key='jW7M7XIrPgJkQQOk7ZuEkFOOR2VceSsBMWJzBEoLRQ2GCppUQI'\n",
    "## authentification\n",
    "auth=tweepy.AppAuthHandler(app_api_key, app_api_secret_key)\n",
    "api=tweepy.API(auth)\n",
    "\n",
    "print(\"API Host\", api.host)\n",
    "print(\"API Version\", api.api_root)"
   ]
  },
  {
   "cell_type": "code",
   "execution_count": null,
   "id": "6172a339-b0d2-4d8e-ab9c-ec2989e2cf5f",
   "metadata": {},
   "outputs": [],
   "source": []
  }
 ],
 "metadata": {
  "kernelspec": {
   "display_name": "Python 3 (ipykernel)",
   "language": "python",
   "name": "python3"
  },
  "language_info": {
   "codemirror_mode": {
    "name": "ipython",
    "version": 3
   },
   "file_extension": ".py",
   "mimetype": "text/x-python",
   "name": "python",
   "nbconvert_exporter": "python",
   "pygments_lexer": "ipython3",
   "version": "3.11.5"
  }
 },
 "nbformat": 4,
 "nbformat_minor": 5
}
