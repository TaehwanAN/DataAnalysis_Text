{
 "cells": [
  {
   "cell_type": "code",
   "execution_count": 52,
   "id": "17a2f4f3-2647-4659-bffb-34e55c7295b7",
   "metadata": {
    "tags": []
   },
   "outputs": [
    {
     "name": "stdout",
     "output_type": "stream",
     "text": [
      "200\n"
     ]
    }
   ],
   "source": [
    "import requests\n",
    "apiKey='JydSLKAY7G2jdJ699nT03F5Lw922S1zpCWl91c4y'\n",
    "settings={'year':'2023', 'month':'07', 'metroCd':'11', 'returnType':'json'}\n",
    "\n",
    "url=f\"https://bigdata.kepco.co.kr/openapi/v1/powerUsage/houseAve.do?year={settings['year']}&month={settings['month']}&metroCd={settings['metroCd']}&apiKey={apiKey}&returnType={settings['returnType']}\"\n",
    "response=requests.get(url)\n",
    "print(response.status_code)"
   ]
  },
  {
   "cell_type": "code",
   "execution_count": 53,
   "id": "237b0c87-ca84-45c5-abe6-8f9c4c665a8e",
   "metadata": {
    "tags": []
   },
   "outputs": [
    {
     "name": "stdout",
     "output_type": "stream",
     "text": [
      "6 {'year': '2023', 'month': '07', 'metro': '서울특별시', 'city': '광진구', 'houseCnt': 187683, 'powerUsage': 245.38, 'bill': 36337}\n"
     ]
    }
   ],
   "source": [
    "import json\n",
    "response_list=response.json()['data']\n",
    "for i in range(len(response_list)):\n",
    "    if response_list[i]['city']=='광진구':\n",
    "        print(i,response_list[i])"
   ]
  },
  {
   "cell_type": "code",
   "execution_count": null,
   "id": "cf6ccd4b-bc01-4cd3-ac39-d546fe2cab0a",
   "metadata": {},
   "outputs": [],
   "source": []
  }
 ],
 "metadata": {
  "kernelspec": {
   "display_name": "Python 3 (ipykernel)",
   "language": "python",
   "name": "python3"
  },
  "language_info": {
   "codemirror_mode": {
    "name": "ipython",
    "version": 3
   },
   "file_extension": ".py",
   "mimetype": "text/x-python",
   "name": "python",
   "nbconvert_exporter": "python",
   "pygments_lexer": "ipython3",
   "version": "3.11.5"
  }
 },
 "nbformat": 4,
 "nbformat_minor": 5
}
