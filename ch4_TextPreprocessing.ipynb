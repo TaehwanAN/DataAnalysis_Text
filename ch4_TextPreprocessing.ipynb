{
 "cells": [
  {
   "cell_type": "code",
   "execution_count": 32,
   "id": "9780e6de-5600-44ef-a005-d707c048b90b",
   "metadata": {},
   "outputs": [],
   "source": [
    "import os\n",
    "import numpy as np \n",
    "import pandas as pd\n",
    "pd.set_option('display.max_colwidth', None) ## 레코드의 모든 값을 보기 위한 설정(text안짤리게)\n",
    "import matplotlib.pyplot as plt\n",
    "plt.rcParams['font.family'] ='Malgun Gothic'\n",
    "plt.rcParams['axes.unicode_minus'] =False"
   ]
  },
  {
   "cell_type": "markdown",
   "id": "8412742a-3825-452f-ba4e-0990f2897e19",
   "metadata": {},
   "source": [
    "# 4.3 데이터 준비: 레딧 셀프포스트"
   ]
  },
  {
   "cell_type": "code",
   "execution_count": 3,
   "id": "155dce36-5466-4adb-9e8f-05429341686e",
   "metadata": {},
   "outputs": [
    {
     "name": "stdout",
     "output_type": "stream",
     "text": [
      "D:\\user\\Desktop\\DataScience_git\\TextAnalysis\n",
      "['rspct.tsv', 'subreddit_info.csv']\n"
     ]
    }
   ],
   "source": [
    "print(os.getcwd())\n",
    "print(os.listdir('../dataset/RedditSelfPosts/'))\n",
    "# os.chdir('../dataset/RedditSelfPosts/')\n",
    "# print(os.listdir())\n",
    "# os.chdir('../../TextAnalysis/')\n",
    "# print(os.getcwd())"
   ]
  },
  {
   "cell_type": "code",
   "execution_count": 6,
   "id": "0843dc67-b89f-4b9b-a13e-9c77579c2032",
   "metadata": {},
   "outputs": [
    {
     "name": "stdout",
     "output_type": "stream",
     "text": [
      "<class 'pandas.core.frame.DataFrame'>\n",
      "RangeIndex: 1013000 entries, 0 to 1012999\n",
      "Data columns (total 4 columns):\n",
      " #   Column     Non-Null Count    Dtype \n",
      "---  ------     --------------    ----- \n",
      " 0   id         1013000 non-null  object\n",
      " 1   subreddit  1013000 non-null  object\n",
      " 2   title      1013000 non-null  object\n",
      " 3   selftext   1013000 non-null  object\n",
      "dtypes: object(4)\n",
      "memory usage: 30.9+ MB\n"
     ]
    }
   ],
   "source": [
    "dir='../dataset/RedditSelfPosts/'\n",
    "posts_file = 'rspct.tsv'\n",
    "posts_df=pd.read_csv(dir+posts_file, sep='\\t')\n",
    "posts_df.info() ## 사용자들의 게시글. "
   ]
  },
  {
   "cell_type": "code",
   "execution_count": 7,
   "id": "eeed39d5-27e9-43a2-9e7b-a93e7cc8c8d6",
   "metadata": {},
   "outputs": [
    {
     "name": "stdout",
     "output_type": "stream",
     "text": [
      "<class 'pandas.core.frame.DataFrame'>\n",
      "Index: 3394 entries, whatsthatbook to Glitch_in_the_Matrix\n",
      "Data columns (total 5 columns):\n",
      " #   Column                Non-Null Count  Dtype \n",
      "---  ------                --------------  ----- \n",
      " 0   category_1            3394 non-null   object\n",
      " 1   category_2            3362 non-null   object\n",
      " 2   category_3            536 non-null    object\n",
      " 3   in_data               3394 non-null   bool  \n",
      " 4   reason_for_exclusion  2381 non-null   object\n",
      "dtypes: bool(1), object(4)\n",
      "memory usage: 135.9+ KB\n"
     ]
    }
   ],
   "source": [
    "subred_file='subreddit_info.csv'\n",
    "subred_df=pd.read_csv(dir+subred_file).set_index(['subreddit'])\n",
    "subred_df.info() ## subreddit 이라는 커뮤니키에 대한 정보들. 프라이머리키는 subreddit."
   ]
  },
  {
   "cell_type": "code",
   "execution_count": 8,
   "id": "da026510-c46f-4c0c-bda6-d7d13f95f026",
   "metadata": {},
   "outputs": [
    {
     "name": "stdout",
     "output_type": "stream",
     "text": [
      "<class 'pandas.core.frame.DataFrame'>\n",
      "RangeIndex: 1013000 entries, 0 to 1012999\n",
      "Data columns (total 9 columns):\n",
      " #   Column                Non-Null Count    Dtype \n",
      "---  ------                --------------    ----- \n",
      " 0   id                    1013000 non-null  object\n",
      " 1   subreddit             1013000 non-null  object\n",
      " 2   title                 1013000 non-null  object\n",
      " 3   selftext              1013000 non-null  object\n",
      " 4   category_1            1013000 non-null  object\n",
      " 5   category_2            1013000 non-null  object\n",
      " 6   category_3            136000 non-null   object\n",
      " 7   in_data               1013000 non-null  bool  \n",
      " 8   reason_for_exclusion  0 non-null        object\n",
      "dtypes: bool(1), object(8)\n",
      "memory usage: 62.8+ MB\n"
     ]
    }
   ],
   "source": [
    "df=posts_df.join(subred_df, on='subreddit')\n",
    "df.info()"
   ]
  },
  {
   "cell_type": "markdown",
   "id": "774e3049-c071-4e9d-9762-063bc384848c",
   "metadata": {},
   "source": [
    "## EDA"
   ]
  },
  {
   "cell_type": "code",
   "execution_count": 9,
   "id": "41a9bb2a-4778-47bf-b1d8-f8c9f2151728",
   "metadata": {},
   "outputs": [
    {
     "data": {
      "text/html": [
       "<div>\n",
       "<style scoped>\n",
       "    .dataframe tbody tr th:only-of-type {\n",
       "        vertical-align: middle;\n",
       "    }\n",
       "\n",
       "    .dataframe tbody tr th {\n",
       "        vertical-align: top;\n",
       "    }\n",
       "\n",
       "    .dataframe thead th {\n",
       "        text-align: right;\n",
       "    }\n",
       "</style>\n",
       "<table border=\"1\" class=\"dataframe\">\n",
       "  <thead>\n",
       "    <tr style=\"text-align: right;\">\n",
       "      <th></th>\n",
       "      <th>id</th>\n",
       "      <th>subreddit</th>\n",
       "      <th>title</th>\n",
       "      <th>selftext</th>\n",
       "      <th>category_1</th>\n",
       "      <th>category_2</th>\n",
       "      <th>category_3</th>\n",
       "      <th>in_data</th>\n",
       "      <th>reason_for_exclusion</th>\n",
       "    </tr>\n",
       "  </thead>\n",
       "  <tbody>\n",
       "    <tr>\n",
       "      <th>496457</th>\n",
       "      <td>6ae11p</td>\n",
       "      <td>MtvChallenge</td>\n",
       "      <td>\"The hardest final in the history of 'The Chal...</td>\n",
       "      <td>TUHHHHHH what??? Listen I understand that ever...</td>\n",
       "      <td>tv_show</td>\n",
       "      <td>mtv challenge</td>\n",
       "      <td>NaN</td>\n",
       "      <td>True</td>\n",
       "      <td>NaN</td>\n",
       "    </tr>\n",
       "    <tr>\n",
       "      <th>870435</th>\n",
       "      <td>7py9v7</td>\n",
       "      <td>minimalism</td>\n",
       "      <td>Japanese futon: type of pillow to use?</td>\n",
       "      <td>I know there are recent related posts about th...</td>\n",
       "      <td>hobby</td>\n",
       "      <td>interior design</td>\n",
       "      <td>NaN</td>\n",
       "      <td>True</td>\n",
       "      <td>NaN</td>\n",
       "    </tr>\n",
       "    <tr>\n",
       "      <th>193289</th>\n",
       "      <td>6ah3o4</td>\n",
       "      <td>SCREENPRINTING</td>\n",
       "      <td>Black on Black printing</td>\n",
       "      <td>Hey all, I'm looking to do a black on black pr...</td>\n",
       "      <td>arts</td>\n",
       "      <td>screen printing</td>\n",
       "      <td>NaN</td>\n",
       "      <td>True</td>\n",
       "      <td>NaN</td>\n",
       "    </tr>\n",
       "    <tr>\n",
       "      <th>258800</th>\n",
       "      <td>7i3js1</td>\n",
       "      <td>bjj</td>\n",
       "      <td>Best BJJ school for kids in Florida?</td>\n",
       "      <td>My daughter is 6 and has her grey-white belt f...</td>\n",
       "      <td>sports</td>\n",
       "      <td>ju jitsu</td>\n",
       "      <td>NaN</td>\n",
       "      <td>True</td>\n",
       "      <td>NaN</td>\n",
       "    </tr>\n",
       "    <tr>\n",
       "      <th>188584</th>\n",
       "      <td>7uj6xe</td>\n",
       "      <td>pharmacy</td>\n",
       "      <td>do i really need a residency to become a clini...</td>\n",
       "      <td>I have 1 year left of pharmacy school, live in...</td>\n",
       "      <td>profession</td>\n",
       "      <td>healthcare</td>\n",
       "      <td>NaN</td>\n",
       "      <td>True</td>\n",
       "      <td>NaN</td>\n",
       "    </tr>\n",
       "  </tbody>\n",
       "</table>\n",
       "</div>"
      ],
      "text/plain": [
       "            id       subreddit  \\\n",
       "496457  6ae11p    MtvChallenge   \n",
       "870435  7py9v7      minimalism   \n",
       "193289  6ah3o4  SCREENPRINTING   \n",
       "258800  7i3js1             bjj   \n",
       "188584  7uj6xe        pharmacy   \n",
       "\n",
       "                                                    title  \\\n",
       "496457  \"The hardest final in the history of 'The Chal...   \n",
       "870435             Japanese futon: type of pillow to use?   \n",
       "193289                            Black on Black printing   \n",
       "258800               Best BJJ school for kids in Florida?   \n",
       "188584  do i really need a residency to become a clini...   \n",
       "\n",
       "                                                 selftext  category_1  \\\n",
       "496457  TUHHHHHH what??? Listen I understand that ever...     tv_show   \n",
       "870435  I know there are recent related posts about th...       hobby   \n",
       "193289  Hey all, I'm looking to do a black on black pr...        arts   \n",
       "258800  My daughter is 6 and has her grey-white belt f...      sports   \n",
       "188584  I have 1 year left of pharmacy school, live in...  profession   \n",
       "\n",
       "             category_2 category_3  in_data reason_for_exclusion  \n",
       "496457    mtv challenge        NaN     True                  NaN  \n",
       "870435  interior design        NaN     True                  NaN  \n",
       "193289  screen printing        NaN     True                  NaN  \n",
       "258800         ju jitsu        NaN     True                  NaN  \n",
       "188584       healthcare        NaN     True                  NaN  "
      ]
     },
     "metadata": {},
     "output_type": "display_data"
    }
   ],
   "source": [
    "display(df.sample(5))"
   ]
  },
  {
   "cell_type": "code",
   "execution_count": 15,
   "id": "c88223a1-6b1d-483e-bc4f-8c7765192488",
   "metadata": {},
   "outputs": [
    {
     "data": {
      "text/plain": [
       "subreddit        category_1   category_2            category_3\n",
       "ASUS             electronics  laptop/notebook       asus          1000\n",
       "obs              software     video streaming       obs           1000\n",
       "korea            geo          korea                 country       1000\n",
       "lebanon          geo          lebanon               country       1000\n",
       "linuxquestions   software     unix/unix-like        linux         1000\n",
       "                                                                  ... \n",
       "ShieldAndroidTV  electronics  television            shield tv     1000\n",
       "SCCM             software     infrastructure        SCCM          1000\n",
       "Roll20           software     tabletop emulator     roll20        1000\n",
       "Roku             electronics  digital media player  roku          1000\n",
       "ynab             software     budgeting             ynab          1000\n",
       "Name: count, Length: 136, dtype: int64"
      ]
     },
     "execution_count": 15,
     "metadata": {},
     "output_type": "execute_result"
    }
   ],
   "source": [
    "df[['subreddit','category_1','category_2','category_3']].value_counts()"
   ]
  },
  {
   "cell_type": "code",
   "execution_count": 18,
   "id": "897666a2-c98e-435f-9c27-65bd6748a3d1",
   "metadata": {},
   "outputs": [
    {
     "data": {
      "text/plain": [
       "array(['writing/stories', 'tv_show', 'autos', 'hardware/tools',\n",
       "       'electronics', 'video_game', 'crypto', 'sports', 'hobby',\n",
       "       'appearance', 'card_game', 'drugs', 'advice/question',\n",
       "       'social_group', 'anime/manga', 'sex/relationships', 'software',\n",
       "       'health', 'other', 'animals', 'arts', 'programming', 'rpg',\n",
       "       'books', 'parenting', 'education', 'company/website', 'profession',\n",
       "       'music', 'politics/viewpoint', 'stem', 'travel', 'geo',\n",
       "       'religion/supernatural', 'board_game', 'movies', 'food/drink',\n",
       "       'finance/money', 'meta'], dtype=object)"
      ]
     },
     "execution_count": 18,
     "metadata": {},
     "output_type": "execute_result"
    }
   ],
   "source": [
    "df['category_1'].unique()"
   ]
  },
  {
   "cell_type": "code",
   "execution_count": 19,
   "id": "8e35a809-ce04-4f7a-8f8b-2020cfdcb666",
   "metadata": {},
   "outputs": [
    {
     "data": {
      "text/plain": [
       "array(['tech support', 'teen mom', 'harley davidson', ..., 'halo',\n",
       "       'grand theft auto', 'mead'], dtype=object)"
      ]
     },
     "execution_count": 19,
     "metadata": {},
     "output_type": "execute_result"
    }
   ],
   "source": [
    "df['category_2'].unique()"
   ]
  },
  {
   "cell_type": "code",
   "execution_count": 20,
   "id": "99e43561-9d20-4204-88d4-1a3a80b9d939",
   "metadata": {},
   "outputs": [
    {
     "data": {
      "text/plain": [
       "array([nan, 'intel', 'oculus rift', 'garmin', 'sharepoint', 'gamestop',\n",
       "       'uber', 'cloud9', 'microsoft', 'country', 'home assistant', 'tor',\n",
       "       'hue', 'costco', 'taco bell', 'movie pass club', 'snapchat',\n",
       "       'excel', 'synology', 'dji', 'wacom', 'sony', 'obs', 'nest',\n",
       "       'vmware', 'knife club', 'starbucks', 'android auto', 'tinder',\n",
       "       'valve', 'magento', 'roku', 'autohotkey', 'solidworks', 'thinkpad',\n",
       "       'premiere', 'ynab', 'corsair', 'spacex', 'unreal', 'windows',\n",
       "       'lineage os', 'cemu', 'amazon', 'adobe illustrator', 'discord',\n",
       "       'mac os', 'pfsense', 'postmates', 'outlook', 'arduino', 'sonarr',\n",
       "       'verizon', 'instacart', 'google', 'criterion', 'shield tv',\n",
       "       'roll20', 'nvidia', 'tableau', 'samsung', 'word press', 'origin',\n",
       "       'boosted', 'tasker', 'onenote', 'lime technology', 'cisco',\n",
       "       'crossfit', 'if then then that', 'nintendo', 'kodi', 'homelab',\n",
       "       'audible', 'u block', 'walmart', 'airbnb', 'home depot', 'swift',\n",
       "       'kickstarter', 'workflow', 'SCCM', 'staples', 'pihole',\n",
       "       'salesforce', 'linux', 'beauty box', 'firefox', 'juul', 'asus',\n",
       "       'radarr', 'gopro', 'fitbit', 'raspberrypi', 'rainmeter', 'anki',\n",
       "       'microsoft access', 'ableton', 'ikea', 'freenas', 'paypal',\n",
       "       'apple', 'spotify', 'blender', 'pebble', 'trezor'], dtype=object)"
      ]
     },
     "execution_count": 20,
     "metadata": {},
     "output_type": "execute_result"
    }
   ],
   "source": [
    "df['category_3'].unique()"
   ]
  },
  {
   "cell_type": "code",
   "execution_count": 22,
   "id": "07a0882e-8639-4b80-81e3-7bd0731deb79",
   "metadata": {},
   "outputs": [
    {
     "data": {
      "text/plain": [
       "id                            0\n",
       "subreddit                     0\n",
       "title                         0\n",
       "selftext                      0\n",
       "category_1                    0\n",
       "category_2                    0\n",
       "category_3               877000\n",
       "in_data                       0\n",
       "reason_for_exclusion    1013000\n",
       "dtype: int64"
      ]
     },
     "execution_count": 22,
     "metadata": {},
     "output_type": "execute_result"
    }
   ],
   "source": [
    "df.isna().sum()"
   ]
  },
  {
   "cell_type": "markdown",
   "id": "eea38d87-9a11-4a65-ac84-b0150d7cfaeb",
   "metadata": {},
   "source": [
    "## 컬럼(속성) 표준화\n",
    "- 1. 사용하지 않을 컬럼과 사용할 컬럼으로 나눈다.\n",
    "  2. 사용할 컬럼의 이름을 일반적인 컬럼명으로 변경해주고, 사용하지 않을 컬럼의 이름에는 None을 붙인다.\n",
    "  3. 사용하지 않을 컬럼을 삭제한다.\n",
    "- 목적: 100만건의 데이터는 너무 방대하므로, 카테고리가 \"autos\"인 데이터 2만건만 추출해낸다."
   ]
  },
  {
   "cell_type": "code",
   "execution_count": 24,
   "id": "a2667346-5f4f-49cf-bb92-0380ccf906a0",
   "metadata": {},
   "outputs": [
    {
     "data": {
      "text/plain": [
       "Index(['id', 'subreddit', 'title', 'selftext', 'category_1', 'category_2',\n",
       "       'category_3', 'in_data', 'reason_for_exclusion'],\n",
       "      dtype='object')"
      ]
     },
     "execution_count": 24,
     "metadata": {},
     "output_type": "execute_result"
    }
   ],
   "source": [
    "df.columns"
   ]
  },
  {
   "cell_type": "code",
   "execution_count": 28,
   "id": "17e05d71-c0ac-4b23-938d-9b20662f2c84",
   "metadata": {},
   "outputs": [
    {
     "data": {
      "text/html": [
       "<div>\n",
       "<style scoped>\n",
       "    .dataframe tbody tr th:only-of-type {\n",
       "        vertical-align: middle;\n",
       "    }\n",
       "\n",
       "    .dataframe tbody tr th {\n",
       "        vertical-align: top;\n",
       "    }\n",
       "\n",
       "    .dataframe thead th {\n",
       "        text-align: right;\n",
       "    }\n",
       "</style>\n",
       "<table border=\"1\" class=\"dataframe\">\n",
       "  <thead>\n",
       "    <tr style=\"text-align: right;\">\n",
       "      <th></th>\n",
       "      <th>id</th>\n",
       "      <th>subreddit</th>\n",
       "      <th>title</th>\n",
       "      <th>text</th>\n",
       "      <th>category</th>\n",
       "      <th>subcategory</th>\n",
       "    </tr>\n",
       "  </thead>\n",
       "  <tbody>\n",
       "    <tr>\n",
       "      <th>0</th>\n",
       "      <td>6d8knd</td>\n",
       "      <td>talesfromtechsupport</td>\n",
       "      <td>Remember your command line switches...</td>\n",
       "      <td>Hi there,  &lt;lb&gt;The usual. Long time lerker, fi...</td>\n",
       "      <td>writing/stories</td>\n",
       "      <td>tech support</td>\n",
       "    </tr>\n",
       "    <tr>\n",
       "      <th>1</th>\n",
       "      <td>58mbft</td>\n",
       "      <td>teenmom</td>\n",
       "      <td>So what was Matt \"addicted\" to?</td>\n",
       "      <td>Did he ever say what his addiction was or is h...</td>\n",
       "      <td>tv_show</td>\n",
       "      <td>teen mom</td>\n",
       "    </tr>\n",
       "    <tr>\n",
       "      <th>2</th>\n",
       "      <td>8f73s7</td>\n",
       "      <td>Harley</td>\n",
       "      <td>No Club Colors</td>\n",
       "      <td>Funny story. I went to college in Las Vegas. T...</td>\n",
       "      <td>autos</td>\n",
       "      <td>harley davidson</td>\n",
       "    </tr>\n",
       "    <tr>\n",
       "      <th>3</th>\n",
       "      <td>6ti6re</td>\n",
       "      <td>ringdoorbell</td>\n",
       "      <td>Not door bell, but floodlight mount height.</td>\n",
       "      <td>I know this is a sub for the 'Ring Doorbell' b...</td>\n",
       "      <td>hardware/tools</td>\n",
       "      <td>doorbells</td>\n",
       "    </tr>\n",
       "    <tr>\n",
       "      <th>4</th>\n",
       "      <td>77sxto</td>\n",
       "      <td>intel</td>\n",
       "      <td>Worried about my 8700k small fft/data stress r...</td>\n",
       "      <td>Prime95 (regardless of version) and OCCT both,...</td>\n",
       "      <td>electronics</td>\n",
       "      <td>cpu</td>\n",
       "    </tr>\n",
       "    <tr>\n",
       "      <th>...</th>\n",
       "      <td>...</td>\n",
       "      <td>...</td>\n",
       "      <td>...</td>\n",
       "      <td>...</td>\n",
       "      <td>...</td>\n",
       "      <td>...</td>\n",
       "    </tr>\n",
       "    <tr>\n",
       "      <th>1012995</th>\n",
       "      <td>5r9k4h</td>\n",
       "      <td>MSLGame</td>\n",
       "      <td>Is this months rebirth and dungeon astro's wor...</td>\n",
       "      <td>I looking on what to evo3 farm next and was ex...</td>\n",
       "      <td>video_game</td>\n",
       "      <td>monster super league</td>\n",
       "    </tr>\n",
       "    <tr>\n",
       "      <th>1012996</th>\n",
       "      <td>6529fp</td>\n",
       "      <td>CrohnsDisease</td>\n",
       "      <td>I might need a Medical leave from grad school</td>\n",
       "      <td>Has anyone here ever needed a medical leave fr...</td>\n",
       "      <td>health</td>\n",
       "      <td>crohns disease</td>\n",
       "    </tr>\n",
       "    <tr>\n",
       "      <th>1012997</th>\n",
       "      <td>7tiyzx</td>\n",
       "      <td>HongKong</td>\n",
       "      <td>Police harassing ethnic minorities in Hong Kong</td>\n",
       "      <td>I thought I'd make this post so that more peop...</td>\n",
       "      <td>geo</td>\n",
       "      <td>hong kong</td>\n",
       "    </tr>\n",
       "    <tr>\n",
       "      <th>1012998</th>\n",
       "      <td>664ha3</td>\n",
       "      <td>yorku</td>\n",
       "      <td>SU EECS 2030 and EECS 2021 - need advice</td>\n",
       "      <td>Hi, I just finished 1st year EECS courses and ...</td>\n",
       "      <td>education</td>\n",
       "      <td>university</td>\n",
       "    </tr>\n",
       "    <tr>\n",
       "      <th>1012999</th>\n",
       "      <td>6ump0y</td>\n",
       "      <td>wine</td>\n",
       "      <td>What is the worse wine you ever had?</td>\n",
       "      <td>My worst wine was at a dinner party. My friend...</td>\n",
       "      <td>food/drink</td>\n",
       "      <td>wine</td>\n",
       "    </tr>\n",
       "  </tbody>\n",
       "</table>\n",
       "<p>1013000 rows × 6 columns</p>\n",
       "</div>"
      ],
      "text/plain": [
       "             id             subreddit  \\\n",
       "0        6d8knd  talesfromtechsupport   \n",
       "1        58mbft               teenmom   \n",
       "2        8f73s7                Harley   \n",
       "3        6ti6re          ringdoorbell   \n",
       "4        77sxto                 intel   \n",
       "...         ...                   ...   \n",
       "1012995  5r9k4h               MSLGame   \n",
       "1012996  6529fp         CrohnsDisease   \n",
       "1012997  7tiyzx              HongKong   \n",
       "1012998  664ha3                 yorku   \n",
       "1012999  6ump0y                  wine   \n",
       "\n",
       "                                                     title  \\\n",
       "0                   Remember your command line switches...   \n",
       "1                          So what was Matt \"addicted\" to?   \n",
       "2                                           No Club Colors   \n",
       "3              Not door bell, but floodlight mount height.   \n",
       "4        Worried about my 8700k small fft/data stress r...   \n",
       "...                                                    ...   \n",
       "1012995  Is this months rebirth and dungeon astro's wor...   \n",
       "1012996      I might need a Medical leave from grad school   \n",
       "1012997    Police harassing ethnic minorities in Hong Kong   \n",
       "1012998           SU EECS 2030 and EECS 2021 - need advice   \n",
       "1012999               What is the worse wine you ever had?   \n",
       "\n",
       "                                                      text         category  \\\n",
       "0        Hi there,  <lb>The usual. Long time lerker, fi...  writing/stories   \n",
       "1        Did he ever say what his addiction was or is h...          tv_show   \n",
       "2        Funny story. I went to college in Las Vegas. T...            autos   \n",
       "3        I know this is a sub for the 'Ring Doorbell' b...   hardware/tools   \n",
       "4        Prime95 (regardless of version) and OCCT both,...      electronics   \n",
       "...                                                    ...              ...   \n",
       "1012995  I looking on what to evo3 farm next and was ex...       video_game   \n",
       "1012996  Has anyone here ever needed a medical leave fr...           health   \n",
       "1012997  I thought I'd make this post so that more peop...              geo   \n",
       "1012998  Hi, I just finished 1st year EECS courses and ...        education   \n",
       "1012999  My worst wine was at a dinner party. My friend...       food/drink   \n",
       "\n",
       "                  subcategory  \n",
       "0                tech support  \n",
       "1                    teen mom  \n",
       "2             harley davidson  \n",
       "3                   doorbells  \n",
       "4                         cpu  \n",
       "...                       ...  \n",
       "1012995  monster super league  \n",
       "1012996        crohns disease  \n",
       "1012997             hong kong  \n",
       "1012998            university  \n",
       "1012999                  wine  \n",
       "\n",
       "[1013000 rows x 6 columns]"
      ]
     },
     "execution_count": 28,
     "metadata": {},
     "output_type": "execute_result"
    }
   ],
   "source": [
    "df.columns=['id', 'subreddit', 'title', 'text', 'category', 'subcategory',\n",
    "            None, None, None] \n",
    "# 필요 없는 카테고리3, 인데이터, 배제사유 날려버리기\n",
    "df=df.drop([col for col in df.columns if col==None],axis=1)"
   ]
  },
  {
   "cell_type": "code",
   "execution_count": 37,
   "id": "1603162f-ec30-4736-898f-23ec1182531c",
   "metadata": {},
   "outputs": [
    {
     "data": {
      "text/html": [
       "<div>\n",
       "<style scoped>\n",
       "    .dataframe tbody tr th:only-of-type {\n",
       "        vertical-align: middle;\n",
       "    }\n",
       "\n",
       "    .dataframe tbody tr th {\n",
       "        vertical-align: top;\n",
       "    }\n",
       "\n",
       "    .dataframe thead th {\n",
       "        text-align: right;\n",
       "    }\n",
       "</style>\n",
       "<table border=\"1\" class=\"dataframe\">\n",
       "  <thead>\n",
       "    <tr style=\"text-align: right;\">\n",
       "      <th></th>\n",
       "      <th>751902</th>\n",
       "    </tr>\n",
       "  </thead>\n",
       "  <tbody>\n",
       "    <tr>\n",
       "      <th>id</th>\n",
       "      <td>7z9d1r</td>\n",
       "    </tr>\n",
       "    <tr>\n",
       "      <th>subreddit</th>\n",
       "      <td>msp</td>\n",
       "    </tr>\n",
       "    <tr>\n",
       "      <th>title</th>\n",
       "      <td>Hosted Exchange in EU</td>\n",
       "    </tr>\n",
       "    <tr>\n",
       "      <th>text</th>\n",
       "      <td>I am looking for Hosted Exchange (preferable 2016) service providers that have theirs servers in Europe. I am primarily interested in the non-UK based ones. It turned out to be not such an easy task, but I did find a few. Unfortunately, they either are very small players and do not have their trust built just yet or have many negative reviews. Could you please advise me, which are the biggest Hosted Exchange service providers in Europe?</td>\n",
       "    </tr>\n",
       "    <tr>\n",
       "      <th>category</th>\n",
       "      <td>profession</td>\n",
       "    </tr>\n",
       "    <tr>\n",
       "      <th>subcategory</th>\n",
       "      <td>msp</td>\n",
       "    </tr>\n",
       "  </tbody>\n",
       "</table>\n",
       "</div>"
      ],
      "text/plain": [
       "                                                                                                                                                                                                                                                                                                                                                                                                                                                               751902\n",
       "id                                                                                                                                                                                                                                                                                                                                                                                                                                                             7z9d1r\n",
       "subreddit                                                                                                                                                                                                                                                                                                                                                                                                                                                         msp\n",
       "title                                                                                                                                                                                                                                                                                                                                                                                                                                           Hosted Exchange in EU\n",
       "text         I am looking for Hosted Exchange (preferable 2016) service providers that have theirs servers in Europe. I am primarily interested in the non-UK based ones. It turned out to be not such an easy task, but I did find a few. Unfortunately, they either are very small players and do not have their trust built just yet or have many negative reviews. Could you please advise me, which are the biggest Hosted Exchange service providers in Europe?\n",
       "category                                                                                                                                                                                                                                                                                                                                                                                                                                                   profession\n",
       "subcategory                                                                                                                                                                                                                                                                                                                                                                                                                                                       msp"
      ]
     },
     "metadata": {},
     "output_type": "display_data"
    }
   ],
   "source": [
    "display(df.sample(1).T)"
   ]
  },
  {
   "cell_type": "code",
   "execution_count": 38,
   "id": "ad00d366-7902-4395-bf6b-aada2ec53543",
   "metadata": {},
   "outputs": [
    {
     "name": "stdout",
     "output_type": "stream",
     "text": [
      "<class 'pandas.core.frame.DataFrame'>\n",
      "Index: 20000 entries, 2 to 1012979\n",
      "Data columns (total 6 columns):\n",
      " #   Column       Non-Null Count  Dtype \n",
      "---  ------       --------------  ----- \n",
      " 0   id           20000 non-null  object\n",
      " 1   subreddit    20000 non-null  object\n",
      " 2   title        20000 non-null  object\n",
      " 3   text         20000 non-null  object\n",
      " 4   category     20000 non-null  object\n",
      " 5   subcategory  20000 non-null  object\n",
      "dtypes: object(6)\n",
      "memory usage: 1.1+ MB\n"
     ]
    }
   ],
   "source": [
    "## \"autos\" category 추출\n",
    "df = df[df['category']=='autos']\n",
    "df.info()"
   ]
  },
  {
   "cell_type": "markdown",
   "id": "dd95e134-b5d9-4ddb-a810-e1bb5cd72cd4",
   "metadata": {},
   "source": [
    "## sqlite3 : autos 데이터프레임 SQL DB로 저장하기\n",
    "- 피클은 파이썬에서만 사용할 수 있다.\n",
    "- 데이터프레임은 SQL의 이점을 이용할 수 있으므로, SQL Lite으로 저장한다.\n",
    "\n",
    "- - 아래는 df.to_sql 함수의 주요 파라미터들입니다. \n",
    "- 1. name: DataFrame을 쓸 SQL 테이블의 이름입니다.\n",
    "  2. con: SQLAlchemy 연결 객체입니다. 데이터베이스 연결 정보를 설정합니다.\n",
    "  3. schema: 테이블의 스키마 이름 (기본값은 None).\n",
    "  4. if_exists: 테이블이 이미 존재할 경우의 동작을 지정합니다. 옵션으로는 'fail' (기본값, 테이블이 이미 존재하면 실패), 'replace' (테이블을 덮어씀), 'append' (테이블에 추가)이 있습니다.\n",
    "  5. index: DataFrame의 인덱스를 데이터베이스 테이블의 인덱스로 사용할지 여부를 지정합니다 (기본값은 True).\n",
    "  6. index_label: 인덱스 열의 이름을 지정합니다.\n",
    "  7. chunksize: 한 번에 쓰는 레코드 수를 지정합니다.\n",
    "  8. dtype: 열의 데이터 유형을 지정합니다.\n",
    "  9. method: 데이터를 쓰는 방법을 지정합니다.방법을 지정합니다."
   ]
  },
  {
   "cell_type": "code",
   "execution_count": 39,
   "id": "30b22b08-4244-44e3-b5d8-3d1aa7ef827c",
   "metadata": {},
   "outputs": [
    {
     "data": {
      "text/plain": [
       "20000"
      ]
     },
     "execution_count": 39,
     "metadata": {},
     "output_type": "execute_result"
    }
   ],
   "source": [
    "## 저장\n",
    "import sqlite3\n",
    "save_dir=\"../output/\"\n",
    "db_name=\"reddit-selfposts.db\"\n",
    "con=sqlite3.connect(save_dir+db_name)\n",
    "df.to_sql(\"posts\", con, index=False, if_exists='replace')"
   ]
  },
  {
   "cell_type": "code",
   "execution_count": 41,
   "id": "e075e0d6-8929-4652-8da4-6463e44d8e96",
   "metadata": {},
   "outputs": [],
   "source": [
    "## 읽기\n",
    "con=sqlite3.connect(save_dir+db_name)\n",
    "df=pd.read_sql(\"select * from posts\", con)\n",
    "con.close()"
   ]
  },
  {
   "cell_type": "code",
   "execution_count": 42,
   "id": "3fcbb505-c72e-461c-857e-cb99f6426804",
   "metadata": {},
   "outputs": [
    {
     "data": {
      "text/html": [
       "<div>\n",
       "<style scoped>\n",
       "    .dataframe tbody tr th:only-of-type {\n",
       "        vertical-align: middle;\n",
       "    }\n",
       "\n",
       "    .dataframe tbody tr th {\n",
       "        vertical-align: top;\n",
       "    }\n",
       "\n",
       "    .dataframe thead th {\n",
       "        text-align: right;\n",
       "    }\n",
       "</style>\n",
       "<table border=\"1\" class=\"dataframe\">\n",
       "  <thead>\n",
       "    <tr style=\"text-align: right;\">\n",
       "      <th></th>\n",
       "      <th>id</th>\n",
       "      <th>subreddit</th>\n",
       "      <th>title</th>\n",
       "      <th>text</th>\n",
       "      <th>category</th>\n",
       "      <th>subcategory</th>\n",
       "    </tr>\n",
       "  </thead>\n",
       "  <tbody>\n",
       "    <tr>\n",
       "      <th>0</th>\n",
       "      <td>8f73s7</td>\n",
       "      <td>Harley</td>\n",
       "      <td>No Club Colors</td>\n",
       "      <td>Funny story. I went to college in Las Vegas. This was before I knew anything about motorcycling whatsoever. Me and some college buddies would always go out on the strip to the dance clubs. We always ended up at a bar called Hogs &amp;amp; Heifers. It's worth noting the females working there can outdrink ANYONE. Anyway, there was a sign on the front door that read 'No Club Colors'. So we lose our ties and blazers before heading there. Also we assumed bright colors like red, yellow, green etc were not allowed. So we would always bring an xtra t-shirt and pair of jeans. This went on for years! Looking back now on how naive we were, it's just hilarious. I was never able to walk out of that bar....had to crawl out! So much booze. &lt;lb&gt;&lt;lb&gt;Cheers. Ride safe, boys!</td>\n",
       "      <td>autos</td>\n",
       "      <td>harley davidson</td>\n",
       "    </tr>\n",
       "    <tr>\n",
       "      <th>1</th>\n",
       "      <td>5s0q8r</td>\n",
       "      <td>Mustang</td>\n",
       "      <td>Roush vs Shleby GT500</td>\n",
       "      <td>I am trying to determine which is faster, and I've seen the dealership video with the two racing(Roush won 2/3). But I was wondering if it was just because of the bigass supercharger in the Roush. &lt;lb&gt;&lt;lb&gt;&lt;lb&gt;Also I can't find the same specs on any two websites, what are some trustworthy sources for this kind of thing?</td>\n",
       "      <td>autos</td>\n",
       "      <td>ford</td>\n",
       "    </tr>\n",
       "    <tr>\n",
       "      <th>2</th>\n",
       "      <td>5z3405</td>\n",
       "      <td>Volkswagen</td>\n",
       "      <td>2001 Golf Wagon looking for some insight</td>\n",
       "      <td>Hello! &lt;lb&gt;&lt;lb&gt;Trying to find some information on replacing a 2001 Golf Wagon starter (gas).... mine's gone out and going to the dealership is quite out of the range right now. Nor is it in the biggest of rushes. &lt;lb&gt;&lt;lb&gt;I live in Japan, and I'm wondering if anyone had any international shipping websites they could recommend and if they had any direction on how to replace it as manuals are oh-so-specific (and not to mention, in Japanese). TIA</td>\n",
       "      <td>autos</td>\n",
       "      <td>VW</td>\n",
       "    </tr>\n",
       "    <tr>\n",
       "      <th>3</th>\n",
       "      <td>7df18v</td>\n",
       "      <td>Lexus</td>\n",
       "      <td>IS 250 Coolant Flush/Change</td>\n",
       "      <td>https://www.cars.com/articles/how-often-should-i-change-engine-coolant-1420680853669/&lt;lb&gt;&lt;lb&gt;I have a IS 250 AWD from 2006. About 73K miles on it. I've never touched the engine radiator coolant and can't find anything on when to change this in the book. It just says 'long life 100k Toyota coolant.' &lt;lb&gt;&lt;lb&gt;Does anyone get this flushed or changed at ten years?? Do I wait until 100k?</td>\n",
       "      <td>autos</td>\n",
       "      <td>lexus</td>\n",
       "    </tr>\n",
       "    <tr>\n",
       "      <th>4</th>\n",
       "      <td>5tpve8</td>\n",
       "      <td>volt</td>\n",
       "      <td>Gen1 mpg w/ dead battery?</td>\n",
       "      <td>Hi, new to this subreddit.  I'm considering buying a Gen1 Volt, but I can't find any straight answers as to what kind of mpg it gets after the battery is completely dead (say I take a 300 mile trip).  What kind of highway mpg does the Gen1 volt get after the battery is depleted?</td>\n",
       "      <td>autos</td>\n",
       "      <td>chevrolet</td>\n",
       "    </tr>\n",
       "    <tr>\n",
       "      <th>...</th>\n",
       "      <td>...</td>\n",
       "      <td>...</td>\n",
       "      <td>...</td>\n",
       "      <td>...</td>\n",
       "      <td>...</td>\n",
       "      <td>...</td>\n",
       "    </tr>\n",
       "    <tr>\n",
       "      <th>19995</th>\n",
       "      <td>7i2k6y</td>\n",
       "      <td>4Runner</td>\n",
       "      <td>Bilstein Shocks</td>\n",
       "      <td>I read a lot Forums and people recommend getting TUNDRA Bilstein Shocks for a 3rd gen 4 runner, what is the difference? and why do they recommend that? I bought Springs tundra Springs for the front and 1997 landcruiser springs fro the rear now I just need shocks. &lt;lb&gt;Thank you</td>\n",
       "      <td>autos</td>\n",
       "      <td>toyota</td>\n",
       "    </tr>\n",
       "    <tr>\n",
       "      <th>19996</th>\n",
       "      <td>83p2kv</td>\n",
       "      <td>Harley</td>\n",
       "      <td>Question on potential purchase of crashed bike.</td>\n",
       "      <td>I am thinking about  buying a 2010 Harley Sportster 1200 custom for $6k with 7k miles. It has Vance radius pipes, t bars, screaming eagle filters, sissy bar, new seat and either a new tank or a new paint job as it does not say Harley Davidson on the tank anywhere but has pin stripes.. the title it’s clean but it just seems to good to be true and the sales man has no record of it being in a accident or not. The Title has been transferred to 5 different owners (can not see prices) I really want this bike but I’m skeptical. Any ideas or tips to look for?</td>\n",
       "      <td>autos</td>\n",
       "      <td>harley davidson</td>\n",
       "    </tr>\n",
       "    <tr>\n",
       "      <th>19997</th>\n",
       "      <td>7x722h</td>\n",
       "      <td>volt</td>\n",
       "      <td>Got our first warning light on our dash</td>\n",
       "      <td>My husband and I were headed somewhere and I was cold. So, I figured I could turn the car on before he unplugged it. When it turned on it was fine. Then he got into the drivers seat ten seconds later and we got a \"check charging system\" any suggestions? I figure I messed it up by turning it on before unplugging it *facepalm*</td>\n",
       "      <td>autos</td>\n",
       "      <td>chevrolet</td>\n",
       "    </tr>\n",
       "    <tr>\n",
       "      <th>19998</th>\n",
       "      <td>7v2xmg</td>\n",
       "      <td>Lexus</td>\n",
       "      <td>Any IS models to avoid?</td>\n",
       "      <td>I am looking at getting a used Lexus IS (2014 model year and newer). Are there any trim levels that I should avoid? Thinking about getting a 250, however, I might spend a little bit more and get a 350 if there is a significant performance increase, but I wanted to know if there is anything I should know about the lineup before I pull the trigger. I am really liking the white exterior and red interior combo.</td>\n",
       "      <td>autos</td>\n",
       "      <td>lexus</td>\n",
       "    </tr>\n",
       "    <tr>\n",
       "      <th>19999</th>\n",
       "      <td>8dxx3b</td>\n",
       "      <td>mercedes_benz</td>\n",
       "      <td>Advice please. Looking at a 2011 E550 with 71K miles. Good car?</td>\n",
       "      <td>Looking for some help. I've never owned any luxury car. Especially not a Mercedes. My husband's old commander in the Air Force is leaving the area and offering us his E550 for $15K. &lt;lb&gt;&lt;lb&gt;Seems like a good price but I have no idea about a German car as all I've ever owned are cars less than $25K new. It's loaded with every feature but NOT a 4Matic or AMG. We're test driving it tomorrow. Should we get it inspected? Anyone else own this or a similar model? Thanks!&lt;lb&gt;&lt;lb&gt;I drive for Uber p/t so might be using it for that too.</td>\n",
       "      <td>autos</td>\n",
       "      <td>mercedes</td>\n",
       "    </tr>\n",
       "  </tbody>\n",
       "</table>\n",
       "<p>20000 rows × 6 columns</p>\n",
       "</div>"
      ],
      "text/plain": [
       "           id      subreddit  \\\n",
       "0      8f73s7         Harley   \n",
       "1      5s0q8r        Mustang   \n",
       "2      5z3405     Volkswagen   \n",
       "3      7df18v          Lexus   \n",
       "4      5tpve8           volt   \n",
       "...       ...            ...   \n",
       "19995  7i2k6y        4Runner   \n",
       "19996  83p2kv         Harley   \n",
       "19997  7x722h           volt   \n",
       "19998  7v2xmg          Lexus   \n",
       "19999  8dxx3b  mercedes_benz   \n",
       "\n",
       "                                                                 title  \\\n",
       "0                                                       No Club Colors   \n",
       "1                                                Roush vs Shleby GT500   \n",
       "2                             2001 Golf Wagon looking for some insight   \n",
       "3                                          IS 250 Coolant Flush/Change   \n",
       "4                                            Gen1 mpg w/ dead battery?   \n",
       "...                                                                ...   \n",
       "19995                                                  Bilstein Shocks   \n",
       "19996                  Question on potential purchase of crashed bike.   \n",
       "19997                          Got our first warning light on our dash   \n",
       "19998                                          Any IS models to avoid?   \n",
       "19999  Advice please. Looking at a 2011 E550 with 71K miles. Good car?   \n",
       "\n",
       "                                                                                                                                                                                                                                                                                                                                                                                                                                                                                                                                                                                                                                                                                                                                                                                               text  \\\n",
       "0      Funny story. I went to college in Las Vegas. This was before I knew anything about motorcycling whatsoever. Me and some college buddies would always go out on the strip to the dance clubs. We always ended up at a bar called Hogs &amp; Heifers. It's worth noting the females working there can outdrink ANYONE. Anyway, there was a sign on the front door that read 'No Club Colors'. So we lose our ties and blazers before heading there. Also we assumed bright colors like red, yellow, green etc were not allowed. So we would always bring an xtra t-shirt and pair of jeans. This went on for years! Looking back now on how naive we were, it's just hilarious. I was never able to walk out of that bar....had to crawl out! So much booze. <lb><lb>Cheers. Ride safe, boys!    \n",
       "1                                                                                                                                                                                                                                                                                                                                                                                                                                                                  I am trying to determine which is faster, and I've seen the dealership video with the two racing(Roush won 2/3). But I was wondering if it was just because of the bigass supercharger in the Roush. <lb><lb><lb>Also I can't find the same specs on any two websites, what are some trustworthy sources for this kind of thing?   \n",
       "2                                                                                                                                                                                                                                                                                                                                    Hello! <lb><lb>Trying to find some information on replacing a 2001 Golf Wagon starter (gas).... mine's gone out and going to the dealership is quite out of the range right now. Nor is it in the biggest of rushes. <lb><lb>I live in Japan, and I'm wondering if anyone had any international shipping websites they could recommend and if they had any direction on how to replace it as manuals are oh-so-specific (and not to mention, in Japanese). TIA   \n",
       "3                                                                                                                                                                                                                                                                                                                                                                                                 https://www.cars.com/articles/how-often-should-i-change-engine-coolant-1420680853669/<lb><lb>I have a IS 250 AWD from 2006. About 73K miles on it. I've never touched the engine radiator coolant and can't find anything on when to change this in the book. It just says 'long life 100k Toyota coolant.' <lb><lb>Does anyone get this flushed or changed at ten years?? Do I wait until 100k?    \n",
       "4                                                                                                                                                                                                                                                                                                                                                                                                                                                                                                          Hi, new to this subreddit.  I'm considering buying a Gen1 Volt, but I can't find any straight answers as to what kind of mpg it gets after the battery is completely dead (say I take a 300 mile trip).  What kind of highway mpg does the Gen1 volt get after the battery is depleted?    \n",
       "...                                                                                                                                                                                                                                                                                                                                                                                                                                                                                                                                                                                                                                                                                                                                                                                             ...   \n",
       "19995                                                                                                                                                                                                                                                                                                                                                                                                                                                                                                         I read a lot Forums and people recommend getting TUNDRA Bilstein Shocks for a 3rd gen 4 runner, what is the difference? and why do they recommend that? I bought Springs tundra Springs for the front and 1997 landcruiser springs fro the rear now I just need shocks. <lb>Thank you   \n",
       "19996                                                                                                                                                                                                                 I am thinking about  buying a 2010 Harley Sportster 1200 custom for $6k with 7k miles. It has Vance radius pipes, t bars, screaming eagle filters, sissy bar, new seat and either a new tank or a new paint job as it does not say Harley Davidson on the tank anywhere but has pin stripes.. the title it’s clean but it just seems to good to be true and the sales man has no record of it being in a accident or not. The Title has been transferred to 5 different owners (can not see prices) I really want this bike but I’m skeptical. Any ideas or tips to look for?   \n",
       "19997                                                                                                                                                                                                                                                                                                                                                                                                                                                        My husband and I were headed somewhere and I was cold. So, I figured I could turn the car on before he unplugged it. When it turned on it was fine. Then he got into the drivers seat ten seconds later and we got a \"check charging system\" any suggestions? I figure I messed it up by turning it on before unplugging it *facepalm*   \n",
       "19998                                                                                                                                                                                                                                                                                                                                                                    I am looking at getting a used Lexus IS (2014 model year and newer). Are there any trim levels that I should avoid? Thinking about getting a 250, however, I might spend a little bit more and get a 350 if there is a significant performance increase, but I wanted to know if there is anything I should know about the lineup before I pull the trigger. I am really liking the white exterior and red interior combo.   \n",
       "19999                                                                                                                                                                                                                                           Looking for some help. I've never owned any luxury car. Especially not a Mercedes. My husband's old commander in the Air Force is leaving the area and offering us his E550 for $15K. <lb><lb>Seems like a good price but I have no idea about a German car as all I've ever owned are cars less than $25K new. It's loaded with every feature but NOT a 4Matic or AMG. We're test driving it tomorrow. Should we get it inspected? Anyone else own this or a similar model? Thanks!<lb><lb>I drive for Uber p/t so might be using it for that too.   \n",
       "\n",
       "      category      subcategory  \n",
       "0        autos  harley davidson  \n",
       "1        autos             ford  \n",
       "2        autos               VW  \n",
       "3        autos            lexus  \n",
       "4        autos        chevrolet  \n",
       "...        ...              ...  \n",
       "19995    autos           toyota  \n",
       "19996    autos  harley davidson  \n",
       "19997    autos        chevrolet  \n",
       "19998    autos            lexus  \n",
       "19999    autos         mercedes  \n",
       "\n",
       "[20000 rows x 6 columns]"
      ]
     },
     "execution_count": 42,
     "metadata": {},
     "output_type": "execute_result"
    }
   ],
   "source": [
    "df"
   ]
  }
 ],
 "metadata": {
  "kernelspec": {
   "display_name": "Python 3 (ipykernel)",
   "language": "python",
   "name": "python3"
  },
  "language_info": {
   "codemirror_mode": {
    "name": "ipython",
    "version": 3
   },
   "file_extension": ".py",
   "mimetype": "text/x-python",
   "name": "python",
   "nbconvert_exporter": "python",
   "pygments_lexer": "ipython3",
   "version": "3.11.5"
  }
 },
 "nbformat": 4,
 "nbformat_minor": 5
}
