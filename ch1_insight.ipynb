{
 "cells": [
  {
   "cell_type": "markdown",
   "id": "304e2f25-b3e1-4672-87c8-8fc92ffbb3df",
   "metadata": {},
   "source": [
    "# File Preparation"
   ]
  },
  {
   "cell_type": "code",
   "execution_count": 3,
   "id": "abf119ce-16a9-4d08-b5c1-6aedb0d25517",
   "metadata": {},
   "outputs": [],
   "source": [
    "import pandas as pd"
   ]
  },
  {
   "cell_type": "code",
   "execution_count": 26,
   "id": "69b8ab26-bce5-403d-8afa-4c193fbd51cf",
   "metadata": {},
   "outputs": [],
   "source": [
    "dir=\"./dataset/\"\n",
    "file1=\"un-general-debates.csv\"\n",
    "df1=pd.read_csv(dir+file1)\n",
    "file2=\"Speakers_by_session.xlsx\"\n",
    "df2=pd.read_excel(dir+file2)\n",
    "df1.rename(columns={'ISO Code':'country'})\n",
    "df2.rename(columns={'Year':'year', 'Session':'session', 'ISO Code':'country','Country':'country_name', 'Post':'position'}, inplace=True)\n",
    "df2.drop('Unnamed: 6',axis=1, inplace=True)\n",
    "\n",
    "df=df1.merge(df2,how='left',on=['year','session','country'])"
   ]
  },
  {
   "cell_type": "code",
   "execution_count": 27,
   "id": "369a1100-5951-476d-a696-c4d2faf28ef0",
   "metadata": {},
   "outputs": [
    {
     "name": "stdout",
     "output_type": "stream",
     "text": [
      "<class 'pandas.core.frame.DataFrame'>\n",
      "RangeIndex: 7507 entries, 0 to 7506\n",
      "Data columns (total 4 columns):\n",
      " #   Column   Non-Null Count  Dtype \n",
      "---  ------   --------------  ----- \n",
      " 0   session  7507 non-null   int64 \n",
      " 1   year     7507 non-null   int64 \n",
      " 2   country  7507 non-null   object\n",
      " 3   text     7507 non-null   object\n",
      "dtypes: int64(2), object(2)\n",
      "memory usage: 234.7+ KB\n"
     ]
    }
   ],
   "source": [
    "df1.info()"
   ]
  },
  {
   "cell_type": "code",
   "execution_count": 28,
   "id": "fd0a2d26-d844-40bc-9df7-59b8b0ff5601",
   "metadata": {},
   "outputs": [
    {
     "name": "stdout",
     "output_type": "stream",
     "text": [
      "<class 'pandas.core.frame.DataFrame'>\n",
      "RangeIndex: 10559 entries, 0 to 10558\n",
      "Data columns (total 6 columns):\n",
      " #   Column                   Non-Null Count  Dtype \n",
      "---  ------                   --------------  ----- \n",
      " 0   year                     10559 non-null  int64 \n",
      " 1   session                  10559 non-null  int64 \n",
      " 2   country                  10558 non-null  object\n",
      " 3   country_name             10559 non-null  object\n",
      " 4   Name of Person Speaking  10551 non-null  object\n",
      " 5   position                 5903 non-null   object\n",
      "dtypes: int64(2), object(4)\n",
      "memory usage: 495.1+ KB\n"
     ]
    }
   ],
   "source": [
    "df2.info()"
   ]
  },
  {
   "cell_type": "code",
   "execution_count": 30,
   "id": "c3b46421-08bd-49c1-9f36-75d2b20d7507",
   "metadata": {},
   "outputs": [],
   "source": [
    "df.to_csv(dir+\"un-general-debates-blueprint.csv\")"
   ]
  },
  {
   "cell_type": "code",
   "execution_count": null,
   "id": "e1291fcd-bb86-4608-85d6-40ddd75ab618",
   "metadata": {},
   "outputs": [],
   "source": []
  },
  {
   "cell_type": "code",
   "execution_count": null,
   "id": "14ef0d2b-c679-4fda-9253-3ca5f025f33a",
   "metadata": {},
   "outputs": [],
   "source": []
  }
 ],
 "metadata": {
  "kernelspec": {
   "display_name": "Python 3 (ipykernel)",
   "language": "python",
   "name": "python3"
  },
  "language_info": {
   "codemirror_mode": {
    "name": "ipython",
    "version": 3
   },
   "file_extension": ".py",
   "mimetype": "text/x-python",
   "name": "python",
   "nbconvert_exporter": "python",
   "pygments_lexer": "ipython3",
   "version": "3.11.5"
  }
 },
 "nbformat": 4,
 "nbformat_minor": 5
}
