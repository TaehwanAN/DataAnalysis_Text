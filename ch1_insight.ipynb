{
 "cells": [
  {
   "cell_type": "markdown",
   "id": "304e2f25-b3e1-4672-87c8-8fc92ffbb3df",
   "metadata": {},
   "source": [
    "# Data Preparation"
   ]
  },
  {
   "cell_type": "code",
   "execution_count": 49,
   "id": "abf119ce-16a9-4d08-b5c1-6aedb0d25517",
   "metadata": {},
   "outputs": [],
   "source": [
    "import pandas as pd"
   ]
  },
  {
   "cell_type": "code",
   "execution_count": 11,
   "id": "69b8ab26-bce5-403d-8afa-4c193fbd51cf",
   "metadata": {},
   "outputs": [],
   "source": [
    "dir=\"../dataset/\"\n",
    "file1=\"un-general-debates.csv\"\n",
    "df1=pd.read_csv(dir+file1)\n",
    "file2=\"Speakers_by_session.xlsx\"\n",
    "df2=pd.read_excel(dir+file2)\n",
    "df1.rename(columns={'ISO Code':'country'})\n",
    "df2.rename(columns={'Year':'year', 'Session':'session', 'ISO Code':'country','Country':'country_name',\n",
    "                    'Name of Person Speaking':'speaker','Post':'position'}, inplace=True)\n",
    "df2.drop('Unnamed: 6',axis=1, inplace=True)\n",
    "\n",
    "df=df1.merge(df2,how='left',on=['year','session','country'])"
   ]
  },
  {
   "cell_type": "code",
   "execution_count": 27,
   "id": "369a1100-5951-476d-a696-c4d2faf28ef0",
   "metadata": {},
   "outputs": [
    {
     "name": "stdout",
     "output_type": "stream",
     "text": [
      "<class 'pandas.core.frame.DataFrame'>\n",
      "RangeIndex: 7507 entries, 0 to 7506\n",
      "Data columns (total 4 columns):\n",
      " #   Column   Non-Null Count  Dtype \n",
      "---  ------   --------------  ----- \n",
      " 0   session  7507 non-null   int64 \n",
      " 1   year     7507 non-null   int64 \n",
      " 2   country  7507 non-null   object\n",
      " 3   text     7507 non-null   object\n",
      "dtypes: int64(2), object(2)\n",
      "memory usage: 234.7+ KB\n"
     ]
    }
   ],
   "source": [
    "df1.info()"
   ]
  },
  {
   "cell_type": "code",
   "execution_count": 28,
   "id": "fd0a2d26-d844-40bc-9df7-59b8b0ff5601",
   "metadata": {},
   "outputs": [
    {
     "name": "stdout",
     "output_type": "stream",
     "text": [
      "<class 'pandas.core.frame.DataFrame'>\n",
      "RangeIndex: 10559 entries, 0 to 10558\n",
      "Data columns (total 6 columns):\n",
      " #   Column                   Non-Null Count  Dtype \n",
      "---  ------                   --------------  ----- \n",
      " 0   year                     10559 non-null  int64 \n",
      " 1   session                  10559 non-null  int64 \n",
      " 2   country                  10558 non-null  object\n",
      " 3   country_name             10559 non-null  object\n",
      " 4   Name of Person Speaking  10551 non-null  object\n",
      " 5   position                 5903 non-null   object\n",
      "dtypes: int64(2), object(4)\n",
      "memory usage: 495.1+ KB\n"
     ]
    }
   ],
   "source": [
    "df2.info()"
   ]
  },
  {
   "cell_type": "code",
   "execution_count": 12,
   "id": "c3b46421-08bd-49c1-9f36-75d2b20d7507",
   "metadata": {},
   "outputs": [],
   "source": [
    "df.to_csv(dir+\"un-general-debates-blueprint.csv\")"
   ]
  },
  {
   "cell_type": "markdown",
   "id": "1f3c107a-d87b-4a5a-9c5e-70c74d70119b",
   "metadata": {},
   "source": [
    "# 1.4 Data EDA"
   ]
  },
  {
   "cell_type": "code",
   "execution_count": 13,
   "id": "14ef0d2b-c679-4fda-9253-3ca5f025f33a",
   "metadata": {},
   "outputs": [
    {
     "data": {
      "text/html": [
       "<div>\n",
       "<style scoped>\n",
       "    .dataframe tbody tr th:only-of-type {\n",
       "        vertical-align: middle;\n",
       "    }\n",
       "\n",
       "    .dataframe tbody tr th {\n",
       "        vertical-align: top;\n",
       "    }\n",
       "\n",
       "    .dataframe thead th {\n",
       "        text-align: right;\n",
       "    }\n",
       "</style>\n",
       "<table border=\"1\" class=\"dataframe\">\n",
       "  <thead>\n",
       "    <tr style=\"text-align: right;\">\n",
       "      <th></th>\n",
       "      <th>session</th>\n",
       "      <th>year</th>\n",
       "      <th>country</th>\n",
       "      <th>text</th>\n",
       "      <th>country_name</th>\n",
       "      <th>speaker</th>\n",
       "      <th>position</th>\n",
       "    </tr>\n",
       "  </thead>\n",
       "  <tbody>\n",
       "    <tr>\n",
       "      <th>1925</th>\n",
       "      <td>33</td>\n",
       "      <td>1978</td>\n",
       "      <td>EGY</td>\n",
       "      <td>﻿1.\\tMr. President, before starting to address...</td>\n",
       "      <td>Egypt</td>\n",
       "      <td>Abdel Meguid</td>\n",
       "      <td>NaN</td>\n",
       "    </tr>\n",
       "    <tr>\n",
       "      <th>2878</th>\n",
       "      <td>64</td>\n",
       "      <td>2009</td>\n",
       "      <td>CZE</td>\n",
       "      <td>My country, the Czech \\nRepublic, has always a...</td>\n",
       "      <td>Czech Republic</td>\n",
       "      <td>Vaclav Klaus</td>\n",
       "      <td>President</td>\n",
       "    </tr>\n",
       "  </tbody>\n",
       "</table>\n",
       "</div>"
      ],
      "text/plain": [
       "      session  year country  \\\n",
       "1925       33  1978     EGY   \n",
       "2878       64  2009     CZE   \n",
       "\n",
       "                                                   text    country_name  \\\n",
       "1925  ﻿1.\\tMr. President, before starting to address...           Egypt   \n",
       "2878  My country, the Czech \\nRepublic, has always a...  Czech Republic   \n",
       "\n",
       "            speaker   position  \n",
       "1925  Abdel Meguid         NaN  \n",
       "2878   Vaclav Klaus  President  "
      ]
     },
     "metadata": {},
     "output_type": "display_data"
    },
    {
     "data": {
      "text/html": [
       "<div>\n",
       "<style scoped>\n",
       "    .dataframe tbody tr th:only-of-type {\n",
       "        vertical-align: middle;\n",
       "    }\n",
       "\n",
       "    .dataframe tbody tr th {\n",
       "        vertical-align: top;\n",
       "    }\n",
       "\n",
       "    .dataframe thead th {\n",
       "        text-align: right;\n",
       "    }\n",
       "</style>\n",
       "<table border=\"1\" class=\"dataframe\">\n",
       "  <thead>\n",
       "    <tr style=\"text-align: right;\">\n",
       "      <th></th>\n",
       "      <th>session</th>\n",
       "      <th>year</th>\n",
       "      <th>country</th>\n",
       "      <th>text</th>\n",
       "      <th>country_name</th>\n",
       "      <th>speaker</th>\n",
       "      <th>position</th>\n",
       "    </tr>\n",
       "  </thead>\n",
       "  <tbody>\n",
       "    <tr>\n",
       "      <th>1639</th>\n",
       "      <td>67</td>\n",
       "      <td>2012</td>\n",
       "      <td>PAK</td>\n",
       "      <td>﻿Before I begin my statement,\\nI want to expre...</td>\n",
       "      <td>Pakistan</td>\n",
       "      <td>Asif Ali Zardari</td>\n",
       "      <td>President</td>\n",
       "    </tr>\n",
       "    <tr>\n",
       "      <th>7293</th>\n",
       "      <td>62</td>\n",
       "      <td>2007</td>\n",
       "      <td>CHE</td>\n",
       "      <td>At the \\noutset, Sir, I should like to congra...</td>\n",
       "      <td>Switzerland</td>\n",
       "      <td>Mrs. Micheline Calmy-Rey,</td>\n",
       "      <td>President</td>\n",
       "    </tr>\n",
       "    <tr>\n",
       "      <th>1672</th>\n",
       "      <td>67</td>\n",
       "      <td>2012</td>\n",
       "      <td>MAR</td>\n",
       "      <td>﻿His Majesty King Mohammed VI asked me to\\ncon...</td>\n",
       "      <td>Morocco</td>\n",
       "      <td>Prince Moulay Rachid</td>\n",
       "      <td>Head of State</td>\n",
       "    </tr>\n",
       "    <tr>\n",
       "      <th>4256</th>\n",
       "      <td>53</td>\n",
       "      <td>1998</td>\n",
       "      <td>POL</td>\n",
       "      <td>Allow me first to congratulate\\nthe President ...</td>\n",
       "      <td>Poland</td>\n",
       "      <td>Bronislaw Geremek</td>\n",
       "      <td>Minister for Foreign Affairs</td>\n",
       "    </tr>\n",
       "    <tr>\n",
       "      <th>1685</th>\n",
       "      <td>67</td>\n",
       "      <td>2012</td>\n",
       "      <td>PNG</td>\n",
       "      <td>﻿Papua New Guinea\\ncongratulates Mr. Jeremić o...</td>\n",
       "      <td>Papua New Guinea</td>\n",
       "      <td>Rimbink Pato</td>\n",
       "      <td>Minister for Foreign Affairs</td>\n",
       "    </tr>\n",
       "    <tr>\n",
       "      <th>...</th>\n",
       "      <td>...</td>\n",
       "      <td>...</td>\n",
       "      <td>...</td>\n",
       "      <td>...</td>\n",
       "      <td>...</td>\n",
       "      <td>...</td>\n",
       "      <td>...</td>\n",
       "    </tr>\n",
       "    <tr>\n",
       "      <th>4849</th>\n",
       "      <td>69</td>\n",
       "      <td>2014</td>\n",
       "      <td>FSM</td>\n",
       "      <td>I would like to congratulate \\nMr. Sam Kutesa ...</td>\n",
       "      <td>Micronesia, Federated States of</td>\n",
       "      <td>Emanuel Mori</td>\n",
       "      <td>President</td>\n",
       "    </tr>\n",
       "    <tr>\n",
       "      <th>6424</th>\n",
       "      <td>45</td>\n",
       "      <td>1990</td>\n",
       "      <td>GHA</td>\n",
       "      <td>﻿\\nThe close and cordial relations between Mal...</td>\n",
       "      <td>Ghana</td>\n",
       "      <td>ASAMOAH</td>\n",
       "      <td>NaN</td>\n",
       "    </tr>\n",
       "    <tr>\n",
       "      <th>1209</th>\n",
       "      <td>57</td>\n",
       "      <td>2002</td>\n",
       "      <td>GNB</td>\n",
       "      <td>﻿First of all, I would like to thank the\\noutg...</td>\n",
       "      <td>Guinea-Bissau</td>\n",
       "      <td>Filomena Masaarenhas Tipote</td>\n",
       "      <td>Minister for Foreign Affairs</td>\n",
       "    </tr>\n",
       "    <tr>\n",
       "      <th>4609</th>\n",
       "      <td>59</td>\n",
       "      <td>2004</td>\n",
       "      <td>JOR</td>\n",
       "      <td>First, I\\nwish to warmly congratulate you, Sir...</td>\n",
       "      <td>Jordan</td>\n",
       "      <td>Mr. Marwan MUASHER</td>\n",
       "      <td>Minister for Foreign Affairs</td>\n",
       "    </tr>\n",
       "    <tr>\n",
       "      <th>5744</th>\n",
       "      <td>32</td>\n",
       "      <td>1977</td>\n",
       "      <td>HUN</td>\n",
       "      <td>﻿24.\\t Mr. President, on behalf of the Hungari...</td>\n",
       "      <td>Hungary</td>\n",
       "      <td>Puja</td>\n",
       "      <td>NaN</td>\n",
       "    </tr>\n",
       "  </tbody>\n",
       "</table>\n",
       "<p>751 rows × 7 columns</p>\n",
       "</div>"
      ],
      "text/plain": [
       "      session  year country  \\\n",
       "1639       67  2012     PAK   \n",
       "7293       62  2007     CHE   \n",
       "1672       67  2012     MAR   \n",
       "4256       53  1998     POL   \n",
       "1685       67  2012     PNG   \n",
       "...       ...   ...     ...   \n",
       "4849       69  2014     FSM   \n",
       "6424       45  1990     GHA   \n",
       "1209       57  2002     GNB   \n",
       "4609       59  2004     JOR   \n",
       "5744       32  1977     HUN   \n",
       "\n",
       "                                                   text  \\\n",
       "1639  ﻿Before I begin my statement,\\nI want to expre...   \n",
       "7293   At the \\noutset, Sir, I should like to congra...   \n",
       "1672  ﻿His Majesty King Mohammed VI asked me to\\ncon...   \n",
       "4256  Allow me first to congratulate\\nthe President ...   \n",
       "1685  ﻿Papua New Guinea\\ncongratulates Mr. Jeremić o...   \n",
       "...                                                 ...   \n",
       "4849  I would like to congratulate \\nMr. Sam Kutesa ...   \n",
       "6424  ﻿\\nThe close and cordial relations between Mal...   \n",
       "1209  ﻿First of all, I would like to thank the\\noutg...   \n",
       "4609  First, I\\nwish to warmly congratulate you, Sir...   \n",
       "5744  ﻿24.\\t Mr. President, on behalf of the Hungari...   \n",
       "\n",
       "                         country_name                      speaker  \\\n",
       "1639                         Pakistan             Asif Ali Zardari   \n",
       "7293                      Switzerland    Mrs. Micheline Calmy-Rey,   \n",
       "1672                          Morocco         Prince Moulay Rachid   \n",
       "4256                           Poland            Bronislaw Geremek   \n",
       "1685                 Papua New Guinea                 Rimbink Pato   \n",
       "...                               ...                          ...   \n",
       "4849  Micronesia, Federated States of                 Emanuel Mori   \n",
       "6424                            Ghana                      ASAMOAH   \n",
       "1209                    Guinea-Bissau  Filomena Masaarenhas Tipote   \n",
       "4609                           Jordan           Mr. Marwan MUASHER   \n",
       "5744                          Hungary                         Puja   \n",
       "\n",
       "                          position  \n",
       "1639                     President  \n",
       "7293                     President  \n",
       "1672                 Head of State  \n",
       "4256  Minister for Foreign Affairs  \n",
       "1685  Minister for Foreign Affairs  \n",
       "...                            ...  \n",
       "4849                     President  \n",
       "6424                           NaN  \n",
       "1209  Minister for Foreign Affairs  \n",
       "4609  Minister for Foreign Affairs  \n",
       "5744                           NaN  \n",
       "\n",
       "[751 rows x 7 columns]"
      ]
     },
     "metadata": {},
     "output_type": "display_data"
    }
   ],
   "source": [
    "file=\"un-general-debates-blueprint.csv\"\n",
    "df=pd.read_csv(\"../dataset/\"+file, index_col=0)\n",
    "display(df.sample(2))\n",
    "display(df.sample(frac=0.1))"
   ]
  },
  {
   "cell_type": "code",
   "execution_count": 15,
   "id": "eac60cda-f376-49b2-bf74-90ce4309e29d",
   "metadata": {},
   "outputs": [
    {
     "data": {
      "text/html": [
       "<div>\n",
       "<style scoped>\n",
       "    .dataframe tbody tr th:only-of-type {\n",
       "        vertical-align: middle;\n",
       "    }\n",
       "\n",
       "    .dataframe tbody tr th {\n",
       "        vertical-align: top;\n",
       "    }\n",
       "\n",
       "    .dataframe thead th {\n",
       "        text-align: right;\n",
       "    }\n",
       "</style>\n",
       "<table border=\"1\" class=\"dataframe\">\n",
       "  <thead>\n",
       "    <tr style=\"text-align: right;\">\n",
       "      <th></th>\n",
       "      <th>count</th>\n",
       "      <th>mean</th>\n",
       "      <th>std</th>\n",
       "      <th>min</th>\n",
       "      <th>25%</th>\n",
       "      <th>50%</th>\n",
       "      <th>75%</th>\n",
       "      <th>max</th>\n",
       "    </tr>\n",
       "  </thead>\n",
       "  <tbody>\n",
       "    <tr>\n",
       "      <th>session</th>\n",
       "      <td>7507.0</td>\n",
       "      <td>49.610763</td>\n",
       "      <td>12.892155</td>\n",
       "      <td>25.0</td>\n",
       "      <td>39.0</td>\n",
       "      <td>51.0</td>\n",
       "      <td>61.0</td>\n",
       "      <td>70.0</td>\n",
       "    </tr>\n",
       "    <tr>\n",
       "      <th>year</th>\n",
       "      <td>7507.0</td>\n",
       "      <td>1994.610763</td>\n",
       "      <td>12.892155</td>\n",
       "      <td>1970.0</td>\n",
       "      <td>1984.0</td>\n",
       "      <td>1996.0</td>\n",
       "      <td>2006.0</td>\n",
       "      <td>2015.0</td>\n",
       "    </tr>\n",
       "    <tr>\n",
       "      <th>length</th>\n",
       "      <td>7507.0</td>\n",
       "      <td>17967.281604</td>\n",
       "      <td>7860.038463</td>\n",
       "      <td>2362.0</td>\n",
       "      <td>12077.0</td>\n",
       "      <td>16424.0</td>\n",
       "      <td>22479.5</td>\n",
       "      <td>72041.0</td>\n",
       "    </tr>\n",
       "  </tbody>\n",
       "</table>\n",
       "</div>"
      ],
      "text/plain": [
       "          count          mean          std     min      25%      50%      75%  \\\n",
       "session  7507.0     49.610763    12.892155    25.0     39.0     51.0     61.0   \n",
       "year     7507.0   1994.610763    12.892155  1970.0   1984.0   1996.0   2006.0   \n",
       "length   7507.0  17967.281604  7860.038463  2362.0  12077.0  16424.0  22479.5   \n",
       "\n",
       "             max  \n",
       "session     70.0  \n",
       "year      2015.0  \n",
       "length   72041.0  "
      ]
     },
     "metadata": {},
     "output_type": "display_data"
    },
    {
     "data": {
      "text/html": [
       "<div>\n",
       "<style scoped>\n",
       "    .dataframe tbody tr th:only-of-type {\n",
       "        vertical-align: middle;\n",
       "    }\n",
       "\n",
       "    .dataframe tbody tr th {\n",
       "        vertical-align: top;\n",
       "    }\n",
       "\n",
       "    .dataframe thead th {\n",
       "        text-align: right;\n",
       "    }\n",
       "</style>\n",
       "<table border=\"1\" class=\"dataframe\">\n",
       "  <thead>\n",
       "    <tr style=\"text-align: right;\">\n",
       "      <th></th>\n",
       "      <th>count</th>\n",
       "      <th>unique</th>\n",
       "      <th>top</th>\n",
       "      <th>freq</th>\n",
       "    </tr>\n",
       "  </thead>\n",
       "  <tbody>\n",
       "    <tr>\n",
       "      <th>country</th>\n",
       "      <td>7507</td>\n",
       "      <td>199</td>\n",
       "      <td>IRN</td>\n",
       "      <td>46</td>\n",
       "    </tr>\n",
       "    <tr>\n",
       "      <th>speaker</th>\n",
       "      <td>7473</td>\n",
       "      <td>5425</td>\n",
       "      <td>Seyoum Mesfin</td>\n",
       "      <td>12</td>\n",
       "    </tr>\n",
       "  </tbody>\n",
       "</table>\n",
       "</div>"
      ],
      "text/plain": [
       "        count unique            top freq\n",
       "country  7507    199            IRN   46\n",
       "speaker  7473   5425  Seyoum Mesfin   12"
      ]
     },
     "metadata": {},
     "output_type": "display_data"
    }
   ],
   "source": [
    "## 텍스트 문자열의 길이를 담은 컬럼 length 추가\n",
    "df['length']=df['text'].str.len()\n",
    "\n",
    "## 수치형 자료 컬럼에 대한 요약 통계\n",
    "display(df.describe().T)\n",
    "\n",
    "## 범주형 자료 컬럼에 대한 요약 통계\n",
    "display(df[['country','speaker']].describe(include='O').T) # 'O': np.object의 별칠"
   ]
  },
  {
   "cell_type": "code",
   "execution_count": 16,
   "id": "c4521463-4c49-49c4-87e7-ecc665e4c142",
   "metadata": {},
   "outputs": [
    {
     "data": {
      "text/plain": [
       "session            0\n",
       "year               0\n",
       "country            0\n",
       "text               0\n",
       "country_name      32\n",
       "speaker           34\n",
       "position        3014\n",
       "length             0\n",
       "dtype: int64"
      ]
     },
     "metadata": {},
     "output_type": "display_data"
    }
   ],
   "source": [
    "## 결측치 확인\n",
    "display(df.isna().sum())"
   ]
  },
  {
   "cell_type": "code",
   "execution_count": 17,
   "id": "849b36fe-733c-4497-9451-23425ea0ff6a",
   "metadata": {},
   "outputs": [
    {
     "name": "stdout",
     "output_type": "stream",
     "text": [
      "speaker\n",
      "George W. Bush        4\n",
      "Mr. George W. Bush    2\n",
      "Bush                  1\n",
      "George Bush           1\n",
      "Mr. George W Bush     1\n",
      "Name: count, dtype: int64\n"
     ]
    }
   ],
   "source": [
    "## 결측치 대체\n",
    "df['speaker'].fillna('unknown', inplace=True)\n",
    "\n",
    "## 동일한 사람이더라도 다양하게 명명될 수 있다는 점에 유의\n",
    "print(df[df['speaker'].str.contains('Bush')]['speaker'].value_counts())"
   ]
  },
  {
   "cell_type": "code",
   "execution_count": 25,
   "id": "b9b1cb19-43d3-4289-a46d-a0a096cd2de4",
   "metadata": {},
   "outputs": [
    {
     "data": {
      "text/plain": [
       "<Axes: >"
      ]
     },
     "execution_count": 25,
     "metadata": {},
     "output_type": "execute_result"
    },
    {
     "data": {
      "image/png": "[encoded data removed]",
      "text/plain": [
       "<Figure size 800x100 with 1 Axes>"
      ]
     },
     "metadata": {},
     "output_type": "display_data"
    }
   ],
   "source": [
    "## 값분포 시각화\n",
    "df['length'].plot(kind='box', vert=False, figsize=(8, 1), grid=True) # pandas 내장 plot 기능, vert false: 수직 x -> 수평으로 보여주기"
   ]
  },
  {
   "cell_type": "code",
   "execution_count": 26,
   "id": "2ed5a99f-b8f9-4bff-8a0f-029bbcffd25e",
   "metadata": {},
   "outputs": [
    {
     "data": {
      "text/plain": [
       "<Axes: ylabel='Frequency'>"
      ]
     },
     "execution_count": 26,
     "metadata": {},
     "output_type": "execute_result"
    },
    {
     "data": {
      "image/png": "[encoded data removed]",
      "text/plain": [
       "<Figure size 800x200 with 1 Axes>"
      ]
     },
     "metadata": {},
     "output_type": "display_data"
    }
   ],
   "source": [
    "df['length'].plot(kind='hist', bins=30, figsize=(8, 2), grid=True)"
   ]
  },
  {
   "cell_type": "code",
   "execution_count": 38,
   "id": "9c58e564-7c7e-40dd-8629-0e641b05a8ee",
   "metadata": {},
   "outputs": [
    {
     "name": "stderr",
     "output_type": "stream",
     "text": [
      "C:\\Users\\user\\anaconda3\\Lib\\site-packages\\seaborn\\axisgrid.py:118: UserWarning: The figure layout has changed to tight\n",
      "  self._figure.tight_layout(*args, **kwargs)\n",
      "C:\\Users\\user\\anaconda3\\Lib\\site-packages\\seaborn\\axisgrid.py:118: UserWarning: The figure layout has changed to tight\n",
      "  self._figure.tight_layout(*args, **kwargs)\n"
     ]
    },
    {
     "data": {
      "image/png": "[encoded data removed]",
      "text/plain": [
       "<Figure size 400x300 with 1 Axes>"
      ]
     },
     "metadata": {},
     "output_type": "display_data"
    },
    {
     "data": {
      "image/png": "[encoded data removed]",
      "text/plain": [
       "<Figure size 400x300 with 1 Axes>"
      ]
     },
     "metadata": {},
     "output_type": "display_data"
    }
   ],
   "source": [
    "## 범주 간의 값 분포 비교\n",
    "# 안보리 상임이사국 5개국의 연설문 길이 length column 의 분포 비교\n",
    "import seaborn as sns\n",
    "# 안보리 상임이사국 조건문\n",
    "where=df['country'].isin(['USA','FRA','GBR','CHN','RUS'])\n",
    "# 박스플롯\n",
    "g=sns.catplot(data=df[where], x='country', y='length', kind='box')\n",
    "g.fig.set_size_inches(4, 3) ### x,y 의 비율 결정\n",
    "g.fig.set_dpi(100) ### 도화지의 크기 결정\n",
    "# 바이올린 플롯\n",
    "v=sns.catplot(data=df[where], x='country', y='length', kind='violin')\n",
    "v.fig.set_size_inches(4,3)\n",
    "v.fig.set_dpi(100) \n"
   ]
  },
  {
   "cell_type": "code",
   "execution_count": 46,
   "id": "40328ff9-0d13-49e7-9ab2-d5daee055926",
   "metadata": {},
   "outputs": [
    {
     "data": {
      "text/plain": [
       "<Axes: title={'center': 'Number of Countries'}, xlabel='year'>"
      ]
     },
     "execution_count": 46,
     "metadata": {},
     "output_type": "execute_result"
    },
    {
     "data": {
      "image/png": "[encoded data removed]",
      "text/plain": [
       "<Figure size 600x200 with 1 Axes>"
      ]
     },
     "metadata": {},
     "output_type": "display_data"
    }
   ],
   "source": [
    "## 시간 경과에 따른 변화 시각화\n",
    "# 연도별, 국가 수의 그래프\n",
    "df.groupby('year').size().plot(title='Number of Countries', figsize=(6,2), grid=True)"
   ]
  },
  {
   "cell_type": "code",
   "execution_count": 48,
   "id": "31ca08c6-d701-438d-a4a4-a121cb3eb8aa",
   "metadata": {},
   "outputs": [
    {
     "data": {
      "text/plain": [
       "<Axes: title={'center': 'Avg. Speech Length'}, xlabel='year'>"
      ]
     },
     "execution_count": 48,
     "metadata": {},
     "output_type": "execute_result"
    },
    {
     "data": {
      "image/png": "[encoded data removed]",
      "text/plain": [
       "<Figure size 600x200 with 1 Axes>"
      ]
     },
     "metadata": {},
     "output_type": "display_data"
    }
   ],
   "source": [
    "# 연도별, 연설문의 평균 길이\n",
    "df.groupby('year').agg({'length':'mean'}).plot(title=\"Avg. Speech Length\", ylim=(0,30000)\n",
    "                                              , figsize=(6,2), grid=True)\n",
    "# .agg({컬럼명:적용할 함수명})"
   ]
  },
  {
   "cell_type": "markdown",
   "id": "59a58c09-52e8-4eb4-993c-773d22f2caed",
   "metadata": {},
   "source": [
    "# 1.5 Pipeline"
   ]
  },
  {
   "cell_type": "code",
   "execution_count": 55,
   "id": "323466db-025e-48a8-aee4-46d98abda907",
   "metadata": {},
   "outputs": [
    {
     "name": "stdout",
     "output_type": "stream",
     "text": [
      "['Let', 's', 'defeat', 'SARS-CoV-2', 'together', 'in']\n"
     ]
    }
   ],
   "source": [
    "## 정규표현식을 이용한 토큰화\n",
    "# p{L}: 하나 이상의 문자(외국문자 움라우트 같은 거도 포섭가능하도록하는)\n",
    "import regex as re\n",
    "def tokenize(text):\n",
    "    return re.findall(r'[\\w-]*\\p{L}[\\w-]*', text)\n",
    "\n",
    "# 예제\n",
    "text=\"Let's defeat SARS-CoV-2 together in 2020!\"\n",
    "tokens=tokenize(text)\n",
    "print(tokens)"
   ]
  },
  {
   "cell_type": "code",
   "execution_count": 63,
   "id": "f2e73f7d-1439-4ef3-a6ff-dadb3914bd64",
   "metadata": {},
   "outputs": [
    {
     "name": "stdout",
     "output_type": "stream",
     "text": [
      "stopwords:\n",
      " {'herself', 'yours', 'themselves', 'further', 'this', 'd', 'couldn', 'for', 'don', 'before', 'off', 'over', 'again', 'more', 're', \"doesn't\", 'won', 'itself', 'if', 'how', \"she's\", 'by', 'yourselves', 'just', 'should', 'weren', \"you'll\", 'are', 'own', 'had', 'only', \"it's\", 't', 'ours', 'but', \"shouldn't\", \"couldn't\", \"don't\", 'not', 'between', 'here', 'of', 'whom', 'o', 'being', \"that'll\", \"you've\", 'myself', 'wasn', 'does', 'above', 'some', 'nor', 'ain', 'himself', 'theirs', 'do', 'shouldn', 'having', 'we', \"needn't\", 'y', 'all', 'both', 'will', 'after', 'their', 'did', 'doing', 'was', 'until', 'didn', \"you'd\", 'wouldn', 'below', 'other', 'he', 'you', 'and', 'her', 'out', 'into', 'been', \"wouldn't\", 'ourselves', 'down', 'same', 'him', 'from', \"hadn't\", \"mustn't\", 'so', 'ma', 'under', \"aren't\", \"didn't\", 'it', 'isn', 'they', 'your', 'why', 'with', 'those', 'she', 'against', 'hers', 've', 'then', 'aren', 'mustn', 'can', 'what', 'than', 'an', 'about', 'as', \"weren't\", 'each', 'its', 'once', \"won't\", 'haven', 'during', 'his', 'mightn', 'i', 'in', 'hasn', 'to', 'now', 'the', \"hasn't\", 'have', 'hadn', 'such', 'has', 'these', 'our', 'because', 'where', 'who', \"mightn't\", 'a', \"isn't\", \"wasn't\", 'few', 'am', 'shan', 's', 'were', 'or', 'while', \"you're\", 'at', 'there', 'be', 'doesn', 'that', 'too', 'yourself', 'when', 'on', 'which', 'any', 'up', 'needn', 'no', 'them', 'very', 'through', 'll', 'm', \"shan't\", 'most', \"should've\", \"haven't\", 'me', 'is', 'my'}\n",
      "stopwords:\n",
      " ['a', 'about', 'above', 'after', 'again', 'ain', 'all', 'also', 'am', 'an', 'and', 'any', 'are', 'aren', \"aren't\", 'as', 'at', 'be', 'because', 'been', 'before', 'being', 'below', 'between', 'both', 'but', 'by', 'can', 'couldn', \"couldn't\", 'd', 'dear', 'did', 'didn', \"didn't\", 'do', 'does', 'doesn', \"doesn't\", 'doing', 'don', \"don't\", 'down', 'during', 'each', 'few', 'for', 'from', 'further', 'had', 'hadn', \"hadn't\", 'has', 'hasn', \"hasn't\", 'have', 'haven', \"haven't\", 'having', 'he', 'her', 'here', 'hers', 'herself', 'him', 'himself', 'his', 'how', 'i', 'if', 'in', 'into', 'is', 'isn', \"isn't\", 'it', \"it's\", 'its', 'itself', 'just', 'll', 'm', 'ma', 'me', 'mightn', \"mightn't\", 'more', 'most', 'must', 'mustn', \"mustn't\", 'my', 'myself', 'needn', \"needn't\", 'no', 'nor', 'not', 'now', 'o', 'of', 'off', 'on', 'once', 'only', 'or', 'other', 'our', 'ours', 'ourselves', 'out', 'over', 'own', 're', 'regards', 's', 'same', 'shan', \"shan't\", 'she', \"she's\", 'should', \"should've\", 'shouldn', \"shouldn't\", 'so', 'some', 'such', 't', 'than', 'that', \"that'll\", 'the', 'their', 'theirs', 'them', 'themselves', 'then', 'there', 'these', 'they', 'this', 'those', 'through', 'to', 'too', 'under', 'until', 'up', 've', 'very', 'was', 'wasn', \"wasn't\", 'we', 'were', 'weren', \"weren't\", 'what', 'when', 'where', 'which', 'while', 'who', 'whom', 'why', 'will', 'with', 'won', \"won't\", 'would', 'wouldn', \"wouldn't\", 'y', 'you', \"you'd\", \"you'll\", \"you're\", \"you've\", 'your', 'yours', 'yourself', 'yourselves']\n"
     ]
    }
   ],
   "source": [
    "## 불용어 처리\n",
    "# set을 사용하여 조회시간 줄여주자(해쉬구조)\n",
    "import nltk # natural language toolkit\n",
    "\n",
    "stopwords=set(nltk.corpus.stopwords.words('english')) # 말뭉치.불용어.워드=영어\n",
    "print(\"stopwords:\\n\", stopwords)\n",
    "\n",
    "# stopwords에 없는 토큰들만 리스트로 반환하는 함수\n",
    "def remove_stopwords(tokens):\n",
    "    stopwords=set(nltk.corpus.stopwords.words('english'))\n",
    "    return [t for t in tokens if t.lower() not in stopwords]\n",
    "\n",
    "# stopwords에 추가하거나, stopwords에서 제거하려는 토큰들(stopwords가 해쉬 집합으로 되어있어서 {})\n",
    "include_stopwords={'dear','regards','must','would','also'}\n",
    "exclude_stopwords={'against'}\n",
    "# stopwords 재정의\n",
    "stopwords|=include_stopwords # set()|set() 합집합\n",
    "stopwords-=exclude_stopwords # set()-set() 교집합\n",
    "print(\"stopwords:\\n\", sorted(stopwords))"
   ]
  },
  {
   "cell_type": "code",
   "execution_count": 66,
   "id": "9cbd16a0-8d48-46fb-9e13-c7707f14460a",
   "metadata": {},
   "outputs": [
    {
     "data": {
      "text/html": [
       "<div>\n",
       "<style scoped>\n",
       "    .dataframe tbody tr th:only-of-type {\n",
       "        vertical-align: middle;\n",
       "    }\n",
       "\n",
       "    .dataframe tbody tr th {\n",
       "        vertical-align: top;\n",
       "    }\n",
       "\n",
       "    .dataframe thead th {\n",
       "        text-align: right;\n",
       "    }\n",
       "</style>\n",
       "<table border=\"1\" class=\"dataframe\">\n",
       "  <thead>\n",
       "    <tr style=\"text-align: right;\">\n",
       "      <th></th>\n",
       "      <th>session</th>\n",
       "      <th>year</th>\n",
       "      <th>country</th>\n",
       "      <th>text</th>\n",
       "      <th>country_name</th>\n",
       "      <th>speaker</th>\n",
       "      <th>position</th>\n",
       "      <th>length</th>\n",
       "      <th>tokens</th>\n",
       "      <th>num_tokens</th>\n",
       "    </tr>\n",
       "  </thead>\n",
       "  <tbody>\n",
       "    <tr>\n",
       "      <th>2194</th>\n",
       "      <td>43</td>\n",
       "      <td>1988</td>\n",
       "      <td>SLB</td>\n",
       "      <td>﻿\\nSir, permit me to extend to you my congratu...</td>\n",
       "      <td>Solomon Islands</td>\n",
       "      <td>Peter KEMILOBEA</td>\n",
       "      <td>NaN</td>\n",
       "      <td>11890</td>\n",
       "      <td>[sir, permit, extend, congratulations, electio...</td>\n",
       "      <td>1011</td>\n",
       "    </tr>\n",
       "    <tr>\n",
       "      <th>5508</th>\n",
       "      <td>70</td>\n",
       "      <td>2015</td>\n",
       "      <td>GEO</td>\n",
       "      <td>It is a great honour to once again address the...</td>\n",
       "      <td>Georgia</td>\n",
       "      <td>Mr. Irakli Garibashvili</td>\n",
       "      <td>Prime minister</td>\n",
       "      <td>14220</td>\n",
       "      <td>[great, honour, address, general, assembly, ma...</td>\n",
       "      <td>1265</td>\n",
       "    </tr>\n",
       "    <tr>\n",
       "      <th>3647</th>\n",
       "      <td>60</td>\n",
       "      <td>2005</td>\n",
       "      <td>ISR</td>\n",
       "      <td>It is my unique pleasure to\\npraise His Excell...</td>\n",
       "      <td>Israel</td>\n",
       "      <td>Silvan Shalom,</td>\n",
       "      <td>Deputy Prime Minister</td>\n",
       "      <td>11264</td>\n",
       "      <td>[unique, pleasure, praise, excellency, ambassa...</td>\n",
       "      <td>965</td>\n",
       "    </tr>\n",
       "    <tr>\n",
       "      <th>5060</th>\n",
       "      <td>66</td>\n",
       "      <td>2011</td>\n",
       "      <td>BLR</td>\n",
       "      <td>Much has been said from this rostrum in recent...</td>\n",
       "      <td>Belarus</td>\n",
       "      <td>Sergei Martynov</td>\n",
       "      <td>Minister for Foreign Affairs</td>\n",
       "      <td>12077</td>\n",
       "      <td>[much, said, rostrum, recent, years, global, g...</td>\n",
       "      <td>1018</td>\n",
       "    </tr>\n",
       "    <tr>\n",
       "      <th>2566</th>\n",
       "      <td>50</td>\n",
       "      <td>1995</td>\n",
       "      <td>BHS</td>\n",
       "      <td>On behalf of the\\nGovernment and the people of...</td>\n",
       "      <td>Bahamas</td>\n",
       "      <td>Mrs. Bostwick</td>\n",
       "      <td>Minister for Foreign Affairs</td>\n",
       "      <td>14121</td>\n",
       "      <td>[behalf, government, people, commonwealth, bah...</td>\n",
       "      <td>1130</td>\n",
       "    </tr>\n",
       "    <tr>\n",
       "      <th>...</th>\n",
       "      <td>...</td>\n",
       "      <td>...</td>\n",
       "      <td>...</td>\n",
       "      <td>...</td>\n",
       "      <td>...</td>\n",
       "      <td>...</td>\n",
       "      <td>...</td>\n",
       "      <td>...</td>\n",
       "      <td>...</td>\n",
       "      <td>...</td>\n",
       "    </tr>\n",
       "    <tr>\n",
       "      <th>428</th>\n",
       "      <td>40</td>\n",
       "      <td>1985</td>\n",
       "      <td>CHL</td>\n",
       "      <td>On behalf of the Chilean delegation I wish fir...</td>\n",
       "      <td>Chile</td>\n",
       "      <td>Mr. Del Valle</td>\n",
       "      <td>NaN</td>\n",
       "      <td>30966</td>\n",
       "      <td>[behalf, chilean, delegation, wish, first, con...</td>\n",
       "      <td>2529</td>\n",
       "    </tr>\n",
       "    <tr>\n",
       "      <th>1081</th>\n",
       "      <td>57</td>\n",
       "      <td>2002</td>\n",
       "      <td>CRI</td>\n",
       "      <td>﻿Allow me to congratulate Mr. Jan Kavan, and t...</td>\n",
       "      <td>Costa Rica</td>\n",
       "      <td>Roberto Tovar Faja</td>\n",
       "      <td>Minister for Foreign Affairs</td>\n",
       "      <td>10713</td>\n",
       "      <td>[allow, congratulate, mr, jan, kavan, czech, r...</td>\n",
       "      <td>929</td>\n",
       "    </tr>\n",
       "    <tr>\n",
       "      <th>6882</th>\n",
       "      <td>27</td>\n",
       "      <td>1972</td>\n",
       "      <td>CIV</td>\n",
       "      <td>I am happy, Sir, to express to you the warm co...</td>\n",
       "      <td>Ivory Coast</td>\n",
       "      <td>Mr. Usher</td>\n",
       "      <td>NaN</td>\n",
       "      <td>20813</td>\n",
       "      <td>[happy, sir, express, warm, congratulations, i...</td>\n",
       "      <td>1639</td>\n",
       "    </tr>\n",
       "    <tr>\n",
       "      <th>4755</th>\n",
       "      <td>35</td>\n",
       "      <td>1980</td>\n",
       "      <td>ARE</td>\n",
       "      <td>﻿Permit me at the outset, sir, to extend to yo...</td>\n",
       "      <td>UAE</td>\n",
       "      <td>Abdullah</td>\n",
       "      <td>NaN</td>\n",
       "      <td>18677</td>\n",
       "      <td>[permit, outset, sir, extend, behalf, delegati...</td>\n",
       "      <td>1510</td>\n",
       "    </tr>\n",
       "    <tr>\n",
       "      <th>5480</th>\n",
       "      <td>70</td>\n",
       "      <td>2015</td>\n",
       "      <td>BEL</td>\n",
       "      <td>A predecessor of the President of the General ...</td>\n",
       "      <td>Belgium</td>\n",
       "      <td>Mr. Charles Michel</td>\n",
       "      <td>Prime minister</td>\n",
       "      <td>10990</td>\n",
       "      <td>[predecessor, president, general, assembly, fi...</td>\n",
       "      <td>914</td>\n",
       "    </tr>\n",
       "  </tbody>\n",
       "</table>\n",
       "<p>375 rows × 10 columns</p>\n",
       "</div>"
      ],
      "text/plain": [
       "      session  year country  \\\n",
       "2194       43  1988     SLB   \n",
       "5508       70  2015     GEO   \n",
       "3647       60  2005     ISR   \n",
       "5060       66  2011     BLR   \n",
       "2566       50  1995     BHS   \n",
       "...       ...   ...     ...   \n",
       "428        40  1985     CHL   \n",
       "1081       57  2002     CRI   \n",
       "6882       27  1972     CIV   \n",
       "4755       35  1980     ARE   \n",
       "5480       70  2015     BEL   \n",
       "\n",
       "                                                   text     country_name  \\\n",
       "2194  ﻿\\nSir, permit me to extend to you my congratu...  Solomon Islands   \n",
       "5508  It is a great honour to once again address the...          Georgia   \n",
       "3647  It is my unique pleasure to\\npraise His Excell...           Israel   \n",
       "5060  Much has been said from this rostrum in recent...          Belarus   \n",
       "2566  On behalf of the\\nGovernment and the people of...          Bahamas   \n",
       "...                                                 ...              ...   \n",
       "428   On behalf of the Chilean delegation I wish fir...            Chile   \n",
       "1081  ﻿Allow me to congratulate Mr. Jan Kavan, and t...       Costa Rica   \n",
       "6882  I am happy, Sir, to express to you the warm co...      Ivory Coast   \n",
       "4755  ﻿Permit me at the outset, sir, to extend to yo...              UAE   \n",
       "5480  A predecessor of the President of the General ...          Belgium   \n",
       "\n",
       "                      speaker                      position  length  \\\n",
       "2194         Peter KEMILOBEA                            NaN   11890   \n",
       "5508  Mr. Irakli Garibashvili                Prime minister   14220   \n",
       "3647           Silvan Shalom,         Deputy Prime Minister   11264   \n",
       "5060          Sergei Martynov  Minister for Foreign Affairs   12077   \n",
       "2566            Mrs. Bostwick  Minister for Foreign Affairs   14121   \n",
       "...                       ...                           ...     ...   \n",
       "428             Mr. Del Valle                           NaN   30966   \n",
       "1081       Roberto Tovar Faja  Minister for Foreign Affairs   10713   \n",
       "6882               Mr. Usher                            NaN   20813   \n",
       "4755                 Abdullah                           NaN   18677   \n",
       "5480       Mr. Charles Michel                Prime minister   10990   \n",
       "\n",
       "                                                 tokens  num_tokens  \n",
       "2194  [sir, permit, extend, congratulations, electio...        1011  \n",
       "5508  [great, honour, address, general, assembly, ma...        1265  \n",
       "3647  [unique, pleasure, praise, excellency, ambassa...         965  \n",
       "5060  [much, said, rostrum, recent, years, global, g...        1018  \n",
       "2566  [behalf, government, people, commonwealth, bah...        1130  \n",
       "...                                                 ...         ...  \n",
       "428   [behalf, chilean, delegation, wish, first, con...        2529  \n",
       "1081  [allow, congratulate, mr, jan, kavan, czech, r...         929  \n",
       "6882  [happy, sir, express, warm, congratulations, i...        1639  \n",
       "4755  [permit, outset, sir, extend, behalf, delegati...        1510  \n",
       "5480  [predecessor, president, general, assembly, fi...         914  \n",
       "\n",
       "[375 rows x 10 columns]"
      ]
     },
     "metadata": {},
     "output_type": "display_data"
    }
   ],
   "source": [
    "## 파이프라인\n",
    "pipeline = [str.lower,tokenize, remove_stopwords] # 대소문자 변환, 토큰화, 불용어 제거\n",
    "\n",
    "def prepare(text,pipeline):\n",
    "    tokens=text\n",
    "    for transform in pipeline:\n",
    "        tokens=transform(tokens)\n",
    "    return tokens\n",
    "\n",
    "df['tokens'] = df['text'].apply(prepare, pipeline=pipeline)\n",
    "df['num_tokens'] = df['tokens'].map(len)\n",
    "display(df.sample(frac=0.05))"
   ]
  },
  {
   "cell_type": "markdown",
   "id": "e818ee9c-dd57-4396-84e0-79528107a006",
   "metadata": {},
   "source": [
    "# 1.6 Word Frequncy Analysis"
   ]
  },
  {
   "cell_type": "code",
   "execution_count": null,
   "id": "9612e613-c46e-4565-97fe-e68ca560ed48",
   "metadata": {},
   "outputs": [],
   "source": []
  }
 ],
 "metadata": {
  "kernelspec": {
   "display_name": "Python 3 (ipykernel)",
   "language": "python",
   "name": "python3"
  },
  "language_info": {
   "codemirror_mode": {
    "name": "ipython",
    "version": 3
   },
   "file_extension": ".py",
   "mimetype": "text/x-python",
   "name": "python",
   "nbconvert_exporter": "python",
   "pygments_lexer": "ipython3",
   "version": "3.11.5"
  }
 },
 "nbformat": 4,
 "nbformat_minor": 5
}
