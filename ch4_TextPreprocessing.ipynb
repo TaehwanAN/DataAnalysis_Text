{
 "cells": [
  {
   "cell_type": "code",
   "execution_count": 1,
   "id": "9780e6de-5600-44ef-a005-d707c048b90b",
   "metadata": {},
   "outputs": [],
   "source": [
    "import os\n",
    "import numpy as np \n",
    "import pandas as pd\n",
    "pd.set_option('display.max_colwidth', None) ## 레코드의 모든 값을 보기 위한 설정(text안짤리게)\n",
    "import matplotlib.pyplot as plt\n",
    "plt.rcParams['font.family'] ='Malgun Gothic'\n",
    "plt.rcParams['axes.unicode_minus'] =False\n",
    "import sqlite3"
   ]
  },
  {
   "cell_type": "markdown",
   "id": "8412742a-3825-452f-ba4e-0990f2897e19",
   "metadata": {},
   "source": [
    "# 4.3 데이터 준비: 레딧 셀프포스트"
   ]
  },
  {
   "cell_type": "code",
   "execution_count": 2,
   "id": "155dce36-5466-4adb-9e8f-05429341686e",
   "metadata": {},
   "outputs": [
    {
     "name": "stdout",
     "output_type": "stream",
     "text": [
      "D:\\user\\Desktop\\DataScience_git\\TextAnalysis\n",
      "['rspct.tsv', 'subreddit_info.csv']\n"
     ]
    }
   ],
   "source": [
    "print(os.getcwd())\n",
    "print(os.listdir('../dataset/RedditSelfPosts/'))\n",
    "# os.chdir('../dataset/RedditSelfPosts/')\n",
    "# print(os.listdir())\n",
    "# os.chdir('../../TextAnalysis/')\n",
    "# print(os.getcwd())"
   ]
  },
  {
   "cell_type": "code",
   "execution_count": 3,
   "id": "0843dc67-b89f-4b9b-a13e-9c77579c2032",
   "metadata": {},
   "outputs": [
    {
     "name": "stdout",
     "output_type": "stream",
     "text": [
      "<class 'pandas.core.frame.DataFrame'>\n",
      "RangeIndex: 1013000 entries, 0 to 1012999\n",
      "Data columns (total 4 columns):\n",
      " #   Column     Non-Null Count    Dtype \n",
      "---  ------     --------------    ----- \n",
      " 0   id         1013000 non-null  object\n",
      " 1   subreddit  1013000 non-null  object\n",
      " 2   title      1013000 non-null  object\n",
      " 3   selftext   1013000 non-null  object\n",
      "dtypes: object(4)\n",
      "memory usage: 30.9+ MB\n"
     ]
    }
   ],
   "source": [
    "dir='../dataset/RedditSelfPosts/'\n",
    "posts_file = 'rspct.tsv'\n",
    "posts_df=pd.read_csv(dir+posts_file, sep='\\t')\n",
    "posts_df.info() ## 사용자들의 게시글. "
   ]
  },
  {
   "cell_type": "code",
   "execution_count": 4,
   "id": "eeed39d5-27e9-43a2-9e7b-a93e7cc8c8d6",
   "metadata": {},
   "outputs": [
    {
     "name": "stdout",
     "output_type": "stream",
     "text": [
      "<class 'pandas.core.frame.DataFrame'>\n",
      "Index: 3394 entries, whatsthatbook to Glitch_in_the_Matrix\n",
      "Data columns (total 5 columns):\n",
      " #   Column                Non-Null Count  Dtype \n",
      "---  ------                --------------  ----- \n",
      " 0   category_1            3394 non-null   object\n",
      " 1   category_2            3362 non-null   object\n",
      " 2   category_3            536 non-null    object\n",
      " 3   in_data               3394 non-null   bool  \n",
      " 4   reason_for_exclusion  2381 non-null   object\n",
      "dtypes: bool(1), object(4)\n",
      "memory usage: 135.9+ KB\n"
     ]
    }
   ],
   "source": [
    "subred_file='subreddit_info.csv'\n",
    "subred_df=pd.read_csv(dir+subred_file).set_index(['subreddit'])\n",
    "subred_df.info() ## subreddit 이라는 커뮤니키에 대한 정보들. 프라이머리키는 subreddit."
   ]
  },
  {
   "cell_type": "code",
   "execution_count": 5,
   "id": "da026510-c46f-4c0c-bda6-d7d13f95f026",
   "metadata": {},
   "outputs": [
    {
     "name": "stdout",
     "output_type": "stream",
     "text": [
      "<class 'pandas.core.frame.DataFrame'>\n",
      "RangeIndex: 1013000 entries, 0 to 1012999\n",
      "Data columns (total 9 columns):\n",
      " #   Column                Non-Null Count    Dtype \n",
      "---  ------                --------------    ----- \n",
      " 0   id                    1013000 non-null  object\n",
      " 1   subreddit             1013000 non-null  object\n",
      " 2   title                 1013000 non-null  object\n",
      " 3   selftext              1013000 non-null  object\n",
      " 4   category_1            1013000 non-null  object\n",
      " 5   category_2            1013000 non-null  object\n",
      " 6   category_3            136000 non-null   object\n",
      " 7   in_data               1013000 non-null  bool  \n",
      " 8   reason_for_exclusion  0 non-null        object\n",
      "dtypes: bool(1), object(8)\n",
      "memory usage: 62.8+ MB\n"
     ]
    }
   ],
   "source": [
    "df=posts_df.join(subred_df, on='subreddit')\n",
    "df.info()"
   ]
  },
  {
   "cell_type": "markdown",
   "id": "774e3049-c071-4e9d-9762-063bc384848c",
   "metadata": {},
   "source": [
    "## EDA"
   ]
  },
  {
   "cell_type": "code",
   "execution_count": 6,
   "id": "41a9bb2a-4778-47bf-b1d8-f8c9f2151728",
   "metadata": {},
   "outputs": [
    {
     "data": {
      "text/html": [
       "<div>\n",
       "<style scoped>\n",
       "    .dataframe tbody tr th:only-of-type {\n",
       "        vertical-align: middle;\n",
       "    }\n",
       "\n",
       "    .dataframe tbody tr th {\n",
       "        vertical-align: top;\n",
       "    }\n",
       "\n",
       "    .dataframe thead th {\n",
       "        text-align: right;\n",
       "    }\n",
       "</style>\n",
       "<table border=\"1\" class=\"dataframe\">\n",
       "  <thead>\n",
       "    <tr style=\"text-align: right;\">\n",
       "      <th></th>\n",
       "      <th>id</th>\n",
       "      <th>subreddit</th>\n",
       "      <th>title</th>\n",
       "      <th>selftext</th>\n",
       "      <th>category_1</th>\n",
       "      <th>category_2</th>\n",
       "      <th>category_3</th>\n",
       "      <th>in_data</th>\n",
       "      <th>reason_for_exclusion</th>\n",
       "    </tr>\n",
       "  </thead>\n",
       "  <tbody>\n",
       "    <tr>\n",
       "      <th>800860</th>\n",
       "      <td>8mlkaz</td>\n",
       "      <td>lucifer</td>\n",
       "      <td>Will a pickup happen or not?</td>\n",
       "      <td>So it’s been two weeks now and we have the double header of two unaired episodes, but not much news other than “the fight isn’t over” and “conversations are happening”. What is everyone honest take on this now? &lt;lb&gt;&lt;lb&gt;I have a few ideas on what is going on with Lucifer. Either the talks are happening, but there is a road block somewhere either with the WB licensing fee, contracts, budgets not coming together. Another possible thought is they are picked up and just not saying anything due to FOX having the two unaired episodes (not sure if they can legally get another network/streaming service to sign contacts with these unaired eps). &lt;lb&gt;&lt;lb&gt;I have a feeling that if we don’t hear anything by the weeks end then the fight is over. I know Tom has said he will tell us and I am sure he will, but I doubt like everyone keeps saying that the ratings for Monday are a deciding factor. Networks and streaming services know the fan base is there. The ratings aren’t going to magically jump on Monday. There is more then the ratings at play here. &lt;lb&gt;&lt;lb&gt;Thoughts anyone?</td>\n",
       "      <td>tv_show</td>\n",
       "      <td>lucifer</td>\n",
       "      <td>NaN</td>\n",
       "      <td>True</td>\n",
       "      <td>NaN</td>\n",
       "    </tr>\n",
       "    <tr>\n",
       "      <th>678899</th>\n",
       "      <td>5m5kn2</td>\n",
       "      <td>SCREENPRINTING</td>\n",
       "      <td>Screen burning services? Have you used them? What was your experience?</td>\n",
       "      <td>I'll try to avoid getting too mired in unnecessary details here but-- I've got a project in mind that involves the use of a silk screen to pull fiber etch/devore paste through and create burnout textiles on silk/rayon velvet and satin. I don't own silk screen/screen burning equipment and I really just would like to test that this will work the way I want it to before dropping a couple hundred on equipment.&lt;lb&gt;&lt;lb&gt;That being said, it's come to my attention that there are a couple of online screen burning services. I did call around and ask a couple of local screen printing shops, but they didn't really seem super thrilled about the idea. Anyone used one of these guys, and wanna give me the scoop on what you liked/did not like from them?</td>\n",
       "      <td>arts</td>\n",
       "      <td>screen printing</td>\n",
       "      <td>NaN</td>\n",
       "      <td>True</td>\n",
       "      <td>NaN</td>\n",
       "    </tr>\n",
       "    <tr>\n",
       "      <th>49671</th>\n",
       "      <td>4y42f4</td>\n",
       "      <td>Saxophonics</td>\n",
       "      <td>Help me chose an alto sax etude for an audition please</td>\n",
       "      <td>I'm auditioning for a Jazz band in September and it calls for a Classical Etude or Study. I'm self taught and mostly play jazz so I don't own any classical books and have been playing for 2 years. Does anyone know of any resources or specific Etudes I could play for this audition?</td>\n",
       "      <td>music</td>\n",
       "      <td>saxophone</td>\n",
       "      <td>NaN</td>\n",
       "      <td>True</td>\n",
       "      <td>NaN</td>\n",
       "    </tr>\n",
       "    <tr>\n",
       "      <th>732031</th>\n",
       "      <td>6i955a</td>\n",
       "      <td>Herpes</td>\n",
       "      <td>Thank you from a newbie</td>\n",
       "      <td>I just wanted to make a post saying thank you to everyone who has posted on this topic so far. You are an absolute lifesaver for those of us who are new to this. &lt;lb&gt;&lt;lb&gt;I went to the doctors today and she confirmed that it is most likely herpes. Still waiting to hear back on 1 or 2 (G) but thanks to these forums I knew to also ask for a blood test to find out if I've had it for a while or just got infected. &lt;lb&gt;&lt;lb&gt;I hope to post a longer story later when I have more results, but for now I just wanted to express my gratitude to everyone on here for making me realize that I am still a human.</td>\n",
       "      <td>health</td>\n",
       "      <td>herpes</td>\n",
       "      <td>NaN</td>\n",
       "      <td>True</td>\n",
       "      <td>NaN</td>\n",
       "    </tr>\n",
       "    <tr>\n",
       "      <th>924865</th>\n",
       "      <td>59bx2j</td>\n",
       "      <td>schizophrenia</td>\n",
       "      <td>Only one episode of psychosis?</td>\n",
       "      <td>Does anyone have the same experience as me? I had one month long lasting psychosis 2 years ago and i havent really had any positive symptoms ever since. Been using abilify regulary. Doc says i have lot of negative symptoms but im not sure if i agree fully.&lt;lb&gt;&lt;lb&gt;So my real question is how do function overall? Do you have job, do you, study, have friends, partner etc. eg do you think having only one episode of psychosis is a sign of good prognosis?</td>\n",
       "      <td>health</td>\n",
       "      <td>schizophrenia</td>\n",
       "      <td>NaN</td>\n",
       "      <td>True</td>\n",
       "      <td>NaN</td>\n",
       "    </tr>\n",
       "  </tbody>\n",
       "</table>\n",
       "</div>"
      ],
      "text/plain": [
       "            id       subreddit  \\\n",
       "800860  8mlkaz         lucifer   \n",
       "678899  5m5kn2  SCREENPRINTING   \n",
       "49671   4y42f4     Saxophonics   \n",
       "732031  6i955a          Herpes   \n",
       "924865  59bx2j   schizophrenia   \n",
       "\n",
       "                                                                         title  \\\n",
       "800860                                            Will a pickup happen or not?   \n",
       "678899  Screen burning services? Have you used them? What was your experience?   \n",
       "49671                   Help me chose an alto sax etude for an audition please   \n",
       "732031                                                 Thank you from a newbie   \n",
       "924865                                          Only one episode of psychosis?   \n",
       "\n",
       "                                                                                                                                                                                                                                                                                                                                                                                                                                                                                                                                                                                                                                                                                                                                                                                                                                                                                                                                                                                                                                                                                                                 selftext  \\\n",
       "800860  So it’s been two weeks now and we have the double header of two unaired episodes, but not much news other than “the fight isn’t over” and “conversations are happening”. What is everyone honest take on this now? <lb><lb>I have a few ideas on what is going on with Lucifer. Either the talks are happening, but there is a road block somewhere either with the WB licensing fee, contracts, budgets not coming together. Another possible thought is they are picked up and just not saying anything due to FOX having the two unaired episodes (not sure if they can legally get another network/streaming service to sign contacts with these unaired eps). <lb><lb>I have a feeling that if we don’t hear anything by the weeks end then the fight is over. I know Tom has said he will tell us and I am sure he will, but I doubt like everyone keeps saying that the ratings for Monday are a deciding factor. Networks and streaming services know the fan base is there. The ratings aren’t going to magically jump on Monday. There is more then the ratings at play here. <lb><lb>Thoughts anyone?    \n",
       "678899                                                                                                                                                                                                                                                                                                                                          I'll try to avoid getting too mired in unnecessary details here but-- I've got a project in mind that involves the use of a silk screen to pull fiber etch/devore paste through and create burnout textiles on silk/rayon velvet and satin. I don't own silk screen/screen burning equipment and I really just would like to test that this will work the way I want it to before dropping a couple hundred on equipment.<lb><lb>That being said, it's come to my attention that there are a couple of online screen burning services. I did call around and ask a couple of local screen printing shops, but they didn't really seem super thrilled about the idea. Anyone used one of these guys, and wanna give me the scoop on what you liked/did not like from them?   \n",
       "49671                                                                                                                                                                                                                                                                                                                                                                                                                                                                                                                                                                                                                                                                                                                                                                                                                           I'm auditioning for a Jazz band in September and it calls for a Classical Etude or Study. I'm self taught and mostly play jazz so I don't own any classical books and have been playing for 2 years. Does anyone know of any resources or specific Etudes I could play for this audition?   \n",
       "732031                                                                                                                                                                                                                                                                                                                                                                                                                                                                                            I just wanted to make a post saying thank you to everyone who has posted on this topic so far. You are an absolute lifesaver for those of us who are new to this. <lb><lb>I went to the doctors today and she confirmed that it is most likely herpes. Still waiting to hear back on 1 or 2 (G) but thanks to these forums I knew to also ask for a blood test to find out if I've had it for a while or just got infected. <lb><lb>I hope to post a longer story later when I have more results, but for now I just wanted to express my gratitude to everyone on here for making me realize that I am still a human.    \n",
       "924865                                                                                                                                                                                                                                                                                                                                                                                                                                                                                                                                                                                                                                               Does anyone have the same experience as me? I had one month long lasting psychosis 2 years ago and i havent really had any positive symptoms ever since. Been using abilify regulary. Doc says i have lot of negative symptoms but im not sure if i agree fully.<lb><lb>So my real question is how do function overall? Do you have job, do you, study, have friends, partner etc. eg do you think having only one episode of psychosis is a sign of good prognosis?   \n",
       "\n",
       "       category_1       category_2 category_3  in_data reason_for_exclusion  \n",
       "800860    tv_show          lucifer        NaN     True                  NaN  \n",
       "678899       arts  screen printing        NaN     True                  NaN  \n",
       "49671       music        saxophone        NaN     True                  NaN  \n",
       "732031     health           herpes        NaN     True                  NaN  \n",
       "924865     health    schizophrenia        NaN     True                  NaN  "
      ]
     },
     "metadata": {},
     "output_type": "display_data"
    }
   ],
   "source": [
    "display(df.sample(5))"
   ]
  },
  {
   "cell_type": "code",
   "execution_count": 7,
   "id": "c88223a1-6b1d-483e-bc4f-8c7765192488",
   "metadata": {},
   "outputs": [
    {
     "data": {
      "text/plain": [
       "subreddit        category_1   category_2            category_3\n",
       "ASUS             electronics  laptop/notebook       asus          1000\n",
       "obs              software     video streaming       obs           1000\n",
       "korea            geo          korea                 country       1000\n",
       "lebanon          geo          lebanon               country       1000\n",
       "linuxquestions   software     unix/unix-like        linux         1000\n",
       "                                                                  ... \n",
       "ShieldAndroidTV  electronics  television            shield tv     1000\n",
       "SCCM             software     infrastructure        SCCM          1000\n",
       "Roll20           software     tabletop emulator     roll20        1000\n",
       "Roku             electronics  digital media player  roku          1000\n",
       "ynab             software     budgeting             ynab          1000\n",
       "Name: count, Length: 136, dtype: int64"
      ]
     },
     "execution_count": 7,
     "metadata": {},
     "output_type": "execute_result"
    }
   ],
   "source": [
    "df[['subreddit','category_1','category_2','category_3']].value_counts()"
   ]
  },
  {
   "cell_type": "code",
   "execution_count": 8,
   "id": "897666a2-c98e-435f-9c27-65bd6748a3d1",
   "metadata": {},
   "outputs": [
    {
     "data": {
      "text/plain": [
       "array(['writing/stories', 'tv_show', 'autos', 'hardware/tools',\n",
       "       'electronics', 'video_game', 'crypto', 'sports', 'hobby',\n",
       "       'appearance', 'card_game', 'drugs', 'advice/question',\n",
       "       'social_group', 'anime/manga', 'sex/relationships', 'software',\n",
       "       'health', 'other', 'animals', 'arts', 'programming', 'rpg',\n",
       "       'books', 'parenting', 'education', 'company/website', 'profession',\n",
       "       'music', 'politics/viewpoint', 'stem', 'travel', 'geo',\n",
       "       'religion/supernatural', 'board_game', 'movies', 'food/drink',\n",
       "       'finance/money', 'meta'], dtype=object)"
      ]
     },
     "execution_count": 8,
     "metadata": {},
     "output_type": "execute_result"
    }
   ],
   "source": [
    "df['category_1'].unique()"
   ]
  },
  {
   "cell_type": "code",
   "execution_count": 9,
   "id": "8e35a809-ce04-4f7a-8f8b-2020cfdcb666",
   "metadata": {},
   "outputs": [
    {
     "data": {
      "text/plain": [
       "array(['tech support', 'teen mom', 'harley davidson', ..., 'halo',\n",
       "       'grand theft auto', 'mead'], dtype=object)"
      ]
     },
     "execution_count": 9,
     "metadata": {},
     "output_type": "execute_result"
    }
   ],
   "source": [
    "df['category_2'].unique()"
   ]
  },
  {
   "cell_type": "code",
   "execution_count": 10,
   "id": "99e43561-9d20-4204-88d4-1a3a80b9d939",
   "metadata": {},
   "outputs": [
    {
     "data": {
      "text/plain": [
       "array([nan, 'intel', 'oculus rift', 'garmin', 'sharepoint', 'gamestop',\n",
       "       'uber', 'cloud9', 'microsoft', 'country', 'home assistant', 'tor',\n",
       "       'hue', 'costco', 'taco bell', 'movie pass club', 'snapchat',\n",
       "       'excel', 'synology', 'dji', 'wacom', 'sony', 'obs', 'nest',\n",
       "       'vmware', 'knife club', 'starbucks', 'android auto', 'tinder',\n",
       "       'valve', 'magento', 'roku', 'autohotkey', 'solidworks', 'thinkpad',\n",
       "       'premiere', 'ynab', 'corsair', 'spacex', 'unreal', 'windows',\n",
       "       'lineage os', 'cemu', 'amazon', 'adobe illustrator', 'discord',\n",
       "       'mac os', 'pfsense', 'postmates', 'outlook', 'arduino', 'sonarr',\n",
       "       'verizon', 'instacart', 'google', 'criterion', 'shield tv',\n",
       "       'roll20', 'nvidia', 'tableau', 'samsung', 'word press', 'origin',\n",
       "       'boosted', 'tasker', 'onenote', 'lime technology', 'cisco',\n",
       "       'crossfit', 'if then then that', 'nintendo', 'kodi', 'homelab',\n",
       "       'audible', 'u block', 'walmart', 'airbnb', 'home depot', 'swift',\n",
       "       'kickstarter', 'workflow', 'SCCM', 'staples', 'pihole',\n",
       "       'salesforce', 'linux', 'beauty box', 'firefox', 'juul', 'asus',\n",
       "       'radarr', 'gopro', 'fitbit', 'raspberrypi', 'rainmeter', 'anki',\n",
       "       'microsoft access', 'ableton', 'ikea', 'freenas', 'paypal',\n",
       "       'apple', 'spotify', 'blender', 'pebble', 'trezor'], dtype=object)"
      ]
     },
     "execution_count": 10,
     "metadata": {},
     "output_type": "execute_result"
    }
   ],
   "source": [
    "df['category_3'].unique()"
   ]
  },
  {
   "cell_type": "code",
   "execution_count": 11,
   "id": "07a0882e-8639-4b80-81e3-7bd0731deb79",
   "metadata": {},
   "outputs": [
    {
     "data": {
      "text/plain": [
       "id                            0\n",
       "subreddit                     0\n",
       "title                         0\n",
       "selftext                      0\n",
       "category_1                    0\n",
       "category_2                    0\n",
       "category_3               877000\n",
       "in_data                       0\n",
       "reason_for_exclusion    1013000\n",
       "dtype: int64"
      ]
     },
     "execution_count": 11,
     "metadata": {},
     "output_type": "execute_result"
    }
   ],
   "source": [
    "df.isna().sum()"
   ]
  },
  {
   "cell_type": "markdown",
   "id": "eea38d87-9a11-4a65-ac84-b0150d7cfaeb",
   "metadata": {},
   "source": [
    "## 컬럼(속성) 표준화\n",
    "- 1. 사용하지 않을 컬럼과 사용할 컬럼으로 나눈다.\n",
    "  2. 사용할 컬럼의 이름을 일반적인 컬럼명으로 변경해주고, 사용하지 않을 컬럼의 이름에는 None을 붙인다.\n",
    "  3. 사용하지 않을 컬럼을 삭제한다.\n",
    "- 목적: 100만건의 데이터는 너무 방대하므로, 카테고리가 \"autos\"인 데이터 2만건만 추출해낸다."
   ]
  },
  {
   "cell_type": "code",
   "execution_count": 12,
   "id": "a2667346-5f4f-49cf-bb92-0380ccf906a0",
   "metadata": {},
   "outputs": [
    {
     "data": {
      "text/plain": [
       "Index(['id', 'subreddit', 'title', 'selftext', 'category_1', 'category_2',\n",
       "       'category_3', 'in_data', 'reason_for_exclusion'],\n",
       "      dtype='object')"
      ]
     },
     "execution_count": 12,
     "metadata": {},
     "output_type": "execute_result"
    }
   ],
   "source": [
    "df.columns"
   ]
  },
  {
   "cell_type": "code",
   "execution_count": 13,
   "id": "17e05d71-c0ac-4b23-938d-9b20662f2c84",
   "metadata": {},
   "outputs": [],
   "source": [
    "df.columns=['id', 'subreddit', 'title', 'text', 'category', 'subcategory',\n",
    "            None, None, None] \n",
    "# 필요 없는 카테고리3, 인데이터, 배제사유 날려버리기\n",
    "df=df.drop([col for col in df.columns if col==None],axis=1)"
   ]
  },
  {
   "cell_type": "code",
   "execution_count": 14,
   "id": "1603162f-ec30-4736-898f-23ec1182531c",
   "metadata": {},
   "outputs": [
    {
     "data": {
      "text/html": [
       "<div>\n",
       "<style scoped>\n",
       "    .dataframe tbody tr th:only-of-type {\n",
       "        vertical-align: middle;\n",
       "    }\n",
       "\n",
       "    .dataframe tbody tr th {\n",
       "        vertical-align: top;\n",
       "    }\n",
       "\n",
       "    .dataframe thead th {\n",
       "        text-align: right;\n",
       "    }\n",
       "</style>\n",
       "<table border=\"1\" class=\"dataframe\">\n",
       "  <thead>\n",
       "    <tr style=\"text-align: right;\">\n",
       "      <th></th>\n",
       "      <th>738916</th>\n",
       "    </tr>\n",
       "  </thead>\n",
       "  <tbody>\n",
       "    <tr>\n",
       "      <th>id</th>\n",
       "      <td>63yrwl</td>\n",
       "    </tr>\n",
       "    <tr>\n",
       "      <th>subreddit</th>\n",
       "      <td>seedboxes</td>\n",
       "    </tr>\n",
       "    <tr>\n",
       "      <th>title</th>\n",
       "      <td>Moving to Germany, should I ditch Hetzner?</td>\n",
       "    </tr>\n",
       "    <tr>\n",
       "      <th>text</th>\n",
       "      <td>So, I'm moving from the US to Germany at the end of next month.  I've been using a Hetzner dedi for the last three years or so, but I'm pretty sure I've seen rumblings around here that using a German company to pirate in Germany is a bad idea.&lt;lb&gt;&lt;lb&gt;Should I switch to a dedi hosted somewhere else? I'd hate to, because my Hetzner box is set up perfectly, never gives me any trouble, and has a shit ton of storage. But my husband is military (hence the move), and getting caught breaking German law might not go over so well (i.e. it'd be a disaster with lasting consequences). For sure the safest practice would be to not pirate content while overseas, but LOL NOPE not gonna happen. So how do I best protect us?&lt;lb&gt;&lt;lb&gt;Of note, I use FTP with SSL, so everything I download to the home server is fully encrypted, and I use private trackers exclusively.  Still, can't be too careful, and I'm looking for any input or advice.&lt;lb&gt;&lt;lb&gt;Also of note: there will definitely be PLEX streaming from wherever the data is stored to Germany, because it'll probably take a couple months for our stuff to find it's way to where we are.  Does streaming in any way increase our risks?</td>\n",
       "    </tr>\n",
       "    <tr>\n",
       "      <th>category</th>\n",
       "      <td>electronics</td>\n",
       "    </tr>\n",
       "    <tr>\n",
       "      <th>subcategory</th>\n",
       "      <td>seedbox</td>\n",
       "    </tr>\n",
       "  </tbody>\n",
       "</table>\n",
       "</div>"
      ],
      "text/plain": [
       "                                                                                                                                                                                                                                                                                                                                                                                                                                                                                                                                                                                                                                                                                                                                                                                                                                                                                                                                                                                                                                                                                                                                                                                                                         738916\n",
       "id                                                                                                                                                                                                                                                                                                                                                                                                                                                                                                                                                                                                                                                                                                                                                                                                                                                                                                                                                                                                                                                                                                                                                                                                                       63yrwl\n",
       "subreddit                                                                                                                                                                                                                                                                                                                                                                                                                                                                                                                                                                                                                                                                                                                                                                                                                                                                                                                                                                                                                                                                                                                                                                                                             seedboxes\n",
       "title                                                                                                                                                                                                                                                                                                                                                                                                                                                                                                                                                                                                                                                                                                                                                                                                                                                                                                                                                                                                                                                                                                                                                                                Moving to Germany, should I ditch Hetzner?\n",
       "text         So, I'm moving from the US to Germany at the end of next month.  I've been using a Hetzner dedi for the last three years or so, but I'm pretty sure I've seen rumblings around here that using a German company to pirate in Germany is a bad idea.<lb><lb>Should I switch to a dedi hosted somewhere else? I'd hate to, because my Hetzner box is set up perfectly, never gives me any trouble, and has a shit ton of storage. But my husband is military (hence the move), and getting caught breaking German law might not go over so well (i.e. it'd be a disaster with lasting consequences). For sure the safest practice would be to not pirate content while overseas, but LOL NOPE not gonna happen. So how do I best protect us?<lb><lb>Of note, I use FTP with SSL, so everything I download to the home server is fully encrypted, and I use private trackers exclusively.  Still, can't be too careful, and I'm looking for any input or advice.<lb><lb>Also of note: there will definitely be PLEX streaming from wherever the data is stored to Germany, because it'll probably take a couple months for our stuff to find it's way to where we are.  Does streaming in any way increase our risks?\n",
       "category                                                                                                                                                                                                                                                                                                                                                                                                                                                                                                                                                                                                                                                                                                                                                                                                                                                                                                                                                                                                                                                                                                                                                                                                            electronics\n",
       "subcategory                                                                                                                                                                                                                                                                                                                                                                                                                                                                                                                                                                                                                                                                                                                                                                                                                                                                                                                                                                                                                                                                                                                                                                                                             seedbox"
      ]
     },
     "metadata": {},
     "output_type": "display_data"
    }
   ],
   "source": [
    "display(df.sample(1).T)"
   ]
  },
  {
   "cell_type": "code",
   "execution_count": 15,
   "id": "ad00d366-7902-4395-bf6b-aada2ec53543",
   "metadata": {},
   "outputs": [
    {
     "name": "stdout",
     "output_type": "stream",
     "text": [
      "<class 'pandas.core.frame.DataFrame'>\n",
      "Index: 20000 entries, 2 to 1012979\n",
      "Data columns (total 6 columns):\n",
      " #   Column       Non-Null Count  Dtype \n",
      "---  ------       --------------  ----- \n",
      " 0   id           20000 non-null  object\n",
      " 1   subreddit    20000 non-null  object\n",
      " 2   title        20000 non-null  object\n",
      " 3   text         20000 non-null  object\n",
      " 4   category     20000 non-null  object\n",
      " 5   subcategory  20000 non-null  object\n",
      "dtypes: object(6)\n",
      "memory usage: 1.1+ MB\n"
     ]
    }
   ],
   "source": [
    "## \"autos\" category 추출\n",
    "df = df[df['category']=='autos']\n",
    "df.info()"
   ]
  },
  {
   "cell_type": "markdown",
   "id": "dd95e134-b5d9-4ddb-a810-e1bb5cd72cd4",
   "metadata": {},
   "source": [
    "## sqlite3 : autos 데이터프레임 SQL DB로 저장하기\n",
    "- 피클은 파이썬에서만 사용할 수 있다.\n",
    "- 데이터프레임은 SQL의 이점을 이용할 수 있으므로, SQL Lite으로 저장한다.\n",
    "\n",
    "- - 아래는 df.to_sql 함수의 주요 파라미터들입니다. \n",
    "- 1. name: DataFrame을 쓸 SQL 테이블의 이름입니다.\n",
    "  2. con: SQLAlchemy 연결 객체입니다. 데이터베이스 연결 정보를 설정합니다.\n",
    "  3. schema: 테이블의 스키마 이름 (기본값은 None).\n",
    "  4. if_exists: 테이블이 이미 존재할 경우의 동작을 지정합니다. 옵션으로는 'fail' (기본값, 테이블이 이미 존재하면 실패), 'replace' (테이블을 덮어씀), 'append' (테이블에 추가)이 있습니다.\n",
    "  5. index: DataFrame의 인덱스를 데이터베이스 테이블의 인덱스로 사용할지 여부를 지정합니다 (기본값은 True).\n",
    "  6. index_label: 인덱스 열의 이름을 지정합니다.\n",
    "  7. chunksize: 한 번에 쓰는 레코드 수를 지정합니다.\n",
    "  8. dtype: 열의 데이터 유형을 지정합니다.\n",
    "  9. method: 데이터를 쓰는 방법을 지정합니다.방법을 지정합니다."
   ]
  },
  {
   "cell_type": "code",
   "execution_count": 16,
   "id": "30b22b08-4244-44e3-b5d8-3d1aa7ef827c",
   "metadata": {},
   "outputs": [
    {
     "data": {
      "text/plain": [
       "20000"
      ]
     },
     "execution_count": 16,
     "metadata": {},
     "output_type": "execute_result"
    }
   ],
   "source": [
    "## 저장\n",
    "import sqlite3\n",
    "save_dir=\"../output/\"\n",
    "db_name=\"reddit-selfposts.db\"\n",
    "con=sqlite3.connect(save_dir+db_name)\n",
    "df.to_sql(\"posts\", con, index=False, if_exists='replace')"
   ]
  },
  {
   "cell_type": "code",
   "execution_count": 17,
   "id": "e075e0d6-8929-4652-8da4-6463e44d8e96",
   "metadata": {},
   "outputs": [],
   "source": [
    "## 읽기\n",
    "save_dir=\"../output/\"\n",
    "db_name=\"reddit-selfposts.db\"\n",
    "con=sqlite3.connect(save_dir+db_name)\n",
    "df=pd.read_sql(\"select * from posts\", con)\n",
    "con.close()"
   ]
  },
  {
   "cell_type": "code",
   "execution_count": 18,
   "id": "3fcbb505-c72e-461c-857e-cb99f6426804",
   "metadata": {},
   "outputs": [
    {
     "data": {
      "text/html": [
       "<div>\n",
       "<style scoped>\n",
       "    .dataframe tbody tr th:only-of-type {\n",
       "        vertical-align: middle;\n",
       "    }\n",
       "\n",
       "    .dataframe tbody tr th {\n",
       "        vertical-align: top;\n",
       "    }\n",
       "\n",
       "    .dataframe thead th {\n",
       "        text-align: right;\n",
       "    }\n",
       "</style>\n",
       "<table border=\"1\" class=\"dataframe\">\n",
       "  <thead>\n",
       "    <tr style=\"text-align: right;\">\n",
       "      <th></th>\n",
       "      <th>id</th>\n",
       "      <th>subreddit</th>\n",
       "      <th>title</th>\n",
       "      <th>text</th>\n",
       "      <th>category</th>\n",
       "      <th>subcategory</th>\n",
       "    </tr>\n",
       "  </thead>\n",
       "  <tbody>\n",
       "    <tr>\n",
       "      <th>0</th>\n",
       "      <td>8f73s7</td>\n",
       "      <td>Harley</td>\n",
       "      <td>No Club Colors</td>\n",
       "      <td>Funny story. I went to college in Las Vegas. This was before I knew anything about motorcycling whatsoever. Me and some college buddies would always go out on the strip to the dance clubs. We always ended up at a bar called Hogs &amp;amp; Heifers. It's worth noting the females working there can outdrink ANYONE. Anyway, there was a sign on the front door that read 'No Club Colors'. So we lose our ties and blazers before heading there. Also we assumed bright colors like red, yellow, green etc were not allowed. So we would always bring an xtra t-shirt and pair of jeans. This went on for years! Looking back now on how naive we were, it's just hilarious. I was never able to walk out of that bar....had to crawl out! So much booze. &lt;lb&gt;&lt;lb&gt;Cheers. Ride safe, boys!</td>\n",
       "      <td>autos</td>\n",
       "      <td>harley davidson</td>\n",
       "    </tr>\n",
       "    <tr>\n",
       "      <th>1</th>\n",
       "      <td>5s0q8r</td>\n",
       "      <td>Mustang</td>\n",
       "      <td>Roush vs Shleby GT500</td>\n",
       "      <td>I am trying to determine which is faster, and I've seen the dealership video with the two racing(Roush won 2/3). But I was wondering if it was just because of the bigass supercharger in the Roush. &lt;lb&gt;&lt;lb&gt;&lt;lb&gt;Also I can't find the same specs on any two websites, what are some trustworthy sources for this kind of thing?</td>\n",
       "      <td>autos</td>\n",
       "      <td>ford</td>\n",
       "    </tr>\n",
       "    <tr>\n",
       "      <th>2</th>\n",
       "      <td>5z3405</td>\n",
       "      <td>Volkswagen</td>\n",
       "      <td>2001 Golf Wagon looking for some insight</td>\n",
       "      <td>Hello! &lt;lb&gt;&lt;lb&gt;Trying to find some information on replacing a 2001 Golf Wagon starter (gas).... mine's gone out and going to the dealership is quite out of the range right now. Nor is it in the biggest of rushes. &lt;lb&gt;&lt;lb&gt;I live in Japan, and I'm wondering if anyone had any international shipping websites they could recommend and if they had any direction on how to replace it as manuals are oh-so-specific (and not to mention, in Japanese). TIA</td>\n",
       "      <td>autos</td>\n",
       "      <td>VW</td>\n",
       "    </tr>\n",
       "    <tr>\n",
       "      <th>3</th>\n",
       "      <td>7df18v</td>\n",
       "      <td>Lexus</td>\n",
       "      <td>IS 250 Coolant Flush/Change</td>\n",
       "      <td>https://www.cars.com/articles/how-often-should-i-change-engine-coolant-1420680853669/&lt;lb&gt;&lt;lb&gt;I have a IS 250 AWD from 2006. About 73K miles on it. I've never touched the engine radiator coolant and can't find anything on when to change this in the book. It just says 'long life 100k Toyota coolant.' &lt;lb&gt;&lt;lb&gt;Does anyone get this flushed or changed at ten years?? Do I wait until 100k?</td>\n",
       "      <td>autos</td>\n",
       "      <td>lexus</td>\n",
       "    </tr>\n",
       "    <tr>\n",
       "      <th>4</th>\n",
       "      <td>5tpve8</td>\n",
       "      <td>volt</td>\n",
       "      <td>Gen1 mpg w/ dead battery?</td>\n",
       "      <td>Hi, new to this subreddit.  I'm considering buying a Gen1 Volt, but I can't find any straight answers as to what kind of mpg it gets after the battery is completely dead (say I take a 300 mile trip).  What kind of highway mpg does the Gen1 volt get after the battery is depleted?</td>\n",
       "      <td>autos</td>\n",
       "      <td>chevrolet</td>\n",
       "    </tr>\n",
       "    <tr>\n",
       "      <th>...</th>\n",
       "      <td>...</td>\n",
       "      <td>...</td>\n",
       "      <td>...</td>\n",
       "      <td>...</td>\n",
       "      <td>...</td>\n",
       "      <td>...</td>\n",
       "    </tr>\n",
       "    <tr>\n",
       "      <th>19995</th>\n",
       "      <td>7i2k6y</td>\n",
       "      <td>4Runner</td>\n",
       "      <td>Bilstein Shocks</td>\n",
       "      <td>I read a lot Forums and people recommend getting TUNDRA Bilstein Shocks for a 3rd gen 4 runner, what is the difference? and why do they recommend that? I bought Springs tundra Springs for the front and 1997 landcruiser springs fro the rear now I just need shocks. &lt;lb&gt;Thank you</td>\n",
       "      <td>autos</td>\n",
       "      <td>toyota</td>\n",
       "    </tr>\n",
       "    <tr>\n",
       "      <th>19996</th>\n",
       "      <td>83p2kv</td>\n",
       "      <td>Harley</td>\n",
       "      <td>Question on potential purchase of crashed bike.</td>\n",
       "      <td>I am thinking about  buying a 2010 Harley Sportster 1200 custom for $6k with 7k miles. It has Vance radius pipes, t bars, screaming eagle filters, sissy bar, new seat and either a new tank or a new paint job as it does not say Harley Davidson on the tank anywhere but has pin stripes.. the title it’s clean but it just seems to good to be true and the sales man has no record of it being in a accident or not. The Title has been transferred to 5 different owners (can not see prices) I really want this bike but I’m skeptical. Any ideas or tips to look for?</td>\n",
       "      <td>autos</td>\n",
       "      <td>harley davidson</td>\n",
       "    </tr>\n",
       "    <tr>\n",
       "      <th>19997</th>\n",
       "      <td>7x722h</td>\n",
       "      <td>volt</td>\n",
       "      <td>Got our first warning light on our dash</td>\n",
       "      <td>My husband and I were headed somewhere and I was cold. So, I figured I could turn the car on before he unplugged it. When it turned on it was fine. Then he got into the drivers seat ten seconds later and we got a \"check charging system\" any suggestions? I figure I messed it up by turning it on before unplugging it *facepalm*</td>\n",
       "      <td>autos</td>\n",
       "      <td>chevrolet</td>\n",
       "    </tr>\n",
       "    <tr>\n",
       "      <th>19998</th>\n",
       "      <td>7v2xmg</td>\n",
       "      <td>Lexus</td>\n",
       "      <td>Any IS models to avoid?</td>\n",
       "      <td>I am looking at getting a used Lexus IS (2014 model year and newer). Are there any trim levels that I should avoid? Thinking about getting a 250, however, I might spend a little bit more and get a 350 if there is a significant performance increase, but I wanted to know if there is anything I should know about the lineup before I pull the trigger. I am really liking the white exterior and red interior combo.</td>\n",
       "      <td>autos</td>\n",
       "      <td>lexus</td>\n",
       "    </tr>\n",
       "    <tr>\n",
       "      <th>19999</th>\n",
       "      <td>8dxx3b</td>\n",
       "      <td>mercedes_benz</td>\n",
       "      <td>Advice please. Looking at a 2011 E550 with 71K miles. Good car?</td>\n",
       "      <td>Looking for some help. I've never owned any luxury car. Especially not a Mercedes. My husband's old commander in the Air Force is leaving the area and offering us his E550 for $15K. &lt;lb&gt;&lt;lb&gt;Seems like a good price but I have no idea about a German car as all I've ever owned are cars less than $25K new. It's loaded with every feature but NOT a 4Matic or AMG. We're test driving it tomorrow. Should we get it inspected? Anyone else own this or a similar model? Thanks!&lt;lb&gt;&lt;lb&gt;I drive for Uber p/t so might be using it for that too.</td>\n",
       "      <td>autos</td>\n",
       "      <td>mercedes</td>\n",
       "    </tr>\n",
       "  </tbody>\n",
       "</table>\n",
       "<p>20000 rows × 6 columns</p>\n",
       "</div>"
      ],
      "text/plain": [
       "           id      subreddit  \\\n",
       "0      8f73s7         Harley   \n",
       "1      5s0q8r        Mustang   \n",
       "2      5z3405     Volkswagen   \n",
       "3      7df18v          Lexus   \n",
       "4      5tpve8           volt   \n",
       "...       ...            ...   \n",
       "19995  7i2k6y        4Runner   \n",
       "19996  83p2kv         Harley   \n",
       "19997  7x722h           volt   \n",
       "19998  7v2xmg          Lexus   \n",
       "19999  8dxx3b  mercedes_benz   \n",
       "\n",
       "                                                                 title  \\\n",
       "0                                                       No Club Colors   \n",
       "1                                                Roush vs Shleby GT500   \n",
       "2                             2001 Golf Wagon looking for some insight   \n",
       "3                                          IS 250 Coolant Flush/Change   \n",
       "4                                            Gen1 mpg w/ dead battery?   \n",
       "...                                                                ...   \n",
       "19995                                                  Bilstein Shocks   \n",
       "19996                  Question on potential purchase of crashed bike.   \n",
       "19997                          Got our first warning light on our dash   \n",
       "19998                                          Any IS models to avoid?   \n",
       "19999  Advice please. Looking at a 2011 E550 with 71K miles. Good car?   \n",
       "\n",
       "                                                                                                                                                                                                                                                                                                                                                                                                                                                                                                                                                                                                                                                                                                                                                                                               text  \\\n",
       "0      Funny story. I went to college in Las Vegas. This was before I knew anything about motorcycling whatsoever. Me and some college buddies would always go out on the strip to the dance clubs. We always ended up at a bar called Hogs &amp; Heifers. It's worth noting the females working there can outdrink ANYONE. Anyway, there was a sign on the front door that read 'No Club Colors'. So we lose our ties and blazers before heading there. Also we assumed bright colors like red, yellow, green etc were not allowed. So we would always bring an xtra t-shirt and pair of jeans. This went on for years! Looking back now on how naive we were, it's just hilarious. I was never able to walk out of that bar....had to crawl out! So much booze. <lb><lb>Cheers. Ride safe, boys!    \n",
       "1                                                                                                                                                                                                                                                                                                                                                                                                                                                                  I am trying to determine which is faster, and I've seen the dealership video with the two racing(Roush won 2/3). But I was wondering if it was just because of the bigass supercharger in the Roush. <lb><lb><lb>Also I can't find the same specs on any two websites, what are some trustworthy sources for this kind of thing?   \n",
       "2                                                                                                                                                                                                                                                                                                                                    Hello! <lb><lb>Trying to find some information on replacing a 2001 Golf Wagon starter (gas).... mine's gone out and going to the dealership is quite out of the range right now. Nor is it in the biggest of rushes. <lb><lb>I live in Japan, and I'm wondering if anyone had any international shipping websites they could recommend and if they had any direction on how to replace it as manuals are oh-so-specific (and not to mention, in Japanese). TIA   \n",
       "3                                                                                                                                                                                                                                                                                                                                                                                                 https://www.cars.com/articles/how-often-should-i-change-engine-coolant-1420680853669/<lb><lb>I have a IS 250 AWD from 2006. About 73K miles on it. I've never touched the engine radiator coolant and can't find anything on when to change this in the book. It just says 'long life 100k Toyota coolant.' <lb><lb>Does anyone get this flushed or changed at ten years?? Do I wait until 100k?    \n",
       "4                                                                                                                                                                                                                                                                                                                                                                                                                                                                                                          Hi, new to this subreddit.  I'm considering buying a Gen1 Volt, but I can't find any straight answers as to what kind of mpg it gets after the battery is completely dead (say I take a 300 mile trip).  What kind of highway mpg does the Gen1 volt get after the battery is depleted?    \n",
       "...                                                                                                                                                                                                                                                                                                                                                                                                                                                                                                                                                                                                                                                                                                                                                                                             ...   \n",
       "19995                                                                                                                                                                                                                                                                                                                                                                                                                                                                                                         I read a lot Forums and people recommend getting TUNDRA Bilstein Shocks for a 3rd gen 4 runner, what is the difference? and why do they recommend that? I bought Springs tundra Springs for the front and 1997 landcruiser springs fro the rear now I just need shocks. <lb>Thank you   \n",
       "19996                                                                                                                                                                                                                 I am thinking about  buying a 2010 Harley Sportster 1200 custom for $6k with 7k miles. It has Vance radius pipes, t bars, screaming eagle filters, sissy bar, new seat and either a new tank or a new paint job as it does not say Harley Davidson on the tank anywhere but has pin stripes.. the title it’s clean but it just seems to good to be true and the sales man has no record of it being in a accident or not. The Title has been transferred to 5 different owners (can not see prices) I really want this bike but I’m skeptical. Any ideas or tips to look for?   \n",
       "19997                                                                                                                                                                                                                                                                                                                                                                                                                                                        My husband and I were headed somewhere and I was cold. So, I figured I could turn the car on before he unplugged it. When it turned on it was fine. Then he got into the drivers seat ten seconds later and we got a \"check charging system\" any suggestions? I figure I messed it up by turning it on before unplugging it *facepalm*   \n",
       "19998                                                                                                                                                                                                                                                                                                                                                                    I am looking at getting a used Lexus IS (2014 model year and newer). Are there any trim levels that I should avoid? Thinking about getting a 250, however, I might spend a little bit more and get a 350 if there is a significant performance increase, but I wanted to know if there is anything I should know about the lineup before I pull the trigger. I am really liking the white exterior and red interior combo.   \n",
       "19999                                                                                                                                                                                                                                           Looking for some help. I've never owned any luxury car. Especially not a Mercedes. My husband's old commander in the Air Force is leaving the area and offering us his E550 for $15K. <lb><lb>Seems like a good price but I have no idea about a German car as all I've ever owned are cars less than $25K new. It's loaded with every feature but NOT a 4Matic or AMG. We're test driving it tomorrow. Should we get it inspected? Anyone else own this or a similar model? Thanks!<lb><lb>I drive for Uber p/t so might be using it for that too.   \n",
       "\n",
       "      category      subcategory  \n",
       "0        autos  harley davidson  \n",
       "1        autos             ford  \n",
       "2        autos               VW  \n",
       "3        autos            lexus  \n",
       "4        autos        chevrolet  \n",
       "...        ...              ...  \n",
       "19995    autos           toyota  \n",
       "19996    autos  harley davidson  \n",
       "19997    autos        chevrolet  \n",
       "19998    autos            lexus  \n",
       "19999    autos         mercedes  \n",
       "\n",
       "[20000 rows x 6 columns]"
      ]
     },
     "execution_count": 18,
     "metadata": {},
     "output_type": "execute_result"
    }
   ],
   "source": [
    "df"
   ]
  },
  {
   "cell_type": "markdown",
   "id": "fe959fc0-aea1-4526-8390-e723189b03d6",
   "metadata": {},
   "source": [
    "# 4.4 텍스트 데이터 정리"
   ]
  },
  {
   "cell_type": "markdown",
   "id": "6c6e65b4-0814-422d-85fd-ad5d18994699",
   "metadata": {},
   "source": [
    "## 정규표현식: 노이즈 식별 - impurity 함수"
   ]
  },
  {
   "cell_type": "code",
   "execution_count": 19,
   "id": "3f97bb90-18ad-415a-8b0d-8428d3ca5ad6",
   "metadata": {},
   "outputs": [],
   "source": [
    "text=\"\"\"\n",
    "I am looking at getting a used Lexus IS (2014 model year and newer). \n",
    "Are there any trim levels that I should avoid? \n",
    "Thinking about getting a 250, however, I might spend a little bit more and get a 350 if there is a significant performance increase, \n",
    "but I wanted to know if there is anything I should know about the lineup before I pull the trigger. \n",
    "I am really liking the white exterior and red interior combo.\n",
    "\"\"\""
   ]
  },
  {
   "cell_type": "code",
   "execution_count": 20,
   "id": "cb5fd258-bb6f-42a7-912c-c82f4c9bc7f2",
   "metadata": {},
   "outputs": [
    {
     "name": "stdout",
     "output_type": "stream",
     "text": [
      "0.0\n"
     ]
    }
   ],
   "source": [
    "import re\n",
    "RE_SUSPICIOUS =re.compile(r'[&#<>{}\\[\\]\\\\]')\n",
    "\n",
    "def impurity(text, min_len=10):\n",
    "    \"\"\"텍스트에서 의심스러운 문자의 비율을 반환한다.\"\"\"\n",
    "    if text == None or len(text) < min_len:\n",
    "        return 0\n",
    "    else: \n",
    "        return len(RE_SUSPICIOUS.findall(text))/len(text)\n",
    "\n",
    "print(impurity(text))"
   ]
  },
  {
   "cell_type": "code",
   "execution_count": 21,
   "id": "6f69f3ad-99b4-4aa9-a0cd-618f0f4c4f36",
   "metadata": {},
   "outputs": [
    {
     "name": "stdout",
     "output_type": "stream",
     "text": [
      "0.08968609865470852\n"
     ]
    }
   ],
   "source": [
    "text=\"\"\"\n",
    "After viewing the [PINKIEPOOL Trailer](https://www.youtube.com/watch?v=ieRouHUg) it got me thinking about the best match ups. <lb> Here's my take: <lb><lb>[](/ppseesyou) Deadpool<lb>[](\\sp)[](/ajsly) Captain America <\\lb>\n",
    "\"\"\"\n",
    "print(impurity(text))"
   ]
  },
  {
   "cell_type": "code",
   "execution_count": 22,
   "id": "89efe735-e9a2-4e0e-b117-a3f6b0088ac1",
   "metadata": {},
   "outputs": [
    {
     "data": {
      "text/html": [
       "<div>\n",
       "<style scoped>\n",
       "    .dataframe tbody tr th:only-of-type {\n",
       "        vertical-align: middle;\n",
       "    }\n",
       "\n",
       "    .dataframe tbody tr th {\n",
       "        vertical-align: top;\n",
       "    }\n",
       "\n",
       "    .dataframe thead th {\n",
       "        text-align: right;\n",
       "    }\n",
       "</style>\n",
       "<table border=\"1\" class=\"dataframe\">\n",
       "  <thead>\n",
       "    <tr style=\"text-align: right;\">\n",
       "      <th></th>\n",
       "      <th>text</th>\n",
       "      <th>impurity</th>\n",
       "    </tr>\n",
       "  </thead>\n",
       "  <tbody>\n",
       "    <tr>\n",
       "      <th>19682</th>\n",
       "      <td>Looking at buying a 335i with 39k miles and 11 months left on the CPO warranty. I asked the deal...</td>\n",
       "      <td>0.214716</td>\n",
       "    </tr>\n",
       "    <tr>\n",
       "      <th>12357</th>\n",
       "      <td>I'm looking to lease an a4 premium plus automatic with the nav package.&lt;lb&gt;&lt;lb&gt;Vehicle Price:&lt;ta...</td>\n",
       "      <td>0.165099</td>\n",
       "    </tr>\n",
       "    <tr>\n",
       "      <th>2730</th>\n",
       "      <td>Breakdown below:&lt;lb&gt;&lt;lb&gt;Elantra GT&lt;lb&gt;&lt;lb&gt;2.0L 4-cylinder&lt;lb&gt;&lt;lb&gt;6-speed Manual Transmission&lt;lb&gt;...</td>\n",
       "      <td>0.139130</td>\n",
       "    </tr>\n",
       "  </tbody>\n",
       "</table>\n",
       "</div>"
      ],
      "text/plain": [
       "                                                                                                      text  \\\n",
       "19682  Looking at buying a 335i with 39k miles and 11 months left on the CPO warranty. I asked the deal...   \n",
       "12357  I'm looking to lease an a4 premium plus automatic with the nav package.<lb><lb>Vehicle Price:<ta...   \n",
       "2730   Breakdown below:<lb><lb>Elantra GT<lb><lb>2.0L 4-cylinder<lb><lb>6-speed Manual Transmission<lb>...   \n",
       "\n",
       "       impurity  \n",
       "19682  0.214716  \n",
       "12357  0.165099  \n",
       "2730   0.139130  "
      ]
     },
     "execution_count": 22,
     "metadata": {},
     "output_type": "execute_result"
    }
   ],
   "source": [
    "# 데이터프레임에 새로운 컬럼 추가\n",
    "df['impurity']= df['text'].apply(impurity, min_len=10)\n",
    "\n",
    "# 상위 3개 레코드 확인\n",
    "pd.set_option('display.max_colwidth', 100)\n",
    "df[['text','impurity']].sort_values(by='impurity', ascending=False).head(3)"
   ]
  },
  {
   "cell_type": "code",
   "execution_count": 23,
   "id": "b6a6e9eb-3dc2-4cd4-8073-1be431e9eca9",
   "metadata": {},
   "outputs": [],
   "source": [
    "# from blueprints.exploration import count_words\n",
    "# count_words(df, column='text', preprocess= lambda t: re.findall(r'<[\\w/]*>',t))\n",
    "## 블루프린트 없음..\n",
    "\n",
    "# from blueprints.exploration import count_words\n",
    "# count_words(df, column='text', preprocess=lambda t: re.findall(r'<[\\w/]*>', t))"
   ]
  },
  {
   "cell_type": "code",
   "execution_count": 24,
   "id": "8d87e434-a0dd-4515-9364-efc9c745ac2a",
   "metadata": {},
   "outputs": [
    {
     "name": "stdout",
     "output_type": "stream",
     "text": [
      "{'<lb>', '<tab>'}\n"
     ]
    }
   ],
   "source": [
    "impurity_set=set()\n",
    "for l in df['text'].apply(lambda t: re.findall(r'<[\\w/]*>',t)).values:\n",
    "    impurity_set|=set(l)\n",
    "print(impurity_set)"
   ]
  },
  {
   "cell_type": "markdown",
   "id": "67f46bb2-ae80-4871-b60a-60f4b8aa269e",
   "metadata": {},
   "source": [
    "## 정규표현식: 노이즈 제거 - clean() 함수"
   ]
  },
  {
   "cell_type": "code",
   "execution_count": 25,
   "id": "89a6348b-3187-4818-8a83-0d13bd6b48b3",
   "metadata": {},
   "outputs": [
    {
     "name": "stdout",
     "output_type": "stream",
     "text": [
      "After viewing the PINKIEPOOL Trailer it got me thinking about the best match ups. Here's my take: Deadpool Captain America\n",
      "0.0\n"
     ]
    }
   ],
   "source": [
    "import html\n",
    "\n",
    "def clean(text):\n",
    "    # &amp;와 같은 html 이스케이프를 문자로 변환한다.\n",
    "    text=html.unescape(text)\n",
    "    # print(text)\n",
    "    # <tab>, <lb>과 같은 태그를 공백으로 변환한다.\n",
    "    text=re.sub('<[^<>&]*>', ' ', text)\n",
    "    # print(text)\n",
    "    # [Some text](https://....)과 같은 마크다운 URL을 공백으로 변환한다.\n",
    "    # text=re.sub(r'\\[([^\\[\\]]*)\\]([^\\(\\)]*\\)', r'\\1', text)\n",
    "    text = re.sub('\\[([^\\[\\]]*)\\]\\([^\\(\\)]*\\)', r'\\1', text)\n",
    "    # print(text)\n",
    "    # [0]과 같은 괄호안의 텍스트 또는 코드를 공백으로 변환한다.\n",
    "    text=re.sub(r'\\[[^\\[\\]]*\\]', ' ', text)\n",
    "    # print(text)\n",
    "    # 특수 문자로만 구성된 문자열을 공백으로 변환한다. 이때 &#은 변환되지만 #cool은 변환되지 않는다.\n",
    "    text=re.sub(r'(?:^|\\s)[&#<>{}\\[\\]+|\\\\:-]{1,}(?:\\s|$)', ' ', text)\n",
    "    # print(text)\n",
    "    # --- 또는 == 같은 하이픈으로 이뤄진 문자열을 공백으로 변환한다.\n",
    "    text=re.sub(r'(?:^|\\s)[\\-=\\+]{2,}(?:\\s|$)', ' ', text)\n",
    "    # print(text)\n",
    "    # 연속된 공백을 공백 하나로 변환한다.\n",
    "    text=re.sub('\\s+', ' ', text)\n",
    "\n",
    "    return text.strip()\n",
    "    \n",
    "clean_text=clean(text)\n",
    "print(clean_text)\n",
    "print(impurity(clean_text))"
   ]
  },
  {
   "cell_type": "code",
   "execution_count": 26,
   "id": "37f2038b-80aa-4cdb-b4a8-4250c5f21594",
   "metadata": {},
   "outputs": [
    {
     "data": {
      "text/html": [
       "<div>\n",
       "<style scoped>\n",
       "    .dataframe tbody tr th:only-of-type {\n",
       "        vertical-align: middle;\n",
       "    }\n",
       "\n",
       "    .dataframe tbody tr th {\n",
       "        vertical-align: top;\n",
       "    }\n",
       "\n",
       "    .dataframe thead th {\n",
       "        text-align: right;\n",
       "    }\n",
       "</style>\n",
       "<table border=\"1\" class=\"dataframe\">\n",
       "  <thead>\n",
       "    <tr style=\"text-align: right;\">\n",
       "      <th></th>\n",
       "      <th>clean_text</th>\n",
       "      <th>impurity</th>\n",
       "    </tr>\n",
       "  </thead>\n",
       "  <tbody>\n",
       "    <tr>\n",
       "      <th>14058</th>\n",
       "      <td>Mustang 2018, 2019, or 2020? Must Haves!! 1. Have a Credit score of 780\\+ for the best low inter...</td>\n",
       "      <td>0.030864</td>\n",
       "    </tr>\n",
       "    <tr>\n",
       "      <th>18934</th>\n",
       "      <td>At the dealership, they offered an option for foot-well illumination, but I cannot find any refe...</td>\n",
       "      <td>0.026455</td>\n",
       "    </tr>\n",
       "    <tr>\n",
       "      <th>16505</th>\n",
       "      <td>I am looking at four Caymans, all are in a similar price range. The major differences are the mi...</td>\n",
       "      <td>0.024631</td>\n",
       "    </tr>\n",
       "  </tbody>\n",
       "</table>\n",
       "</div>"
      ],
      "text/plain": [
       "                                                                                                clean_text  \\\n",
       "14058  Mustang 2018, 2019, or 2020? Must Haves!! 1. Have a Credit score of 780\\+ for the best low inter...   \n",
       "18934  At the dealership, they offered an option for foot-well illumination, but I cannot find any refe...   \n",
       "16505  I am looking at four Caymans, all are in a similar price range. The major differences are the mi...   \n",
       "\n",
       "       impurity  \n",
       "14058  0.030864  \n",
       "18934  0.026455  \n",
       "16505  0.024631  "
      ]
     },
     "execution_count": 26,
     "metadata": {},
     "output_type": "execute_result"
    }
   ],
   "source": [
    "df['clean_text']=df['text'].map(clean)\n",
    "df['impurity']=df['clean_text'].map(impurity)\n",
    "df[['clean_text','impurity']].sort_values(by='impurity', ascending=False).head(3)"
   ]
  },
  {
   "cell_type": "markdown",
   "id": "92ed8f8c-6ae1-4092-87d9-fb011e24ac5c",
   "metadata": {},
   "source": [
    "## textacy: 문자 정규화 - normalize, replace, remove\n",
    "- 텍스트 전처리(정규화)에 특화된 라이브러리\n",
    "- 함수\n",
    "- - 1) normalize.hyphenated_words: 줄바꿈으로 구분된 단어를 다시 조합한다.\n",
    "    2) normalize.quotation_marks: 모든 종류의 따옴표를 아스키 코드에 해당하는 곧은 따옴표로 대체한다.\n",
    "    3) normalize.unicode: 유니코드에서 악센트가 있는 문자를 다른 코드로 변경한다.\n",
    "    4) normalize.accents: 가능한 경우 악센트가 있는 문자를 ASCII로 바꾸거나 삭제한다.\n",
    "    5) replace.urls: https://xyz.com과 같은 URL을 _URL_로 대체한다.\n",
    "    6) replace.emails: 이메일을 _EMAILS_로 대체한다.\n",
    "    7) replace.hashtags: #sunshine과 같은 해시태그를 _TAG_로 대체한다.\n",
    "    8) replace.numbers: 12345와 같은 숫자 패턴을 _NUMBER_로 대체한다.\n",
    "    9) replace.phon_numbers: 전화번호 패턴을 _PHONE_으로 대체한다.\n",
    "    10) replace.user_handles: @peter와 같은 사용자명을 _USER_로 대체한다.\n",
    "    11) replace.emojis: 스마일리와 같은 이모지를 _EMOJI_로 대체한다.\n",
    "- https://textacy.readthedocs.io/en/latest/"
   ]
  },
  {
   "cell_type": "code",
   "execution_count": 27,
   "id": "1dadd5fb-6e06-47cc-9e85-982364370d4c",
   "metadata": {},
   "outputs": [],
   "source": [
    "import textacy.preprocessing as tprep\n",
    "\n",
    "def normalize(text):\n",
    "    text=tprep.normalize.hyphenated_words(text)\n",
    "    text=tprep.normalize.quotation_marks(text)\n",
    "    text=tprep.normalize.unicode(text)\n",
    "    text=tprep.remove.accents(text)\n",
    "\n",
    "    return(text)\n"
   ]
  },
  {
   "cell_type": "code",
   "execution_count": 28,
   "id": "30a6e6c8-f550-4662-b827-b72daacb525a",
   "metadata": {},
   "outputs": [
    {
     "name": "stdout",
     "output_type": "stream",
     "text": [
      "The cafe \"Saint-Raphael\" is located on Cote d'Azur.\n"
     ]
    }
   ],
   "source": [
    "text=\"The café “Saint-Raphaël” is loca-\\nted on Côte dʼAzur.\"\n",
    "print(normalize(text))"
   ]
  },
  {
   "cell_type": "markdown",
   "id": "842cb36b-6a9d-465f-94c7-ca4b2956ccb1",
   "metadata": {},
   "source": [
    "## textacy: 데이터 마스킹 - resources"
   ]
  },
  {
   "cell_type": "code",
   "execution_count": 29,
   "id": "50087d45-bec4-4989-98e4-1f116986c6ea",
   "metadata": {
    "scrolled": true
   },
   "outputs": [
    {
     "name": "stdout",
     "output_type": "stream",
     "text": [
      "['https://www.nrdc.org/experts/luke-tonachel/new-york-state-enacts-electric-vehicle-consumer-rebate-program', 'https://www.nysenate.gov/legislation', 'http://www.vectoroffroad.com/jke-dock-2007-2010-p-28.html!,', 'http://www.morris4x4center.com/rugged-ridge-cb-radio-dash-mounting-bracket-13551-09.html!', 'https://www.thingiverse.com/thing:912478']\n",
      "1152\n"
     ]
    }
   ],
   "source": [
    "from textacy.preprocessing.resources import RE_URL\n",
    "\n",
    "# df['clean_text'].apply(lambda x: RE_URL.findall(x))\n",
    "urls=df['clean_text'].map(RE_URL.findall).values\n",
    "urls_list=[]\n",
    "for u in urls.tolist():\n",
    "    if len(u)>1:\n",
    "        urls_list.extend(u)\n",
    "print(urls_list[:5])\n",
    "print(len(urls_list))\n",
    "\n"
   ]
  },
  {
   "cell_type": "code",
   "execution_count": 30,
   "id": "5f9e3060-079f-46b1-b7fb-56fd08284449",
   "metadata": {},
   "outputs": [
    {
     "name": "stdout",
     "output_type": "stream",
     "text": [
      "check this url change http://i.imgur.com/lcr0MZW.jpg\n",
      "check this url change _URL_\n"
     ]
    }
   ],
   "source": [
    "text=\"check this url change \"+urls_list[101]\n",
    "print(text)\n",
    "\n",
    "print(tprep.replace.urls(text))"
   ]
  },
  {
   "cell_type": "code",
   "execution_count": 31,
   "id": "9b743b18-022a-4bc4-a743-da91d6935fab",
   "metadata": {},
   "outputs": [],
   "source": [
    "df.rename(columns={'text':'raw_text', 'clean_text':'text'}, inplace=True)\n",
    "df.drop(columns=['impurity'], inplace=True)"
   ]
  },
  {
   "cell_type": "code",
   "execution_count": 32,
   "id": "9665f6c5-33a8-4474-9eea-8f468bfb98b4",
   "metadata": {},
   "outputs": [],
   "source": [
    "con=sqlite3.connect(save_dir+db_name)\n",
    "df.to_sql(\"posts_cleaned\", con, index=False, if_exists=\"replace\")\n",
    "con.close()"
   ]
  },
  {
   "cell_type": "code",
   "execution_count": 33,
   "id": "17428ce9-c18e-43ed-8e7c-681d61fd7236",
   "metadata": {},
   "outputs": [
    {
     "data": {
      "text/html": [
       "<div>\n",
       "<style scoped>\n",
       "    .dataframe tbody tr th:only-of-type {\n",
       "        vertical-align: middle;\n",
       "    }\n",
       "\n",
       "    .dataframe tbody tr th {\n",
       "        vertical-align: top;\n",
       "    }\n",
       "\n",
       "    .dataframe thead th {\n",
       "        text-align: right;\n",
       "    }\n",
       "</style>\n",
       "<table border=\"1\" class=\"dataframe\">\n",
       "  <thead>\n",
       "    <tr style=\"text-align: right;\">\n",
       "      <th></th>\n",
       "      <th>id</th>\n",
       "      <th>subreddit</th>\n",
       "      <th>title</th>\n",
       "      <th>raw_text</th>\n",
       "      <th>category</th>\n",
       "      <th>subcategory</th>\n",
       "      <th>text</th>\n",
       "    </tr>\n",
       "  </thead>\n",
       "  <tbody>\n",
       "    <tr>\n",
       "      <th>0</th>\n",
       "      <td>8f73s7</td>\n",
       "      <td>Harley</td>\n",
       "      <td>No Club Colors</td>\n",
       "      <td>Funny story. I went to college in Las Vegas. This was before I knew anything about motorcycling ...</td>\n",
       "      <td>autos</td>\n",
       "      <td>harley davidson</td>\n",
       "      <td>Funny story. I went to college in Las Vegas. This was before I knew anything about motorcycling ...</td>\n",
       "    </tr>\n",
       "    <tr>\n",
       "      <th>1</th>\n",
       "      <td>5s0q8r</td>\n",
       "      <td>Mustang</td>\n",
       "      <td>Roush vs Shleby GT500</td>\n",
       "      <td>I am trying to determine which is faster, and I've seen the dealership video with the two racing...</td>\n",
       "      <td>autos</td>\n",
       "      <td>ford</td>\n",
       "      <td>I am trying to determine which is faster, and I've seen the dealership video with the two racing...</td>\n",
       "    </tr>\n",
       "    <tr>\n",
       "      <th>2</th>\n",
       "      <td>5z3405</td>\n",
       "      <td>Volkswagen</td>\n",
       "      <td>2001 Golf Wagon looking for some insight</td>\n",
       "      <td>Hello! &lt;lb&gt;&lt;lb&gt;Trying to find some information on replacing a 2001 Golf Wagon starter (gas).... ...</td>\n",
       "      <td>autos</td>\n",
       "      <td>VW</td>\n",
       "      <td>Hello! Trying to find some information on replacing a 2001 Golf Wagon starter (gas).... mine's g...</td>\n",
       "    </tr>\n",
       "    <tr>\n",
       "      <th>3</th>\n",
       "      <td>7df18v</td>\n",
       "      <td>Lexus</td>\n",
       "      <td>IS 250 Coolant Flush/Change</td>\n",
       "      <td>https://www.cars.com/articles/how-often-should-i-change-engine-coolant-1420680853669/&lt;lb&gt;&lt;lb&gt;I h...</td>\n",
       "      <td>autos</td>\n",
       "      <td>lexus</td>\n",
       "      <td>https://www.cars.com/articles/how-often-should-i-change-engine-coolant-1420680853669/ I have a I...</td>\n",
       "    </tr>\n",
       "    <tr>\n",
       "      <th>4</th>\n",
       "      <td>5tpve8</td>\n",
       "      <td>volt</td>\n",
       "      <td>Gen1 mpg w/ dead battery?</td>\n",
       "      <td>Hi, new to this subreddit.  I'm considering buying a Gen1 Volt, but I can't find any straight an...</td>\n",
       "      <td>autos</td>\n",
       "      <td>chevrolet</td>\n",
       "      <td>Hi, new to this subreddit. I'm considering buying a Gen1 Volt, but I can't find any straight ans...</td>\n",
       "    </tr>\n",
       "    <tr>\n",
       "      <th>...</th>\n",
       "      <td>...</td>\n",
       "      <td>...</td>\n",
       "      <td>...</td>\n",
       "      <td>...</td>\n",
       "      <td>...</td>\n",
       "      <td>...</td>\n",
       "      <td>...</td>\n",
       "    </tr>\n",
       "    <tr>\n",
       "      <th>19995</th>\n",
       "      <td>7i2k6y</td>\n",
       "      <td>4Runner</td>\n",
       "      <td>Bilstein Shocks</td>\n",
       "      <td>I read a lot Forums and people recommend getting TUNDRA Bilstein Shocks for a 3rd gen 4 runner, ...</td>\n",
       "      <td>autos</td>\n",
       "      <td>toyota</td>\n",
       "      <td>I read a lot Forums and people recommend getting TUNDRA Bilstein Shocks for a 3rd gen 4 runner, ...</td>\n",
       "    </tr>\n",
       "    <tr>\n",
       "      <th>19996</th>\n",
       "      <td>83p2kv</td>\n",
       "      <td>Harley</td>\n",
       "      <td>Question on potential purchase of crashed bike.</td>\n",
       "      <td>I am thinking about  buying a 2010 Harley Sportster 1200 custom for $6k with 7k miles. It has Va...</td>\n",
       "      <td>autos</td>\n",
       "      <td>harley davidson</td>\n",
       "      <td>I am thinking about buying a 2010 Harley Sportster 1200 custom for $6k with 7k miles. It has Van...</td>\n",
       "    </tr>\n",
       "    <tr>\n",
       "      <th>19997</th>\n",
       "      <td>7x722h</td>\n",
       "      <td>volt</td>\n",
       "      <td>Got our first warning light on our dash</td>\n",
       "      <td>My husband and I were headed somewhere and I was cold. So, I figured I could turn the car on bef...</td>\n",
       "      <td>autos</td>\n",
       "      <td>chevrolet</td>\n",
       "      <td>My husband and I were headed somewhere and I was cold. So, I figured I could turn the car on bef...</td>\n",
       "    </tr>\n",
       "    <tr>\n",
       "      <th>19998</th>\n",
       "      <td>7v2xmg</td>\n",
       "      <td>Lexus</td>\n",
       "      <td>Any IS models to avoid?</td>\n",
       "      <td>I am looking at getting a used Lexus IS (2014 model year and newer). Are there any trim levels t...</td>\n",
       "      <td>autos</td>\n",
       "      <td>lexus</td>\n",
       "      <td>I am looking at getting a used Lexus IS (2014 model year and newer). Are there any trim levels t...</td>\n",
       "    </tr>\n",
       "    <tr>\n",
       "      <th>19999</th>\n",
       "      <td>8dxx3b</td>\n",
       "      <td>mercedes_benz</td>\n",
       "      <td>Advice please. Looking at a 2011 E550 with 71K miles. Good car?</td>\n",
       "      <td>Looking for some help. I've never owned any luxury car. Especially not a Mercedes. My husband's ...</td>\n",
       "      <td>autos</td>\n",
       "      <td>mercedes</td>\n",
       "      <td>Looking for some help. I've never owned any luxury car. Especially not a Mercedes. My husband's ...</td>\n",
       "    </tr>\n",
       "  </tbody>\n",
       "</table>\n",
       "<p>20000 rows × 7 columns</p>\n",
       "</div>"
      ],
      "text/plain": [
       "           id      subreddit  \\\n",
       "0      8f73s7         Harley   \n",
       "1      5s0q8r        Mustang   \n",
       "2      5z3405     Volkswagen   \n",
       "3      7df18v          Lexus   \n",
       "4      5tpve8           volt   \n",
       "...       ...            ...   \n",
       "19995  7i2k6y        4Runner   \n",
       "19996  83p2kv         Harley   \n",
       "19997  7x722h           volt   \n",
       "19998  7v2xmg          Lexus   \n",
       "19999  8dxx3b  mercedes_benz   \n",
       "\n",
       "                                                                 title  \\\n",
       "0                                                       No Club Colors   \n",
       "1                                                Roush vs Shleby GT500   \n",
       "2                             2001 Golf Wagon looking for some insight   \n",
       "3                                          IS 250 Coolant Flush/Change   \n",
       "4                                            Gen1 mpg w/ dead battery?   \n",
       "...                                                                ...   \n",
       "19995                                                  Bilstein Shocks   \n",
       "19996                  Question on potential purchase of crashed bike.   \n",
       "19997                          Got our first warning light on our dash   \n",
       "19998                                          Any IS models to avoid?   \n",
       "19999  Advice please. Looking at a 2011 E550 with 71K miles. Good car?   \n",
       "\n",
       "                                                                                                  raw_text  \\\n",
       "0      Funny story. I went to college in Las Vegas. This was before I knew anything about motorcycling ...   \n",
       "1      I am trying to determine which is faster, and I've seen the dealership video with the two racing...   \n",
       "2      Hello! <lb><lb>Trying to find some information on replacing a 2001 Golf Wagon starter (gas).... ...   \n",
       "3      https://www.cars.com/articles/how-often-should-i-change-engine-coolant-1420680853669/<lb><lb>I h...   \n",
       "4      Hi, new to this subreddit.  I'm considering buying a Gen1 Volt, but I can't find any straight an...   \n",
       "...                                                                                                    ...   \n",
       "19995  I read a lot Forums and people recommend getting TUNDRA Bilstein Shocks for a 3rd gen 4 runner, ...   \n",
       "19996  I am thinking about  buying a 2010 Harley Sportster 1200 custom for $6k with 7k miles. It has Va...   \n",
       "19997  My husband and I were headed somewhere and I was cold. So, I figured I could turn the car on bef...   \n",
       "19998  I am looking at getting a used Lexus IS (2014 model year and newer). Are there any trim levels t...   \n",
       "19999  Looking for some help. I've never owned any luxury car. Especially not a Mercedes. My husband's ...   \n",
       "\n",
       "      category      subcategory  \\\n",
       "0        autos  harley davidson   \n",
       "1        autos             ford   \n",
       "2        autos               VW   \n",
       "3        autos            lexus   \n",
       "4        autos        chevrolet   \n",
       "...        ...              ...   \n",
       "19995    autos           toyota   \n",
       "19996    autos  harley davidson   \n",
       "19997    autos        chevrolet   \n",
       "19998    autos            lexus   \n",
       "19999    autos         mercedes   \n",
       "\n",
       "                                                                                                      text  \n",
       "0      Funny story. I went to college in Las Vegas. This was before I knew anything about motorcycling ...  \n",
       "1      I am trying to determine which is faster, and I've seen the dealership video with the two racing...  \n",
       "2      Hello! Trying to find some information on replacing a 2001 Golf Wagon starter (gas).... mine's g...  \n",
       "3      https://www.cars.com/articles/how-often-should-i-change-engine-coolant-1420680853669/ I have a I...  \n",
       "4      Hi, new to this subreddit. I'm considering buying a Gen1 Volt, but I can't find any straight ans...  \n",
       "...                                                                                                    ...  \n",
       "19995  I read a lot Forums and people recommend getting TUNDRA Bilstein Shocks for a 3rd gen 4 runner, ...  \n",
       "19996  I am thinking about buying a 2010 Harley Sportster 1200 custom for $6k with 7k miles. It has Van...  \n",
       "19997  My husband and I were headed somewhere and I was cold. So, I figured I could turn the car on bef...  \n",
       "19998  I am looking at getting a used Lexus IS (2014 model year and newer). Are there any trim levels t...  \n",
       "19999  Looking for some help. I've never owned any luxury car. Especially not a Mercedes. My husband's ...  \n",
       "\n",
       "[20000 rows x 7 columns]"
      ]
     },
     "execution_count": 33,
     "metadata": {},
     "output_type": "execute_result"
    }
   ],
   "source": [
    "df"
   ]
  },
  {
   "cell_type": "markdown",
   "id": "2f16d12f-e615-4819-8689-f0f0218a03f5",
   "metadata": {},
   "source": [
    "# 4.5 토큰화"
   ]
  },
  {
   "cell_type": "markdown",
   "id": "e42c6911-0c27-45f3-b3b4-18b30e92ae06",
   "metadata": {},
   "source": [
    "## 정규표현식 토큰화"
   ]
  },
  {
   "cell_type": "code",
   "execution_count": 34,
   "id": "f3f4fc10-9dd4-49d0-b9bf-c3a80fdacdba",
   "metadata": {},
   "outputs": [
    {
     "name": "stdout",
     "output_type": "stream",
     "text": [
      "\n",
      "2019-08-10 23:32: @pete/@louis - I don't have a well-designed \n",
      "solution for today's problem. The code of module AC68 should be -1. \n",
      "Have to think a bit... #goodnight ;-) 😩😬\n"
     ]
    }
   ],
   "source": [
    "text = \"\"\"\n",
    "2019-08-10 23:32: @pete/@louis - I don't have a well-designed \n",
    "solution for today's problem. The code of module AC68 should be -1. \n",
    "Have to think a bit... #goodnight ;-) 😩😬\"\"\"\n",
    "print(text)"
   ]
  },
  {
   "cell_type": "code",
   "execution_count": 35,
   "id": "eb36db1f-2dd0-4ca6-acae-7c9abe8f9563",
   "metadata": {},
   "outputs": [
    {
     "name": "stdout",
     "output_type": "stream",
     "text": [
      "2019|08|10|23|32|pete|louis|don|have|well|designed|solution|for|today|problem|The|code|of|module|AC68|should|be|Have|to|think|bit|goodnight\n"
     ]
    }
   ],
   "source": [
    "tokens=re.findall(r'\\w\\w+', text)\n",
    "print(*tokens,sep='|')"
   ]
  },
  {
   "cell_type": "code",
   "execution_count": 36,
   "id": "3037cb81-faad-4c0e-894d-88e987470b47",
   "metadata": {},
   "outputs": [
    {
     "name": "stdout",
     "output_type": "stream",
     "text": [
      "2019-08-10|23:32|@pete|@louis|I|don't|have|a|well-designed|solution|for|today's|problem|The|code|of|module|AC68|should|be|-1|Have|to|think|a|bit|#goodnight|;-)|😩|😬\n"
     ]
    }
   ],
   "source": [
    "RE_TOKEN = re.compile(r\"\"\"\n",
    "               ( [#]?[@\\w'’\\.\\-\\:]*\\w     # words, hash tags and email adresses\n",
    "               | [:;<]\\-?[\\)\\(3]          # coarse pattern for basic text emojis\n",
    "               | [\\U0001F100-\\U0001FFFF]  # coarse code range for unicode emojis\n",
    "               )\n",
    "               \"\"\", re.VERBOSE)\n",
    "\n",
    "\n",
    "def tokenize(text):\n",
    "    return RE_TOKEN.findall(text)\n",
    "\n",
    "tokens=tokenize(text)\n",
    "print(*tokens, sep='|')"
   ]
  },
  {
   "cell_type": "markdown",
   "id": "ffe17f96-613d-4374-bcff-bf1766ca4856",
   "metadata": {},
   "source": [
    "## NLTL 토큰화\n",
    "- word_tokenize() 함수는 내부적으로 PunkSentenceTokenizer 와 TreebankWordTokenizer를 사용한다. "
   ]
  },
  {
   "cell_type": "code",
   "execution_count": 37,
   "id": "331b4b45-a7a2-4a06-8ab8-f2e3bf0fac13",
   "metadata": {},
   "outputs": [
    {
     "name": "stdout",
     "output_type": "stream",
     "text": [
      "2019-08-10|23:32|:|@|pete/|@|louis|-|I|do|n't|have|a|well-designed|solution|for|today|'s|problem|.|The|code|of|module|AC68|should|be|-1|.|Have|to|think|a|bit|...|#|goodnight|;|-|)|😩😬\n"
     ]
    }
   ],
   "source": [
    "import nltk # natural language toolkit\n",
    "tokens=nltk.tokenize.word_tokenize(text) # sentence -> word tokens\n",
    "print(*tokens,sep='|')"
   ]
  },
  {
   "cell_type": "code",
   "execution_count": 38,
   "id": "16d69b3d-5857-4261-b2fe-4f9cb07429ba",
   "metadata": {},
   "outputs": [
    {
     "name": "stdout",
     "output_type": "stream",
     "text": [
      "2019-08-10|23:32|@pete|@louis|I|don't|have|a|well-designed|solution|for|today's|problem|The|code|of|module|AC68|should|be|-1|Have|to|think|a|bit|#goodnight|;-)|😩|😬\n"
     ]
    }
   ],
   "source": [
    "# Regex Tokenizer\n",
    "tokenizer = nltk.tokenize.RegexpTokenizer(RE_TOKEN.pattern, flags=re.VERBOSE)\n",
    "tokens = tokenizer.tokenize(text)\n",
    "print(*tokens, sep='|')"
   ]
  },
  {
   "cell_type": "code",
   "execution_count": 39,
   "id": "31b1b726-b8e7-4f08-b27e-69f40ef230be",
   "metadata": {},
   "outputs": [
    {
     "name": "stdout",
     "output_type": "stream",
     "text": [
      "2019-08-|10|23:32|:|@pete|/|@louis|-|I|don't|have|a|well-designed|solution|for|today's|problem|.|The|code|of|module|AC68|should|be|-|1|.|Have|to|think|a|bit|...|#goodnight|;-)|😩|😬\n"
     ]
    }
   ],
   "source": [
    "# Tweet Tokenizer\n",
    "tokenizer = nltk.tokenize.TweetTokenizer()\n",
    "tokens = tokenizer.tokenize(text)\n",
    "print(*tokens, sep='|')"
   ]
  },
  {
   "cell_type": "code",
   "execution_count": 40,
   "id": "db6fc3b6-3bfc-437d-bc0d-f99914055100",
   "metadata": {},
   "outputs": [
    {
     "name": "stdout",
     "output_type": "stream",
     "text": [
      "2019-08-10|23|:|32|:|@pete/@louis|-|I|don|'|t|have|a|well-designed|solution|for|today|'|s|problem.|The|code|of|module|AC68|should|be|-1.|Have|to|think|a|bit|...|#goodnight|;|-|)|😩😬\n"
     ]
    }
   ],
   "source": [
    "# Toktok Tokenizer\n",
    "tokenizer = nltk.tokenize.ToktokTokenizer()\n",
    "tokens = tokenizer.tokenize(text)\n",
    "print(*tokens, sep='|')"
   ]
  },
  {
   "cell_type": "markdown",
   "id": "de25d049-4ca4-49ff-8a9c-4f7bcb2c272d",
   "metadata": {},
   "source": [
    "# 4.6 언어 처리: spacy\n",
    "- 스페이시의 파이프라인: from 텍스트 toward 문서\n",
    "- 토큰화 작업 -> 품사 태거 -> 의존분석 파서 -> 개체명 인식기 -> ..."
   ]
  },
  {
   "cell_type": "markdown",
   "id": "b23727e3-876b-4f90-bc20-383557c6c281",
   "metadata": {},
   "source": [
    "## 파이프라인 인스턴스화\n",
    "- tagger, parser, entityrecognizer"
   ]
  },
  {
   "cell_type": "markdown",
   "id": "f8c2cde8-c1c2-4396-86c9-d5c5b7732f84",
   "metadata": {},
   "source": [
    "!pip install spacy"
   ]
  },
  {
   "cell_type": "markdown",
   "id": "91d554e9-7a67-499a-ae98-81003530022d",
   "metadata": {},
   "source": [
    "spacy.__version__\n",
    "!python -m spacy download en"
   ]
  },
  {
   "cell_type": "code",
   "execution_count": 41,
   "id": "70fb4a9b-292d-4f1d-b71d-550257ac16ea",
   "metadata": {},
   "outputs": [],
   "source": [
    "import spacy\n",
    "nlp = spacy.load('en_core_web_sm')"
   ]
  },
  {
   "cell_type": "code",
   "execution_count": 42,
   "id": "5bc86065-23aa-4c4f-8c98-f253bc5171be",
   "metadata": {},
   "outputs": [
    {
     "data": {
      "text/plain": [
       "[('tok2vec', <spacy.pipeline.tok2vec.Tok2Vec at 0x2369bf4a8d0>),\n",
       " ('tagger', <spacy.pipeline.tagger.Tagger at 0x2369bf4a870>),\n",
       " ('parser', <spacy.pipeline.dep_parser.DependencyParser at 0x2369be493f0>),\n",
       " ('attribute_ruler',\n",
       "  <spacy.pipeline.attributeruler.AttributeRuler at 0x2369c0a9e50>),\n",
       " ('lemmatizer', <spacy.lang.en.lemmatizer.EnglishLemmatizer at 0x2369c0aac50>),\n",
       " ('ner', <spacy.pipeline.ner.EntityRecognizer at 0x2369be49150>)]"
      ]
     },
     "execution_count": 42,
     "metadata": {},
     "output_type": "execute_result"
    }
   ],
   "source": [
    "nlp.pipeline"
   ]
  },
  {
   "cell_type": "code",
   "execution_count": 43,
   "id": "7bc583d1-b46c-406c-b94d-ea74c82b4e12",
   "metadata": {},
   "outputs": [
    {
     "name": "stdout",
     "output_type": "stream",
     "text": [
      "[('tagger', <spacy.pipeline.tagger.Tagger object at 0x000002369CC17D70>)]\n"
     ]
    }
   ],
   "source": [
    "## 시간 효율성을 위하여 필요한 부분만 enalbe해둔다.\n",
    "nlp=spacy.load(\"en_core_web_sm\", enable=[\"tagger\"])\n",
    "## 다시 켤때는 enable\n",
    "print(nlp.pipeline)"
   ]
  },
  {
   "cell_type": "markdown",
   "id": "7e1f6921-6f86-449f-9730-5498d6b53a2b",
   "metadata": {},
   "source": [
    "## 텍스트 처리: display_nlp() 함수\n",
    "- return: spacy.tokens.doc.Doc 객체\n",
    "- 스페이시 내장 파이프 라인을 통해 생성되는 속성 목록\n",
    "- 1) Tokenizer: Token.is_punct, Token.is_alpha, Token.like_email. Token.like_url\n",
    "  2) Part-of-speech tagger: Token.pos_\n",
    "  3) Dependency parser: Token.dep_, Token.head, Doc.sents, Doc.noun_chunks(명사덩어리)\n",
    "  4) Named-entity recognizer: Doc.ents, Token.ent_iob_, Token.ent_type_"
   ]
  },
  {
   "cell_type": "code",
   "execution_count": 44,
   "id": "5a1ceb84-2721-4f9a-ada9-a4b2df115b35",
   "metadata": {},
   "outputs": [
    {
     "data": {
      "text/plain": [
       "<bound method Language.make_doc of <spacy.lang.en.English object at 0x000002369BE16790>>"
      ]
     },
     "execution_count": 44,
     "metadata": {},
     "output_type": "execute_result"
    }
   ],
   "source": [
    "nlp.make_doc"
   ]
  },
  {
   "cell_type": "code",
   "execution_count": 45,
   "id": "fbf40d1b-57dc-4480-9253-493e69fed294",
   "metadata": {},
   "outputs": [
    {
     "name": "stdout",
     "output_type": "stream",
     "text": [
      "My best friend Ryan Peters likes fancy adventure games.\n",
      "<class 'spacy.tokens.doc.Doc'>\n"
     ]
    }
   ],
   "source": [
    "nlp=spacy.load(\"en_core_web_sm\")\n",
    "text = \"My best friend Ryan Peters likes fancy adventure games.\"\n",
    "print(nlp(text))\n",
    "print(type(nlp(text)))"
   ]
  },
  {
   "cell_type": "code",
   "execution_count": 46,
   "id": "26cda73a-1773-42d2-98f6-82f4daaa07aa",
   "metadata": {},
   "outputs": [
    {
     "name": "stdout",
     "output_type": "stream",
     "text": [
      "My|best|friend|Ryan|Peters|likes|fancy|adventure|games|.|"
     ]
    }
   ],
   "source": [
    "doc=nlp(text)\n",
    "for token in doc:\n",
    "    print(token, end='|')"
   ]
  },
  {
   "cell_type": "markdown",
   "id": "8c27938e-5cfe-49fe-8ef5-d251e821e26c",
   "metadata": {},
   "source": [
    "display_nlp 함수\n",
    "\n",
    "- 네, 이 코드는 Spacy의 Doc 객체를 분석하고, 각 토큰의 속성을 데이터프레임으로 표시하는 함수입니다. 각 속성에 대해 자세히 설명드리겠습니다:\r\n",
    "\r\n",
    "- `token`: 이는 토큰의 인덱스를 나타냅니다. Doc 객체는 여러 토큰으로 구성되며, 각 토큰은 고유한 인덱스를 가집니다.\r\n",
    "- `text`: 이는 토큰의 텍스트를 나타냅니다. 이는 원본 문서에서 토큰의 실제 텍스트를 나타냅니다.\r\n",
    "- `lemma_`: 이는 토큰의 기본형을 나타냅니다. 이는 단어의 원형을 나타내며, 동사의 경우 원형, 명사의 경우 단수형 등을 나타냅니다.\r\n",
    "- `is_stop`: 이는 토큰이 불용어인지 여부를 나타냅니다. 불용어는 'the', 'is', 'in'과 같이 문맥상 큰 의미가 없는 단어를 의미합니다.\r\n",
    "- `is_alpha`: 이는 토큰이 알파벳 문자로만 구성되어 있는지 여부를 나타냅니다.\r\n",
    "- `pos_`: 이는 토큰의 품사를 나타냅니다. 이는 'NOUN'(명사), 'VERB'(동사), 'ADJ'(형용사) 등과 같은 품사 정보를 제공합니다.\r\n",
    "- `dep_`: 이는 토큰의 의존 구문 관계를 나타냅니다. 이는 'nsubj'(주어), 'dobj'(목적어) 등과 같은 구문 관계를 나타냅니다.\r\n",
    "- `ent_type_`: 이는 토큰이 속한 개체명의 유형을 나타냅니다. 예를 들어, 'ORG'(조직), 'GPE'(지리적인 장소) 등의 유형이 있습니다.\r\n",
    "- `ent_iob_`: 이는 토큰이 개체명의 일부인지, 그리고 그 개체명이 시작하는지(i.e., 'B' for Beginning), 계속되는지(i.e., 'I' for Inside), 아니면 개체명이 아닌지(i.e., 'O' for Outside)를 나타냅니다.\r\n",
    "\r\n",
    "이 함수는 이러한 속성들을 각 토큰에 대해 수집하고, 이를 데이터프레임으로 변환하여 반환합니다. 이 데이터프레임은 자연어 처리 작업을 위한 초기 분석 단계에서 유용하게 사용될 수 있습니다. 다른 질문이 있으시면 언제든지 물어보세요. 😊"
   ]
  },
  {
   "cell_type": "code",
   "execution_count": 47,
   "id": "d5b0a70d-3b88-4153-8baa-e722860252c7",
   "metadata": {},
   "outputs": [],
   "source": [
    "def display_nlp(doc,include_punct=False): # spacy Doc 객체를 매개변수로 받는다.\n",
    "    \"\"\"스페이시 토큰들의 시각화를 위한 데이터프레임 생성하기\"\"\"\n",
    "    rows=[]\n",
    "    for i, t in enumerate(doc):\n",
    "        if not t.is_punct or include_punct:\n",
    "            row={\n",
    "                'token': i, 'text':t.text, 'lemma_': t.lemma_,\n",
    "                'is_stop': t.is_stop, 'is_alpha':t.is_alpha,\n",
    "                'pos_':t.pos_, 'dep_':t.dep_,\n",
    "                'ent_type':t.ent_type_, 'ent_iob':t.ent_iob_\n",
    "            }\n",
    "            rows.append(row)\n",
    "    df=pd.DataFrame(rows).set_index('token')\n",
    "    df.index.name=None\n",
    "    return df"
   ]
  },
  {
   "cell_type": "code",
   "execution_count": 48,
   "id": "6ef40b25-ba4f-4486-bf06-7ee66427f67e",
   "metadata": {},
   "outputs": [
    {
     "data": {
      "text/html": [
       "<div>\n",
       "<style scoped>\n",
       "    .dataframe tbody tr th:only-of-type {\n",
       "        vertical-align: middle;\n",
       "    }\n",
       "\n",
       "    .dataframe tbody tr th {\n",
       "        vertical-align: top;\n",
       "    }\n",
       "\n",
       "    .dataframe thead th {\n",
       "        text-align: right;\n",
       "    }\n",
       "</style>\n",
       "<table border=\"1\" class=\"dataframe\">\n",
       "  <thead>\n",
       "    <tr style=\"text-align: right;\">\n",
       "      <th></th>\n",
       "      <th>text</th>\n",
       "      <th>lemma_</th>\n",
       "      <th>is_stop</th>\n",
       "      <th>is_alpha</th>\n",
       "      <th>pos_</th>\n",
       "      <th>dep_</th>\n",
       "      <th>ent_type</th>\n",
       "      <th>ent_iob</th>\n",
       "    </tr>\n",
       "  </thead>\n",
       "  <tbody>\n",
       "    <tr>\n",
       "      <th>0</th>\n",
       "      <td>My</td>\n",
       "      <td>my</td>\n",
       "      <td>True</td>\n",
       "      <td>True</td>\n",
       "      <td>PRON</td>\n",
       "      <td>poss</td>\n",
       "      <td></td>\n",
       "      <td>O</td>\n",
       "    </tr>\n",
       "    <tr>\n",
       "      <th>1</th>\n",
       "      <td>best</td>\n",
       "      <td>good</td>\n",
       "      <td>False</td>\n",
       "      <td>True</td>\n",
       "      <td>ADJ</td>\n",
       "      <td>amod</td>\n",
       "      <td></td>\n",
       "      <td>O</td>\n",
       "    </tr>\n",
       "    <tr>\n",
       "      <th>2</th>\n",
       "      <td>friend</td>\n",
       "      <td>friend</td>\n",
       "      <td>False</td>\n",
       "      <td>True</td>\n",
       "      <td>NOUN</td>\n",
       "      <td>nsubj</td>\n",
       "      <td></td>\n",
       "      <td>O</td>\n",
       "    </tr>\n",
       "    <tr>\n",
       "      <th>3</th>\n",
       "      <td>Ryan</td>\n",
       "      <td>Ryan</td>\n",
       "      <td>False</td>\n",
       "      <td>True</td>\n",
       "      <td>PROPN</td>\n",
       "      <td>compound</td>\n",
       "      <td>PERSON</td>\n",
       "      <td>B</td>\n",
       "    </tr>\n",
       "    <tr>\n",
       "      <th>4</th>\n",
       "      <td>Peters</td>\n",
       "      <td>Peters</td>\n",
       "      <td>False</td>\n",
       "      <td>True</td>\n",
       "      <td>PROPN</td>\n",
       "      <td>appos</td>\n",
       "      <td>PERSON</td>\n",
       "      <td>I</td>\n",
       "    </tr>\n",
       "    <tr>\n",
       "      <th>5</th>\n",
       "      <td>likes</td>\n",
       "      <td>like</td>\n",
       "      <td>False</td>\n",
       "      <td>True</td>\n",
       "      <td>VERB</td>\n",
       "      <td>ROOT</td>\n",
       "      <td></td>\n",
       "      <td>O</td>\n",
       "    </tr>\n",
       "    <tr>\n",
       "      <th>6</th>\n",
       "      <td>fancy</td>\n",
       "      <td>fancy</td>\n",
       "      <td>False</td>\n",
       "      <td>True</td>\n",
       "      <td>ADJ</td>\n",
       "      <td>amod</td>\n",
       "      <td></td>\n",
       "      <td>O</td>\n",
       "    </tr>\n",
       "    <tr>\n",
       "      <th>7</th>\n",
       "      <td>adventure</td>\n",
       "      <td>adventure</td>\n",
       "      <td>False</td>\n",
       "      <td>True</td>\n",
       "      <td>NOUN</td>\n",
       "      <td>compound</td>\n",
       "      <td></td>\n",
       "      <td>O</td>\n",
       "    </tr>\n",
       "    <tr>\n",
       "      <th>8</th>\n",
       "      <td>games</td>\n",
       "      <td>game</td>\n",
       "      <td>False</td>\n",
       "      <td>True</td>\n",
       "      <td>NOUN</td>\n",
       "      <td>dobj</td>\n",
       "      <td></td>\n",
       "      <td>O</td>\n",
       "    </tr>\n",
       "  </tbody>\n",
       "</table>\n",
       "</div>"
      ],
      "text/plain": [
       "        text     lemma_  is_stop  is_alpha   pos_      dep_ ent_type ent_iob\n",
       "0         My         my     True      True   PRON      poss                O\n",
       "1       best       good    False      True    ADJ      amod                O\n",
       "2     friend     friend    False      True   NOUN     nsubj                O\n",
       "3       Ryan       Ryan    False      True  PROPN  compound   PERSON       B\n",
       "4     Peters     Peters    False      True  PROPN     appos   PERSON       I\n",
       "5      likes       like    False      True   VERB      ROOT                O\n",
       "6      fancy      fancy    False      True    ADJ      amod                O\n",
       "7  adventure  adventure    False      True   NOUN  compound                O\n",
       "8      games       game    False      True   NOUN      dobj                O"
      ]
     },
     "execution_count": 48,
     "metadata": {},
     "output_type": "execute_result"
    }
   ],
   "source": [
    "display_nlp(doc)"
   ]
  },
  {
   "cell_type": "markdown",
   "id": "b23c86ad-2b96-4379-b21e-cb847af801f6",
   "metadata": {},
   "source": [
    "## 사용자정의 토큰화: custom_tokenizer() 함수\n",
    "- spacy의 토큰화는 #, - , _ 이 있을 때 분할하는 경우도 있으므로, 원하는 방식으로 작동시키려면, 동작을 조정해햐함."
   ]
  },
  {
   "cell_type": "code",
   "execution_count": 49,
   "id": "0188f764-4de8-4c7b-a17e-3123897e6eab",
   "metadata": {},
   "outputs": [
    {
     "name": "stdout",
     "output_type": "stream",
     "text": [
      "@Pete|:|choose|low|-|carb|#|food|#|eat|-|smart|.|_|url|_|;-)|😋|👍|"
     ]
    }
   ],
   "source": [
    "text = \"@Pete: choose low-carb #food #eat-smart. _url_ ;-) 😋👍\"\n",
    "nlp = spacy.load('en_core_web_sm') ###\n",
    "doc = nlp(text)\n",
    "\n",
    "for token in doc:\n",
    "    print(token, end=\"|\")\n",
    "## - 을 기준으로 단어르 분할해버린다."
   ]
  },
  {
   "cell_type": "code",
   "execution_count": 50,
   "id": "cddd5607-5948-4116-95eb-d14a781c4cf6",
   "metadata": {},
   "outputs": [],
   "source": [
    "from spacy.tokenizer import Tokenizer\n",
    "from spacy.util import compile_prefix_regex, compile_infix_regex, compile_suffix_regex\n",
    "# prefix: 접두사, infix: 중위, suffix: 접미사\n",
    "def custom_tokenizer(nlp):\n",
    "\n",
    "    # re.search와 일치하는 패턴을 제외하고, 기본 패턴을 사용한다.\n",
    "    prefixes = [pattern for pattern in nlp.Defaults.prefixes\n",
    "               if pattern not in ['-','_','#']]\n",
    "    suffixes = [pattern for pattern in nlp.Defaults.suffixes\n",
    "               if pattern not in ['_']]\n",
    "    infixes = [pattern for pattern in nlp.Defaults.infixes\n",
    "              if not re.search(pattern, 'xx-xx')]\n",
    "    return Tokenizer(vocab=nlp.vocab,\n",
    "                    rules=nlp.Defaults.tokenizer_exceptions,\n",
    "                    prefix_search=compile_prefix_regex(prefixes).search,\n",
    "                    suffix_search=compile_suffix_regex(suffixes).search,\n",
    "                    infix_finditer=compile_infix_regex(infixes).finditer,\n",
    "                    token_match = nlp.Defaults.token_match)"
   ]
  },
  {
   "cell_type": "code",
   "execution_count": 51,
   "id": "a6e5966b-6452-499f-ab99-b55c86bb53b3",
   "metadata": {},
   "outputs": [
    {
     "name": "stdout",
     "output_type": "stream",
     "text": [
      "['§', '%', '=', '—', '–', '\\\\+(?![0-9])', '…', '……', ',', ':', ';', '\\\\!', '\\\\?', '¿', '؟', '¡', '\\\\(', '\\\\)', '\\\\[', '\\\\]', '\\\\{', '\\\\}', '<', '>', '_', '#', '\\\\*', '&', '。', '？', '！', '，', '、', '；', '：', '～', '·', '।', '،', '۔', '؛', '٪', '\\\\.\\\\.+', '…', \"\\\\'\", '\"', '”', '“', '`', '‘', '´', '’', '‚', ',', '„', '»', '«', '「', '」', '『', '』', '（', '）', '〔', '〕', '【', '】', '《', '》', '〈', '〉', '〈', '〉', '', '⟦', '⟧', '\\\\$', '£', '€', '¥', '฿', 'US\\\\$', 'C\\\\$', 'A\\\\$', '₽', '﷼', '₴', '₠', '₡', '₢', '₣', '₤', '₥', '₦', '₧', '₨', '₩', '₪', '₫', '€', '₭', '₮', '₯', '₰', '₱', '₲', '₳', '₴', '₵', '₶', '₷', '₸', '₹', '₺', '₻', '₼', '₽', '₾', '₿', '[\\\\u00A6\\\\u00A9\\\\u00AE\\\\u00B0\\\\u0482\\\\u058D\\\\u058E\\\\u060E\\\\u060F\\\\u06DE\\\\u06E9\\\\u06FD\\\\u06FE\\\\u07F6\\\\u09FA\\\\u0B70\\\\u0BF3-\\\\u0BF8\\\\u0BFA\\\\u0C7F\\\\u0D4F\\\\u0D79\\\\u0F01-\\\\u0F03\\\\u0F13\\\\u0F15-\\\\u0F17\\\\u0F1A-\\\\u0F1F\\\\u0F34\\\\u0F36\\\\u0F38\\\\u0FBE-\\\\u0FC5\\\\u0FC7-\\\\u0FCC\\\\u0FCE\\\\u0FCF\\\\u0FD5-\\\\u0FD8\\\\u109E\\\\u109F\\\\u1390-\\\\u1399\\\\u1940\\\\u19DE-\\\\u19FF\\\\u1B61-\\\\u1B6A\\\\u1B74-\\\\u1B7C\\\\u2100\\\\u2101\\\\u2103-\\\\u2106\\\\u2108\\\\u2109\\\\u2114\\\\u2116\\\\u2117\\\\u211E-\\\\u2123\\\\u2125\\\\u2127\\\\u2129\\\\u212E\\\\u213A\\\\u213B\\\\u214A\\\\u214C\\\\u214D\\\\u214F\\\\u218A\\\\u218B\\\\u2195-\\\\u2199\\\\u219C-\\\\u219F\\\\u21A1\\\\u21A2\\\\u21A4\\\\u21A5\\\\u21A7-\\\\u21AD\\\\u21AF-\\\\u21CD\\\\u21D0\\\\u21D1\\\\u21D3\\\\u21D5-\\\\u21F3\\\\u2300-\\\\u2307\\\\u230C-\\\\u231F\\\\u2322-\\\\u2328\\\\u232B-\\\\u237B\\\\u237D-\\\\u239A\\\\u23B4-\\\\u23DB\\\\u23E2-\\\\u2426\\\\u2440-\\\\u244A\\\\u249C-\\\\u24E9\\\\u2500-\\\\u25B6\\\\u25B8-\\\\u25C0\\\\u25C2-\\\\u25F7\\\\u2600-\\\\u266E\\\\u2670-\\\\u2767\\\\u2794-\\\\u27BF\\\\u2800-\\\\u28FF\\\\u2B00-\\\\u2B2F\\\\u2B45\\\\u2B46\\\\u2B4D-\\\\u2B73\\\\u2B76-\\\\u2B95\\\\u2B98-\\\\u2BC8\\\\u2BCA-\\\\u2BFE\\\\u2CE5-\\\\u2CEA\\\\u2E80-\\\\u2E99\\\\u2E9B-\\\\u2EF3\\\\u2F00-\\\\u2FD5\\\\u2FF0-\\\\u2FFB\\\\u3004\\\\u3012\\\\u3013\\\\u3020\\\\u3036\\\\u3037\\\\u303E\\\\u303F\\\\u3190\\\\u3191\\\\u3196-\\\\u319F\\\\u31C0-\\\\u31E3\\\\u3200-\\\\u321E\\\\u322A-\\\\u3247\\\\u3250\\\\u3260-\\\\u327F\\\\u328A-\\\\u32B0\\\\u32C0-\\\\u32FE\\\\u3300-\\\\u33FF\\\\u4DC0-\\\\u4DFF\\\\uA490-\\\\uA4C6\\\\uA828-\\\\uA82B\\\\uA836\\\\uA837\\\\uA839\\\\uAA77-\\\\uAA79\\\\uFDFD\\\\uFFE4\\\\uFFE8\\\\uFFED\\\\uFFEE\\\\uFFFC\\\\uFFFD\\\\U00010137-\\\\U0001013F\\\\U00010179-\\\\U00010189\\\\U0001018C-\\\\U0001018E\\\\U00010190-\\\\U0001019B\\\\U000101A0\\\\U000101D0-\\\\U000101FC\\\\U00010877\\\\U00010878\\\\U00010AC8\\\\U0001173F\\\\U00016B3C-\\\\U00016B3F\\\\U00016B45\\\\U0001BC9C\\\\U0001D000-\\\\U0001D0F5\\\\U0001D100-\\\\U0001D126\\\\U0001D129-\\\\U0001D164\\\\U0001D16A-\\\\U0001D16C\\\\U0001D183\\\\U0001D184\\\\U0001D18C-\\\\U0001D1A9\\\\U0001D1AE-\\\\U0001D1E8\\\\U0001D200-\\\\U0001D241\\\\U0001D245\\\\U0001D300-\\\\U0001D356\\\\U0001D800-\\\\U0001D9FF\\\\U0001DA37-\\\\U0001DA3A\\\\U0001DA6D-\\\\U0001DA74\\\\U0001DA76-\\\\U0001DA83\\\\U0001DA85\\\\U0001DA86\\\\U0001ECAC\\\\U0001F000-\\\\U0001F02B\\\\U0001F030-\\\\U0001F093\\\\U0001F0A0-\\\\U0001F0AE\\\\U0001F0B1-\\\\U0001F0BF\\\\U0001F0C1-\\\\U0001F0CF\\\\U0001F0D1-\\\\U0001F0F5\\\\U0001F110-\\\\U0001F16B\\\\U0001F170-\\\\U0001F1AC\\\\U0001F1E6-\\\\U0001F202\\\\U0001F210-\\\\U0001F23B\\\\U0001F240-\\\\U0001F248\\\\U0001F250\\\\U0001F251\\\\U0001F260-\\\\U0001F265\\\\U0001F300-\\\\U0001F3FA\\\\U0001F400-\\\\U0001F6D4\\\\U0001F6E0-\\\\U0001F6EC\\\\U0001F6F0-\\\\U0001F6F9\\\\U0001F700-\\\\U0001F773\\\\U0001F780-\\\\U0001F7D8\\\\U0001F800-\\\\U0001F80B\\\\U0001F810-\\\\U0001F847\\\\U0001F850-\\\\U0001F859\\\\U0001F860-\\\\U0001F887\\\\U0001F890-\\\\U0001F8AD\\\\U0001F900-\\\\U0001F90B\\\\U0001F910-\\\\U0001F93E\\\\U0001F940-\\\\U0001F970\\\\U0001F973-\\\\U0001F976\\\\U0001F97A\\\\U0001F97C-\\\\U0001F9A2\\\\U0001F9B0-\\\\U0001F9B9\\\\U0001F9C0-\\\\U0001F9C2\\\\U0001F9D0-\\\\U0001F9FF\\\\U0001FA60-\\\\U0001FA6D]']\n"
     ]
    }
   ],
   "source": [
    "print(nlp.Defaults.prefixes)"
   ]
  },
  {
   "cell_type": "code",
   "execution_count": 52,
   "id": "3d720f0a-4960-4bc4-bd22-eee5bfbb551f",
   "metadata": {},
   "outputs": [
    {
     "name": "stdout",
     "output_type": "stream",
     "text": [
      "0\n",
      "1\n",
      "@Pete|:|choose|low-carb|#food|#eat-smart|.|_url_|;-)|😋|👍|"
     ]
    }
   ],
   "source": [
    "nlp=spacy.load('en_core_web_sm')\n",
    "nlp.tokenizer=custom_tokenizer(nlp)\n",
    "\n",
    "text = \"@Pete: choose low-carb #food #eat-smart. _url_ ;-) 😋👍\"\n",
    "doc=nlp(text)\n",
    "\n",
    "print(nlp.tokenizer.find_prefix('#'))\n",
    "print(nlp.tokenizer.find_prefix('%'))\n",
    "\n",
    "for token in doc:\n",
    "    print(token, end='|')\n"
   ]
  },
  {
   "cell_type": "markdown",
   "id": "f635cb69-b9ab-4eb3-a1f1-6efc04bb4e00",
   "metadata": {},
   "source": [
    "## 불용어 제거: nlp.vocab[].is_stop="
   ]
  },
  {
   "cell_type": "code",
   "execution_count": 53,
   "id": "d196adfe-8a1f-491e-a928-3e49a765ffce",
   "metadata": {},
   "outputs": [
    {
     "name": "stdout",
     "output_type": "stream",
     "text": [
      "[Dear, Ryan, need, sit, talk, Regards, Pete]\n"
     ]
    }
   ],
   "source": [
    "text=\"Dear Ryan, we need to sit down and talk. Regards, Pete\"\n",
    "doc=nlp(text) \n",
    "non_stop=[t for t in doc if not t.is_stop and not t.is_punct]\n",
    "print(non_stop)"
   ]
  },
  {
   "cell_type": "code",
   "execution_count": 54,
   "id": "9bd76aba-3c3e-4902-939e-6f0e422aff07",
   "metadata": {},
   "outputs": [
    {
     "data": {
      "text/plain": [
       "<spacy.lexeme.Lexeme at 0x2369c173b80>"
      ]
     },
     "execution_count": 54,
     "metadata": {},
     "output_type": "execute_result"
    }
   ],
   "source": [
    "nlp=spacy.load('en_core_web_sm')\n",
    "nlp.vocab['down'].is_stop=False # 'down'을 스탑워드에서 제거하기\n",
    "nlp.vocab['Dear'].is_stop=True # 'Dear'를 스탑워드에 추가하기\n",
    "## nlp.vocab은 아마도 딕셔너리 형태일 것으로 추정\n",
    "nlp.vocab['Regards']"
   ]
  },
  {
   "cell_type": "code",
   "execution_count": 55,
   "id": "bb596953-77b8-4dfe-9d0f-e499290b93a7",
   "metadata": {},
   "outputs": [
    {
     "name": "stdout",
     "output_type": "stream",
     "text": [
      "[Ryan, need, sit, down, talk, Regards, Pete]\n"
     ]
    }
   ],
   "source": [
    "text=\"Dear Ryan, we need to sit down and talk. Regards, Pete\"\n",
    "doc=nlp(text) \n",
    "non_stop=[t for t in doc if not t.is_stop and not t.is_punct]\n",
    "print(non_stop)"
   ]
  },
  {
   "cell_type": "markdown",
   "id": "6ae84dc3-0941-44b0-b1c1-a67e28223935",
   "metadata": {},
   "source": [
    "## 품사기반 단어원형 추출: token.lemma_ 및 extract_lemmas() 함수"
   ]
  },
  {
   "cell_type": "code",
   "execution_count": 56,
   "id": "f8ad0e23-0c81-4185-9616-0068eccae74e",
   "metadata": {},
   "outputs": [
    {
     "name": "stdout",
     "output_type": "stream",
     "text": [
      "my|good|friend|Ryan|Peters|like|fancy|adventure|game|.\n"
     ]
    }
   ],
   "source": [
    "text = \"My best friend Ryan Peters likes fancy adventure games.\"\n",
    "doc = nlp(text)\n",
    "\n",
    "print(*[t.lemma_ for t in doc], sep='|')"
   ]
  },
  {
   "cell_type": "code",
   "execution_count": 57,
   "id": "0952f473-4863-48b5-b08e-e1f3d86bce36",
   "metadata": {},
   "outputs": [
    {
     "name": "stdout",
     "output_type": "stream",
     "text": [
      "[friend, Ryan, Peters, adventure, games]\n"
     ]
    }
   ],
   "source": [
    "text = \"My best friend Ryan Peters likes fancy adventure games.\"\n",
    "doc = nlp(text)\n",
    "\n",
    "nouns = [t for t in doc if t.pos_ in ['NOUN', 'PROPN']]\n",
    "print(nouns)"
   ]
  },
  {
   "cell_type": "code",
   "execution_count": 58,
   "id": "c2bd7d6c-df78-4a13-aeff-a97fea11465d",
   "metadata": {},
   "outputs": [
    {
     "name": "stdout",
     "output_type": "stream",
     "text": [
      "best|friend|fancy|adventure|games\n"
     ]
    }
   ],
   "source": [
    "import textacy\n",
    "\n",
    "tokens = textacy.extract.words(doc, \n",
    "            filter_stops = True,           # default True, 불용어를 허용하지 않는다.\n",
    "            filter_punct = True,           # default True, 구두점을 허용하지 않는다.\n",
    "            filter_nums = True,            # default False, 숫자를 허용하지 않는다.\n",
    "            include_pos = ['ADJ', 'NOUN'], # default None = 모든 품사를 허용한다.(여기서는 형용사와 명사만 허용)\n",
    "            exclude_pos = None,            # default None = 모든 품사를 배제하지 않는다. (여기서는 형용사와 명사 제외한 모든 품사 제외)\n",
    "            min_freq = 1)                  # minimum frequency of words\n",
    "\n",
    "print(*[t for t in tokens], sep='|')"
   ]
  },
  {
   "cell_type": "code",
   "execution_count": 59,
   "id": "4dadcbd4-ca80-4404-ab24-921ff82f8371",
   "metadata": {},
   "outputs": [
    {
     "name": "stdout",
     "output_type": "stream",
     "text": [
      "best|friend|fancy|adventure|games\n"
     ]
    }
   ],
   "source": [
    "lemmas = textacy.extract.words(doc, include_pos=['ADJ','NOUN'])\n",
    "print(*lemmas, sep='|')"
   ]
  },
  {
   "cell_type": "code",
   "execution_count": 85,
   "id": "213e98ac-e9e7-4020-8c09-165b8404b689",
   "metadata": {},
   "outputs": [
    {
     "name": "stdout",
     "output_type": "stream",
     "text": [
      "good|freind|fancy|adventure|game\n"
     ]
    }
   ],
   "source": [
    "def extract_lemmas(doc, **kwargs):\n",
    "    return [t.lemma_ for t in textacy.extract.words(doc, **kwargs)]\n",
    "lemmas=extract_lemmas(doc, include_pos=['ADJ','NOUN']) # pos: part of speech : 품사 \n",
    "print(*lemmas, sep='|')"
   ]
  },
  {
   "cell_type": "markdown",
   "id": "883f0612-57fa-4a6b-8db5-0cd0c96137f1",
   "metadata": {},
   "source": [
    "## 명사구 추출: doc.noun_chunks 및 extract_noun_phrase() 함수"
   ]
  },
  {
   "cell_type": "code",
   "execution_count": 60,
   "id": "224712b5-044e-4d83-9a01-701f565beb5e",
   "metadata": {},
   "outputs": [
    {
     "name": "stdout",
     "output_type": "stream",
     "text": [
      "good friend|fancy adventure|fancy adventure game\n",
      "My best friend|Ryan Peters|fancy adventure games\n"
     ]
    }
   ],
   "source": [
    "text = \"My best friend Ryan Peters likes fancy adventure games.\"\n",
    "doc=nlp(text)\n",
    "\n",
    "patterns=[\"POS:ADJ POS:NOUN:+\"] # 형용사 명사 조합만을 추출하기 위한 전략\n",
    "spans=textacy.extract.matches.token_matches(doc, patterns=patterns)\n",
    "print(*[s.lemma_ for s in spans], sep='|')\n",
    "\n",
    "print(*doc.noun_chunks, sep='|')"
   ]
  },
  {
   "cell_type": "code",
   "execution_count": 61,
   "id": "b5e5cf22-3675-4d54-9da1-3f7cd7956316",
   "metadata": {},
   "outputs": [
    {
     "name": "stdout",
     "output_type": "stream",
     "text": [
      "good friend|fancy adventure|fancy adventure game|adventure game\n"
     ]
    }
   ],
   "source": [
    "def extract_noun_phrases(doc, preceding_pos=['NOUN'], sep=' '):\n",
    "    patterns=[]\n",
    "    for pos in preceding_pos:\n",
    "        patterns.append(f\"POS:{pos} POS:NOUN:+\")\n",
    "\n",
    "    spans=textacy.extract.matches.token_matches(doc, patterns=patterns)\n",
    "    return [sep.join([t.lemma_ for t in s]) for s in spans] ## lemmatization 까지 한 상태로 match된 토큰들을 반환\n",
    "print(*extract_noun_phrases(doc,['ADJ', 'NOUN']), sep='|')"
   ]
  },
  {
   "cell_type": "markdown",
   "id": "3d3a843a-711b-474a-bc98-c86ed79c19e0",
   "metadata": {},
   "source": [
    "## 개체명 추출: displacy 모듈 및 extract_entities() 함수\n",
    "- ent_type_: entity type (person 등)\n",
    "- ent_iob_:\n",
    "- - B: 해당 토큰에서 개체가 시작되는 것인지.\n",
    "  - I: 개체의 일부분인지.\n",
    "  - O: 개체가 아닌지."
   ]
  },
  {
   "cell_type": "code",
   "execution_count": 62,
   "id": "1ffa2def-ef44-41ee-a3b1-b2de23f41b12",
   "metadata": {},
   "outputs": [
    {
     "name": "stdout",
     "output_type": "stream",
     "text": [
      "(James O'Neill, PERSON) (World Cargo Inc, ORG) (San Francisco, GPE) "
     ]
    }
   ],
   "source": [
    "text = \"James O'Neill, chairman of World Cargo Inc, lives in San Francisco.\"\n",
    "doc = nlp(text)\n",
    "\n",
    "for ent in doc.ents:\n",
    "    print(f\"({ent.text}, {ent.label_})\", end=\" \")"
   ]
  },
  {
   "cell_type": "code",
   "execution_count": 63,
   "id": "c537a384-5bfc-490a-a32d-cc08e4f9a112",
   "metadata": {},
   "outputs": [
    {
     "data": {
      "text/html": [
       "<span class=\"tex2jax_ignore\"><div class=\"entities\" style=\"line-height: 2.5; direction: ltr\">\n",
       "<mark class=\"entity\" style=\"background: #aa9cfc; padding: 0.45em 0.6em; margin: 0 0.25em; line-height: 1; border-radius: 0.35em;\">\n",
       "    James O'Neill\n",
       "    <span style=\"font-size: 0.8em; font-weight: bold; line-height: 1; border-radius: 0.35em; vertical-align: middle; margin-left: 0.5rem\">PERSON</span>\n",
       "</mark>\n",
       ", chairman of \n",
       "<mark class=\"entity\" style=\"background: #7aecec; padding: 0.45em 0.6em; margin: 0 0.25em; line-height: 1; border-radius: 0.35em;\">\n",
       "    World Cargo Inc\n",
       "    <span style=\"font-size: 0.8em; font-weight: bold; line-height: 1; border-radius: 0.35em; vertical-align: middle; margin-left: 0.5rem\">ORG</span>\n",
       "</mark>\n",
       ", lives in \n",
       "<mark class=\"entity\" style=\"background: #feca74; padding: 0.45em 0.6em; margin: 0 0.25em; line-height: 1; border-radius: 0.35em;\">\n",
       "    San Francisco\n",
       "    <span style=\"font-size: 0.8em; font-weight: bold; line-height: 1; border-radius: 0.35em; vertical-align: middle; margin-left: 0.5rem\">GPE</span>\n",
       "</mark>\n",
       ".</div></span>"
      ],
      "text/plain": [
       "<IPython.core.display.HTML object>"
      ]
     },
     "metadata": {},
     "output_type": "display_data"
    }
   ],
   "source": [
    "from spacy import displacy\n",
    "displacy.render(doc, style='ent')"
   ]
  },
  {
   "cell_type": "code",
   "execution_count": 64,
   "id": "396701e8-e754-4a51-9258-8d9b8fd59b57",
   "metadata": {},
   "outputs": [
    {
     "name": "stdout",
     "output_type": "stream",
     "text": [
      "[\"James O'Neill/PERSON\", 'San Francisco/GPE']\n"
     ]
    }
   ],
   "source": [
    "def extract_entities(doc, include_types=None, sep=' '):\n",
    "    ents= textacy.extract.entities(doc,\n",
    "                                  include_types=include_types,\n",
    "                                  exclude_types=None,\n",
    "                                  drop_determiners=True,\n",
    "                                  min_freq=1)\n",
    "    return [sep.join([t.lemma_ for t in e])+'/'+e.label_ for e in ents]\n",
    "\n",
    "print(extract_entities(doc, ['PERSON','GPE']))"
   ]
  },
  {
   "cell_type": "markdown",
   "id": "0ccc9c1d-8c00-416d-a4d4-8c2f82e27737",
   "metadata": {},
   "source": [
    "# 4.7 대규모 데이터 셋에서 특성 추출\n",
    "- textacy -> 정리된 텍스트\n",
    "- spacy -> 파이프라인\n",
    "- 특성추출 :\n",
    "- - 모든 원형, 명사, 형용사, 명사구, 개체명\n",
    "- -> 준비된 텍스트"
   ]
  },
  {
   "cell_type": "markdown",
   "id": "f34320e5-9883-4de6-bbda-26a2ead8d7d0",
   "metadata": {},
   "source": [
    "## 종합 단일함수: extract_nlp(doc)"
   ]
  },
  {
   "cell_type": "code",
   "execution_count": 86,
   "id": "ab237aca-cd64-4554-bbcf-913754830f27",
   "metadata": {},
   "outputs": [],
   "source": [
    "def extract_nlp(doc):\n",
    "    return {\n",
    "    'lemmas'          : extract_lemmas(doc, \n",
    "                                     exclude_pos = ['PART', 'PUNCT', \n",
    "                                        'DET', 'PRON', 'SYM', 'SPACE'],\n",
    "                                     filter_stops = False),\n",
    "    'adjs_verbs'      : extract_lemmas(doc, include_pos = ['ADJ', 'VERB']),\n",
    "    'nouns'           : extract_lemmas(doc, include_pos = ['NOUN', 'PROPN']),\n",
    "    'noun_phrases'    : extract_noun_phrases(doc, ['NOUN']),\n",
    "    'adj_noun_phrases': extract_noun_phrases(doc, ['ADJ']),\n",
    "    'entities'        : extract_entities(doc, ['PERSON', 'ORG', 'GPE', 'LOC'])\n",
    "    }"
   ]
  },
  {
   "cell_type": "code",
   "execution_count": 82,
   "id": "8ad51e5d-70a6-4fa8-93c4-36f1796e02ae",
   "metadata": {},
   "outputs": [],
   "source": [
    "nlp = spacy.load('en_core_web_sm')"
   ]
  },
  {
   "cell_type": "code",
   "execution_count": 88,
   "id": "11511401-1c1b-492d-9825-8b9f6829d368",
   "metadata": {},
   "outputs": [
    {
     "name": "stdout",
     "output_type": "stream",
     "text": [
      "lemmas:['good', 'friend', 'Ryan', 'Peters', 'like', 'fancy', 'adventure', 'game']\n",
      "adjs_verbs:['good', 'like', 'fancy']\n",
      "nouns:['friend', 'Ryan', 'Peters', 'adventure', 'game']\n",
      "noun_phrases:['adventure game']\n",
      "adj_noun_phrases:['good friend', 'fancy adventure', 'fancy adventure game']\n",
      "entities:['Ryan Peters/PERSON']\n"
     ]
    }
   ],
   "source": [
    "text= \"My best friend Ryan Peters likes fancy adventure games.\"\n",
    "doc=nlp(text)\n",
    "# print(type(doc)) # <class 'spacy.tokens.doc.Doc'>\n",
    "for col, values in extract_nlp(doc).items():\n",
    "    print(f'{col}:{values}')"
   ]
  },
  {
   "cell_type": "code",
   "execution_count": 89,
   "id": "49c2c715-e18f-4b82-bfeb-68e338c6ff99",
   "metadata": {},
   "outputs": [
    {
     "name": "stdout",
     "output_type": "stream",
     "text": [
      "['lemmas', 'adjs_verbs', 'nouns', 'noun_phrases', 'adj_noun_phrases', 'entities']\n"
     ]
    }
   ],
   "source": [
    "# 초기화\n",
    "nlp_columns= list(extract_nlp(nlp.make_doc('')).keys())\n",
    "print(nlp_columns)"
   ]
  },
  {
   "cell_type": "code",
   "execution_count": 91,
   "id": "5e0aea42-05fd-491f-b303-ccee42f54127",
   "metadata": {},
   "outputs": [
    {
     "data": {
      "text/plain": [
       "spacy.tokens.doc.Doc"
      ]
     },
     "execution_count": 91,
     "metadata": {},
     "output_type": "execute_result"
    }
   ],
   "source": [
    "type(nlp.make_doc(''))"
   ]
  },
  {
   "cell_type": "markdown",
   "id": "3d754c3a-6956-4170-ac21-cb491509d0fe",
   "metadata": {},
   "source": [
    "## spacy 사용"
   ]
  },
  {
   "cell_type": "code",
   "execution_count": 95,
   "id": "a3eea225-6c65-41a5-9f16-e1e10bccdce3",
   "metadata": {},
   "outputs": [],
   "source": [
    "db_name=\"reddit-selfposts.db\"\n",
    "dir=\"../output/\"\n",
    "con= sqlite3.connect(dir+db_name)\n",
    "df=pd.read_sql(\"select * from posts_cleaned\", con)\n",
    "con.close()\n",
    "\n",
    "df['text']=df['title']+': '+ df['text']"
   ]
  },
  {
   "cell_type": "code",
   "execution_count": 97,
   "id": "254e19eb-82e5-4a98-8fec-185fba6536f5",
   "metadata": {},
   "outputs": [
    {
     "data": {
      "text/html": [
       "<div>\n",
       "<style scoped>\n",
       "    .dataframe tbody tr th:only-of-type {\n",
       "        vertical-align: middle;\n",
       "    }\n",
       "\n",
       "    .dataframe tbody tr th {\n",
       "        vertical-align: top;\n",
       "    }\n",
       "\n",
       "    .dataframe thead th {\n",
       "        text-align: right;\n",
       "    }\n",
       "</style>\n",
       "<table border=\"1\" class=\"dataframe\">\n",
       "  <thead>\n",
       "    <tr style=\"text-align: right;\">\n",
       "      <th></th>\n",
       "      <th>id</th>\n",
       "      <th>subreddit</th>\n",
       "      <th>title</th>\n",
       "      <th>raw_text</th>\n",
       "      <th>category</th>\n",
       "      <th>subcategory</th>\n",
       "      <th>text</th>\n",
       "      <th>lemmas</th>\n",
       "      <th>adjs_verbs</th>\n",
       "      <th>nouns</th>\n",
       "      <th>noun_phrases</th>\n",
       "      <th>adj_noun_phrases</th>\n",
       "      <th>entities</th>\n",
       "    </tr>\n",
       "  </thead>\n",
       "  <tbody>\n",
       "    <tr>\n",
       "      <th>0</th>\n",
       "      <td>8f73s7</td>\n",
       "      <td>Harley</td>\n",
       "      <td>No Club Colors</td>\n",
       "      <td>Funny story. I went to college in Las Vegas. This was before I knew anything about motorcycling ...</td>\n",
       "      <td>autos</td>\n",
       "      <td>harley davidson</td>\n",
       "      <td>No Club Colors: Funny story. I went to college in Las Vegas. This was before I knew anything abo...</td>\n",
       "      <td>None</td>\n",
       "      <td>None</td>\n",
       "      <td>None</td>\n",
       "      <td>None</td>\n",
       "      <td>None</td>\n",
       "      <td>None</td>\n",
       "    </tr>\n",
       "    <tr>\n",
       "      <th>1</th>\n",
       "      <td>5s0q8r</td>\n",
       "      <td>Mustang</td>\n",
       "      <td>Roush vs Shleby GT500</td>\n",
       "      <td>I am trying to determine which is faster, and I've seen the dealership video with the two racing...</td>\n",
       "      <td>autos</td>\n",
       "      <td>ford</td>\n",
       "      <td>Roush vs Shleby GT500: I am trying to determine which is faster, and I've seen the dealership vi...</td>\n",
       "      <td>None</td>\n",
       "      <td>None</td>\n",
       "      <td>None</td>\n",
       "      <td>None</td>\n",
       "      <td>None</td>\n",
       "      <td>None</td>\n",
       "    </tr>\n",
       "    <tr>\n",
       "      <th>2</th>\n",
       "      <td>5z3405</td>\n",
       "      <td>Volkswagen</td>\n",
       "      <td>2001 Golf Wagon looking for some insight</td>\n",
       "      <td>Hello! &lt;lb&gt;&lt;lb&gt;Trying to find some information on replacing a 2001 Golf Wagon starter (gas).... ...</td>\n",
       "      <td>autos</td>\n",
       "      <td>VW</td>\n",
       "      <td>2001 Golf Wagon looking for some insight: Hello! Trying to find some information on replacing a ...</td>\n",
       "      <td>None</td>\n",
       "      <td>None</td>\n",
       "      <td>None</td>\n",
       "      <td>None</td>\n",
       "      <td>None</td>\n",
       "      <td>None</td>\n",
       "    </tr>\n",
       "    <tr>\n",
       "      <th>3</th>\n",
       "      <td>7df18v</td>\n",
       "      <td>Lexus</td>\n",
       "      <td>IS 250 Coolant Flush/Change</td>\n",
       "      <td>https://www.cars.com/articles/how-often-should-i-change-engine-coolant-1420680853669/&lt;lb&gt;&lt;lb&gt;I h...</td>\n",
       "      <td>autos</td>\n",
       "      <td>lexus</td>\n",
       "      <td>IS 250 Coolant Flush/Change: https://www.cars.com/articles/how-often-should-i-change-engine-cool...</td>\n",
       "      <td>None</td>\n",
       "      <td>None</td>\n",
       "      <td>None</td>\n",
       "      <td>None</td>\n",
       "      <td>None</td>\n",
       "      <td>None</td>\n",
       "    </tr>\n",
       "    <tr>\n",
       "      <th>4</th>\n",
       "      <td>5tpve8</td>\n",
       "      <td>volt</td>\n",
       "      <td>Gen1 mpg w/ dead battery?</td>\n",
       "      <td>Hi, new to this subreddit.  I'm considering buying a Gen1 Volt, but I can't find any straight an...</td>\n",
       "      <td>autos</td>\n",
       "      <td>chevrolet</td>\n",
       "      <td>Gen1 mpg w/ dead battery?: Hi, new to this subreddit. I'm considering buying a Gen1 Volt, but I ...</td>\n",
       "      <td>None</td>\n",
       "      <td>None</td>\n",
       "      <td>None</td>\n",
       "      <td>None</td>\n",
       "      <td>None</td>\n",
       "      <td>None</td>\n",
       "    </tr>\n",
       "    <tr>\n",
       "      <th>...</th>\n",
       "      <td>...</td>\n",
       "      <td>...</td>\n",
       "      <td>...</td>\n",
       "      <td>...</td>\n",
       "      <td>...</td>\n",
       "      <td>...</td>\n",
       "      <td>...</td>\n",
       "      <td>...</td>\n",
       "      <td>...</td>\n",
       "      <td>...</td>\n",
       "      <td>...</td>\n",
       "      <td>...</td>\n",
       "      <td>...</td>\n",
       "    </tr>\n",
       "    <tr>\n",
       "      <th>19995</th>\n",
       "      <td>7i2k6y</td>\n",
       "      <td>4Runner</td>\n",
       "      <td>Bilstein Shocks</td>\n",
       "      <td>I read a lot Forums and people recommend getting TUNDRA Bilstein Shocks for a 3rd gen 4 runner, ...</td>\n",
       "      <td>autos</td>\n",
       "      <td>toyota</td>\n",
       "      <td>Bilstein Shocks: I read a lot Forums and people recommend getting TUNDRA Bilstein Shocks for a 3...</td>\n",
       "      <td>None</td>\n",
       "      <td>None</td>\n",
       "      <td>None</td>\n",
       "      <td>None</td>\n",
       "      <td>None</td>\n",
       "      <td>None</td>\n",
       "    </tr>\n",
       "    <tr>\n",
       "      <th>19996</th>\n",
       "      <td>83p2kv</td>\n",
       "      <td>Harley</td>\n",
       "      <td>Question on potential purchase of crashed bike.</td>\n",
       "      <td>I am thinking about  buying a 2010 Harley Sportster 1200 custom for $6k with 7k miles. It has Va...</td>\n",
       "      <td>autos</td>\n",
       "      <td>harley davidson</td>\n",
       "      <td>Question on potential purchase of crashed bike.: I am thinking about buying a 2010 Harley Sports...</td>\n",
       "      <td>None</td>\n",
       "      <td>None</td>\n",
       "      <td>None</td>\n",
       "      <td>None</td>\n",
       "      <td>None</td>\n",
       "      <td>None</td>\n",
       "    </tr>\n",
       "    <tr>\n",
       "      <th>19997</th>\n",
       "      <td>7x722h</td>\n",
       "      <td>volt</td>\n",
       "      <td>Got our first warning light on our dash</td>\n",
       "      <td>My husband and I were headed somewhere and I was cold. So, I figured I could turn the car on bef...</td>\n",
       "      <td>autos</td>\n",
       "      <td>chevrolet</td>\n",
       "      <td>Got our first warning light on our dash: My husband and I were headed somewhere and I was cold. ...</td>\n",
       "      <td>None</td>\n",
       "      <td>None</td>\n",
       "      <td>None</td>\n",
       "      <td>None</td>\n",
       "      <td>None</td>\n",
       "      <td>None</td>\n",
       "    </tr>\n",
       "    <tr>\n",
       "      <th>19998</th>\n",
       "      <td>7v2xmg</td>\n",
       "      <td>Lexus</td>\n",
       "      <td>Any IS models to avoid?</td>\n",
       "      <td>I am looking at getting a used Lexus IS (2014 model year and newer). Are there any trim levels t...</td>\n",
       "      <td>autos</td>\n",
       "      <td>lexus</td>\n",
       "      <td>Any IS models to avoid?: I am looking at getting a used Lexus IS (2014 model year and newer). Ar...</td>\n",
       "      <td>None</td>\n",
       "      <td>None</td>\n",
       "      <td>None</td>\n",
       "      <td>None</td>\n",
       "      <td>None</td>\n",
       "      <td>None</td>\n",
       "    </tr>\n",
       "    <tr>\n",
       "      <th>19999</th>\n",
       "      <td>8dxx3b</td>\n",
       "      <td>mercedes_benz</td>\n",
       "      <td>Advice please. Looking at a 2011 E550 with 71K miles. Good car?</td>\n",
       "      <td>Looking for some help. I've never owned any luxury car. Especially not a Mercedes. My husband's ...</td>\n",
       "      <td>autos</td>\n",
       "      <td>mercedes</td>\n",
       "      <td>Advice please. Looking at a 2011 E550 with 71K miles. Good car?: Looking for some help. I've nev...</td>\n",
       "      <td>None</td>\n",
       "      <td>None</td>\n",
       "      <td>None</td>\n",
       "      <td>None</td>\n",
       "      <td>None</td>\n",
       "      <td>None</td>\n",
       "    </tr>\n",
       "  </tbody>\n",
       "</table>\n",
       "<p>20000 rows × 13 columns</p>\n",
       "</div>"
      ],
      "text/plain": [
       "           id      subreddit  \\\n",
       "0      8f73s7         Harley   \n",
       "1      5s0q8r        Mustang   \n",
       "2      5z3405     Volkswagen   \n",
       "3      7df18v          Lexus   \n",
       "4      5tpve8           volt   \n",
       "...       ...            ...   \n",
       "19995  7i2k6y        4Runner   \n",
       "19996  83p2kv         Harley   \n",
       "19997  7x722h           volt   \n",
       "19998  7v2xmg          Lexus   \n",
       "19999  8dxx3b  mercedes_benz   \n",
       "\n",
       "                                                                 title  \\\n",
       "0                                                       No Club Colors   \n",
       "1                                                Roush vs Shleby GT500   \n",
       "2                             2001 Golf Wagon looking for some insight   \n",
       "3                                          IS 250 Coolant Flush/Change   \n",
       "4                                            Gen1 mpg w/ dead battery?   \n",
       "...                                                                ...   \n",
       "19995                                                  Bilstein Shocks   \n",
       "19996                  Question on potential purchase of crashed bike.   \n",
       "19997                          Got our first warning light on our dash   \n",
       "19998                                          Any IS models to avoid?   \n",
       "19999  Advice please. Looking at a 2011 E550 with 71K miles. Good car?   \n",
       "\n",
       "                                                                                                  raw_text  \\\n",
       "0      Funny story. I went to college in Las Vegas. This was before I knew anything about motorcycling ...   \n",
       "1      I am trying to determine which is faster, and I've seen the dealership video with the two racing...   \n",
       "2      Hello! <lb><lb>Trying to find some information on replacing a 2001 Golf Wagon starter (gas).... ...   \n",
       "3      https://www.cars.com/articles/how-often-should-i-change-engine-coolant-1420680853669/<lb><lb>I h...   \n",
       "4      Hi, new to this subreddit.  I'm considering buying a Gen1 Volt, but I can't find any straight an...   \n",
       "...                                                                                                    ...   \n",
       "19995  I read a lot Forums and people recommend getting TUNDRA Bilstein Shocks for a 3rd gen 4 runner, ...   \n",
       "19996  I am thinking about  buying a 2010 Harley Sportster 1200 custom for $6k with 7k miles. It has Va...   \n",
       "19997  My husband and I were headed somewhere and I was cold. So, I figured I could turn the car on bef...   \n",
       "19998  I am looking at getting a used Lexus IS (2014 model year and newer). Are there any trim levels t...   \n",
       "19999  Looking for some help. I've never owned any luxury car. Especially not a Mercedes. My husband's ...   \n",
       "\n",
       "      category      subcategory  \\\n",
       "0        autos  harley davidson   \n",
       "1        autos             ford   \n",
       "2        autos               VW   \n",
       "3        autos            lexus   \n",
       "4        autos        chevrolet   \n",
       "...        ...              ...   \n",
       "19995    autos           toyota   \n",
       "19996    autos  harley davidson   \n",
       "19997    autos        chevrolet   \n",
       "19998    autos            lexus   \n",
       "19999    autos         mercedes   \n",
       "\n",
       "                                                                                                      text  \\\n",
       "0      No Club Colors: Funny story. I went to college in Las Vegas. This was before I knew anything abo...   \n",
       "1      Roush vs Shleby GT500: I am trying to determine which is faster, and I've seen the dealership vi...   \n",
       "2      2001 Golf Wagon looking for some insight: Hello! Trying to find some information on replacing a ...   \n",
       "3      IS 250 Coolant Flush/Change: https://www.cars.com/articles/how-often-should-i-change-engine-cool...   \n",
       "4      Gen1 mpg w/ dead battery?: Hi, new to this subreddit. I'm considering buying a Gen1 Volt, but I ...   \n",
       "...                                                                                                    ...   \n",
       "19995  Bilstein Shocks: I read a lot Forums and people recommend getting TUNDRA Bilstein Shocks for a 3...   \n",
       "19996  Question on potential purchase of crashed bike.: I am thinking about buying a 2010 Harley Sports...   \n",
       "19997  Got our first warning light on our dash: My husband and I were headed somewhere and I was cold. ...   \n",
       "19998  Any IS models to avoid?: I am looking at getting a used Lexus IS (2014 model year and newer). Ar...   \n",
       "19999  Advice please. Looking at a 2011 E550 with 71K miles. Good car?: Looking for some help. I've nev...   \n",
       "\n",
       "      lemmas adjs_verbs nouns noun_phrases adj_noun_phrases entities  \n",
       "0       None       None  None         None             None     None  \n",
       "1       None       None  None         None             None     None  \n",
       "2       None       None  None         None             None     None  \n",
       "3       None       None  None         None             None     None  \n",
       "4       None       None  None         None             None     None  \n",
       "...      ...        ...   ...          ...              ...      ...  \n",
       "19995   None       None  None         None             None     None  \n",
       "19996   None       None  None         None             None     None  \n",
       "19997   None       None  None         None             None     None  \n",
       "19998   None       None  None         None             None     None  \n",
       "19999   None       None  None         None             None     None  \n",
       "\n",
       "[20000 rows x 13 columns]"
      ]
     },
     "execution_count": 97,
     "metadata": {},
     "output_type": "execute_result"
    }
   ],
   "source": [
    "for col in nlp_columns:\n",
    "    df[col]=None\n",
    "df"
   ]
  },
  {
   "cell_type": "code",
   "execution_count": 98,
   "id": "d6ca0605-0edd-4a65-86cf-566b00f93c7d",
   "metadata": {},
   "outputs": [
    {
     "data": {
      "text/plain": [
       "False"
      ]
     },
     "execution_count": 98,
     "metadata": {},
     "output_type": "execute_result"
    }
   ],
   "source": [
    "spacy.prefer_gpu()"
   ]
  },
  {
   "cell_type": "code",
   "execution_count": 111,
   "id": "4d95c7ac-a8cb-401c-91b1-8833a551ce53",
   "metadata": {},
   "outputs": [
    {
     "name": "stdout",
     "output_type": "stream",
     "text": [
      "[('tok2vec', <spacy.pipeline.tok2vec.Tok2Vec object at 0x00000236A5DCED50>), ('tagger', <spacy.pipeline.tagger.Tagger object at 0x00000236A5DCCD70>), ('parser', <spacy.pipeline.dep_parser.DependencyParser object at 0x00000236A264A340>), ('attribute_ruler', <spacy.pipeline.attributeruler.AttributeRuler object at 0x00000236A0F51290>), ('lemmatizer', <spacy.lang.en.lemmatizer.EnglishLemmatizer object at 0x00000236A0F5A250>), ('ner', <spacy.pipeline.ner.EntityRecognizer object at 0x00000236A264A2D0>)]\n"
     ]
    }
   ],
   "source": [
    "nlp=spacy.load('en_core_web_sm', disable=[])\n",
    "nlp.tokenizer= custom_tokenizer(nlp)\n",
    "print(nlp.pipeline)"
   ]
  },
  {
   "cell_type": "code",
   "execution_count": 118,
   "id": "79a8933c-f426-4a99-a308-1bf741501003",
   "metadata": {},
   "outputs": [],
   "source": [
    "batch_size=50\n",
    "\n",
    "for i in range(0, len(df), batch_size):\n",
    "    docs=nlp.pipe(df['text'][i:i+batch_size]) # spacy 기본 파이프라인을 이용하여, df 텍스트를 처리한다.\n",
    "    # 배치사이즈만큼씩만 끈어온다.\n",
    "\n",
    "    for j, doc in enumerate(docs): # 가져온 50개의 말뭉치를, 인덱스와 doc로 가져와서\n",
    "        for col, values in extract_nlp(doc).items(): # doc에 대하여 특성을 추출하여\n",
    "            df[col].iloc[i+j] = values # 데이터 프레임에 넣어준다.\n"
   ]
  },
  {
   "cell_type": "code",
   "execution_count": 121,
   "id": "ba19153f-df57-428e-8585-39f5d3483b23",
   "metadata": {},
   "outputs": [
    {
     "data": {
      "text/html": [
       "<div>\n",
       "<style scoped>\n",
       "    .dataframe tbody tr th:only-of-type {\n",
       "        vertical-align: middle;\n",
       "    }\n",
       "\n",
       "    .dataframe tbody tr th {\n",
       "        vertical-align: top;\n",
       "    }\n",
       "\n",
       "    .dataframe thead th {\n",
       "        text-align: right;\n",
       "    }\n",
       "</style>\n",
       "<table border=\"1\" class=\"dataframe\">\n",
       "  <thead>\n",
       "    <tr style=\"text-align: right;\">\n",
       "      <th></th>\n",
       "      <th>id</th>\n",
       "      <th>subreddit</th>\n",
       "      <th>title</th>\n",
       "      <th>raw_text</th>\n",
       "      <th>category</th>\n",
       "      <th>subcategory</th>\n",
       "      <th>text</th>\n",
       "      <th>lemmas</th>\n",
       "      <th>adjs_verbs</th>\n",
       "      <th>nouns</th>\n",
       "      <th>noun_phrases</th>\n",
       "      <th>adj_noun_phrases</th>\n",
       "      <th>entities</th>\n",
       "    </tr>\n",
       "  </thead>\n",
       "  <tbody>\n",
       "    <tr>\n",
       "      <th>0</th>\n",
       "      <td>8f73s7</td>\n",
       "      <td>Harley</td>\n",
       "      <td>No Club Colors</td>\n",
       "      <td>Funny story. I went to college in Las Vegas. This was before I knew anything about motorcycling ...</td>\n",
       "      <td>autos</td>\n",
       "      <td>harley davidson</td>\n",
       "      <td>No Club Colors: Funny story. I went to college in Las Vegas. This was before I knew anything abo...</td>\n",
       "      <td>[no, Club, color, funny, story, go, to, college, in, Las, Vegas, be, before, know, about, motorc...</td>\n",
       "      <td>[funny, go, know, motorcycle, end, call, worth, note, work, outdrink, read, lose, head, assume, ...</td>\n",
       "      <td>[Club, color, story, college, Las, Vegas, college, buddy, strip, dance, club, bar, Hogs, Heifers...</td>\n",
       "      <td>[college buddy, dance club]</td>\n",
       "      <td>[funny story, front door, bright color, xtra t-shirt, much booze]</td>\n",
       "      <td>[Las Vegas/GPE, Hogs Heifers/PERSON, ANYONE/PERSON]</td>\n",
       "    </tr>\n",
       "    <tr>\n",
       "      <th>1</th>\n",
       "      <td>5s0q8r</td>\n",
       "      <td>Mustang</td>\n",
       "      <td>Roush vs Shleby GT500</td>\n",
       "      <td>I am trying to determine which is faster, and I've seen the dealership video with the two racing...</td>\n",
       "      <td>autos</td>\n",
       "      <td>ford</td>\n",
       "      <td>Roush vs Shleby GT500: I am trying to determine which is faster, and I've seen the dealership vi...</td>\n",
       "      <td>[roush, vs, Shleby, GT500, be, try, determine, be, fast, and, have, see, dealership, video, with...</td>\n",
       "      <td>[try, determine, see, win, wonder, bigass, find, trustworthy]</td>\n",
       "      <td>[roush, Shleby, GT500, dealership, video, racing(roush, supercharger, Roush, spec, website, sour...</td>\n",
       "      <td>[dealership video]</td>\n",
       "      <td>[bigass supercharger, same spec, trustworthy source]</td>\n",
       "      <td>[Shleby GT500/ORG]</td>\n",
       "    </tr>\n",
       "    <tr>\n",
       "      <th>2</th>\n",
       "      <td>5z3405</td>\n",
       "      <td>Volkswagen</td>\n",
       "      <td>2001 Golf Wagon looking for some insight</td>\n",
       "      <td>Hello! &lt;lb&gt;&lt;lb&gt;Trying to find some information on replacing a 2001 Golf Wagon starter (gas).... ...</td>\n",
       "      <td>autos</td>\n",
       "      <td>VW</td>\n",
       "      <td>2001 Golf Wagon looking for some insight: Hello! Trying to find some information on replacing a ...</td>\n",
       "      <td>[2001, Golf, Wagon, look, for, insight, hello, try, find, information, on, replace, 2001, Golf, ...</td>\n",
       "      <td>[look, try, find, replace, go, go, big, live, wonder, international, recommend, replace, oh-so-s...</td>\n",
       "      <td>[Golf, Wagon, insight, information, Golf, Wagon, starter, gas, dealership, range, rush, Japan, s...</td>\n",
       "      <td>[shipping website]</td>\n",
       "      <td>[international shipping, international shipping website]</td>\n",
       "      <td>[Wagon/PERSON, Wagon/PERSON, Japan/GPE]</td>\n",
       "    </tr>\n",
       "    <tr>\n",
       "      <th>3</th>\n",
       "      <td>7df18v</td>\n",
       "      <td>Lexus</td>\n",
       "      <td>IS 250 Coolant Flush/Change</td>\n",
       "      <td>https://www.cars.com/articles/how-often-should-i-change-engine-coolant-1420680853669/&lt;lb&gt;&lt;lb&gt;I h...</td>\n",
       "      <td>autos</td>\n",
       "      <td>lexus</td>\n",
       "      <td>IS 250 Coolant Flush/Change: https://www.cars.com/articles/how-often-should-i-change-engine-cool...</td>\n",
       "      <td>[be, 250, Coolant, Flush, change, https://www.cars.com, article, how-often-should-i-change-engin...</td>\n",
       "      <td>[touch, find, change, say, long, flushed, change, wait]</td>\n",
       "      <td>[Coolant, Flush, change, article, how-often-should-i-change-engine-coolant-1420680853669/, AWD, ...</td>\n",
       "      <td>[k mile, engine radiator, engine radiator coolant, radiator coolant]</td>\n",
       "      <td>[long life]</td>\n",
       "      <td>[AWD/ORG]</td>\n",
       "    </tr>\n",
       "    <tr>\n",
       "      <th>4</th>\n",
       "      <td>5tpve8</td>\n",
       "      <td>volt</td>\n",
       "      <td>Gen1 mpg w/ dead battery?</td>\n",
       "      <td>Hi, new to this subreddit.  I'm considering buying a Gen1 Volt, but I can't find any straight an...</td>\n",
       "      <td>autos</td>\n",
       "      <td>chevrolet</td>\n",
       "      <td>Gen1 mpg w/ dead battery?: Hi, new to this subreddit. I'm considering buying a Gen1 Volt, but I ...</td>\n",
       "      <td>[Gen1, mpg, w/, dead, battery, hi, new, to, subreddit, be, consider, buy, Gen1, Volt, but, can, ...</td>\n",
       "      <td>[dead, new, consider, buy, find, straight, get, dead, gen1, deplete]</td>\n",
       "      <td>[Gen1, mpg, w/, battery, subreddit, Gen1, Volt, answer, kind, mpg, battery, mile, trip, kind, hi...</td>\n",
       "      <td>[mpg w/, mile trip, highway mpg]</td>\n",
       "      <td>[dead battery, straight answer, gen1 volt]</td>\n",
       "      <td>[Gen1 Volt/GPE]</td>\n",
       "    </tr>\n",
       "  </tbody>\n",
       "</table>\n",
       "</div>"
      ],
      "text/plain": [
       "       id   subreddit                                     title  \\\n",
       "0  8f73s7      Harley                            No Club Colors   \n",
       "1  5s0q8r     Mustang                     Roush vs Shleby GT500   \n",
       "2  5z3405  Volkswagen  2001 Golf Wagon looking for some insight   \n",
       "3  7df18v       Lexus               IS 250 Coolant Flush/Change   \n",
       "4  5tpve8        volt                 Gen1 mpg w/ dead battery?   \n",
       "\n",
       "                                                                                              raw_text  \\\n",
       "0  Funny story. I went to college in Las Vegas. This was before I knew anything about motorcycling ...   \n",
       "1  I am trying to determine which is faster, and I've seen the dealership video with the two racing...   \n",
       "2  Hello! <lb><lb>Trying to find some information on replacing a 2001 Golf Wagon starter (gas).... ...   \n",
       "3  https://www.cars.com/articles/how-often-should-i-change-engine-coolant-1420680853669/<lb><lb>I h...   \n",
       "4  Hi, new to this subreddit.  I'm considering buying a Gen1 Volt, but I can't find any straight an...   \n",
       "\n",
       "  category      subcategory  \\\n",
       "0    autos  harley davidson   \n",
       "1    autos             ford   \n",
       "2    autos               VW   \n",
       "3    autos            lexus   \n",
       "4    autos        chevrolet   \n",
       "\n",
       "                                                                                                  text  \\\n",
       "0  No Club Colors: Funny story. I went to college in Las Vegas. This was before I knew anything abo...   \n",
       "1  Roush vs Shleby GT500: I am trying to determine which is faster, and I've seen the dealership vi...   \n",
       "2  2001 Golf Wagon looking for some insight: Hello! Trying to find some information on replacing a ...   \n",
       "3  IS 250 Coolant Flush/Change: https://www.cars.com/articles/how-often-should-i-change-engine-cool...   \n",
       "4  Gen1 mpg w/ dead battery?: Hi, new to this subreddit. I'm considering buying a Gen1 Volt, but I ...   \n",
       "\n",
       "                                                                                                lemmas  \\\n",
       "0  [no, Club, color, funny, story, go, to, college, in, Las, Vegas, be, before, know, about, motorc...   \n",
       "1  [roush, vs, Shleby, GT500, be, try, determine, be, fast, and, have, see, dealership, video, with...   \n",
       "2  [2001, Golf, Wagon, look, for, insight, hello, try, find, information, on, replace, 2001, Golf, ...   \n",
       "3  [be, 250, Coolant, Flush, change, https://www.cars.com, article, how-often-should-i-change-engin...   \n",
       "4  [Gen1, mpg, w/, dead, battery, hi, new, to, subreddit, be, consider, buy, Gen1, Volt, but, can, ...   \n",
       "\n",
       "                                                                                            adjs_verbs  \\\n",
       "0  [funny, go, know, motorcycle, end, call, worth, note, work, outdrink, read, lose, head, assume, ...   \n",
       "1                                        [try, determine, see, win, wonder, bigass, find, trustworthy]   \n",
       "2  [look, try, find, replace, go, go, big, live, wonder, international, recommend, replace, oh-so-s...   \n",
       "3                                              [touch, find, change, say, long, flushed, change, wait]   \n",
       "4                                 [dead, new, consider, buy, find, straight, get, dead, gen1, deplete]   \n",
       "\n",
       "                                                                                                 nouns  \\\n",
       "0  [Club, color, story, college, Las, Vegas, college, buddy, strip, dance, club, bar, Hogs, Heifers...   \n",
       "1  [roush, Shleby, GT500, dealership, video, racing(roush, supercharger, Roush, spec, website, sour...   \n",
       "2  [Golf, Wagon, insight, information, Golf, Wagon, starter, gas, dealership, range, rush, Japan, s...   \n",
       "3  [Coolant, Flush, change, article, how-often-should-i-change-engine-coolant-1420680853669/, AWD, ...   \n",
       "4  [Gen1, mpg, w/, battery, subreddit, Gen1, Volt, answer, kind, mpg, battery, mile, trip, kind, hi...   \n",
       "\n",
       "                                                           noun_phrases  \\\n",
       "0                                           [college buddy, dance club]   \n",
       "1                                                    [dealership video]   \n",
       "2                                                    [shipping website]   \n",
       "3  [k mile, engine radiator, engine radiator coolant, radiator coolant]   \n",
       "4                                      [mpg w/, mile trip, highway mpg]   \n",
       "\n",
       "                                                    adj_noun_phrases  \\\n",
       "0  [funny story, front door, bright color, xtra t-shirt, much booze]   \n",
       "1               [bigass supercharger, same spec, trustworthy source]   \n",
       "2           [international shipping, international shipping website]   \n",
       "3                                                        [long life]   \n",
       "4                         [dead battery, straight answer, gen1 volt]   \n",
       "\n",
       "                                              entities  \n",
       "0  [Las Vegas/GPE, Hogs Heifers/PERSON, ANYONE/PERSON]  \n",
       "1                                   [Shleby GT500/ORG]  \n",
       "2              [Wagon/PERSON, Wagon/PERSON, Japan/GPE]  \n",
       "3                                            [AWD/ORG]  \n",
       "4                                      [Gen1 Volt/GPE]  "
      ]
     },
     "metadata": {},
     "output_type": "display_data"
    }
   ],
   "source": [
    "display(df.head())"
   ]
  },
  {
   "cell_type": "code",
   "execution_count": 125,
   "id": "f3b3e7bf-88fe-4c96-b7de-1d78b8542020",
   "metadata": {},
   "outputs": [
    {
     "data": {
      "text/html": [
       "<div>\n",
       "<style scoped>\n",
       "    .dataframe tbody tr th:only-of-type {\n",
       "        vertical-align: middle;\n",
       "    }\n",
       "\n",
       "    .dataframe tbody tr th {\n",
       "        vertical-align: top;\n",
       "    }\n",
       "\n",
       "    .dataframe thead th {\n",
       "        text-align: right;\n",
       "    }\n",
       "</style>\n",
       "<table border=\"1\" class=\"dataframe\">\n",
       "  <thead>\n",
       "    <tr style=\"text-align: right;\">\n",
       "      <th></th>\n",
       "      <th>id</th>\n",
       "      <th>subreddit</th>\n",
       "      <th>title</th>\n",
       "      <th>raw_text</th>\n",
       "      <th>category</th>\n",
       "      <th>subcategory</th>\n",
       "      <th>text</th>\n",
       "      <th>lemmas</th>\n",
       "      <th>adjs_verbs</th>\n",
       "      <th>nouns</th>\n",
       "      <th>noun_phrases</th>\n",
       "      <th>adj_noun_phrases</th>\n",
       "      <th>entities</th>\n",
       "    </tr>\n",
       "  </thead>\n",
       "  <tbody>\n",
       "    <tr>\n",
       "      <th>17629</th>\n",
       "      <td>559h7p</td>\n",
       "      <td>teslamotors</td>\n",
       "      <td>Why not Tesla boats?</td>\n",
       "      <td>Tesla should come up with solutions for boating, especially lake boats. Boats use crazy amounts of gas, don't have catalytic converters (big pollution!) and are rarely used for more than a few hours at once. Having the option to recharge by solar or mains would make an absolute killing.&lt;lb&gt;&lt;lb&gt;My buddy would kill to replace the 380hp V8 in his Chris Craft with an electric engine and apart from tiny outboard motors for tiny fishing boats there's nothing. Tesla already has a lot of equipment that could be adapted to marine use.&lt;lb&gt;&lt;lb&gt;Marine mechanics will hate it but hey, that's progress.</td>\n",
       "      <td>autos</td>\n",
       "      <td>tesla</td>\n",
       "      <td>Why not Tesla boats?: Tesla should come up with solutions for boating, especially lake boats. Boats use crazy amounts of gas, don't have catalytic converters (big pollution!) and are rarely used for more than a few hours at once. Having the option to recharge by solar or mains would make an absolute killing. My buddy would kill to replace the 380hp V8 in his Chris Craft with an electric engine and apart from tiny outboard motors for tiny fishing boats there's nothing. Tesla already has a lot of equipment that could be adapted to marine use. Marine mechanics will hate it but hey, that's progress.</td>\n",
       "      <td>[why, Tesla, boat, Tesla, should, come, up, with, solution, for, boat, especially, lake, boat, boat, use, crazy, amount, of, gas, do, have, catalytic, converter, big, pollution, and, be, rarely, use, for, more, than, few, hour, at, once, have, option, recharge, by, solar, or, main, would, make, absolute, killing, buddy, would, kill, replace, 380hp, v8, in, Chris, Craft, with, electric, engine, and, apart, from, tiny, outboard, motor, for, tiny, fishing, boat, be, Tesla, already, have, lot, of, equipment, could, be, adapt, to, marine, use, marine, mechanic, will, hate, but, hey, be, progress]</td>\n",
       "      <td>[come, boat, use, crazy, catalytic, big, have, recharge, solar, absolute, kill, replace, 380hp, electric, tiny, tiny, adapt, marine, hate]</td>\n",
       "      <td>[Tesla, boat, Tesla, solution, lake, boat, boat, amount, gas, converter, pollution, hour, option, main, killing, buddy, v8, Chris, Craft, engine, outboard, motor, fishing, boat, Tesla, lot, equipment, use, marine, mechanic, progress]</td>\n",
       "      <td>[lake boat, fishing boat, marine mechanic]</td>\n",
       "      <td>[crazy amount, catalytic converter, big pollution, few hour, absolute killing, 380hp v8, electric engine, tiny fishing, tiny fishing boat, marine use]</td>\n",
       "      <td>[Chris Craft/PERSON, Tesla/ORG]</td>\n",
       "    </tr>\n",
       "  </tbody>\n",
       "</table>\n",
       "</div>"
      ],
      "text/plain": [
       "           id    subreddit                 title  \\\n",
       "17629  559h7p  teslamotors  Why not Tesla boats?   \n",
       "\n",
       "                                                                                                                                                                                                                                                                                                                                                                                                                                                                                                                                                                                                                 raw_text  \\\n",
       "17629  Tesla should come up with solutions for boating, especially lake boats. Boats use crazy amounts of gas, don't have catalytic converters (big pollution!) and are rarely used for more than a few hours at once. Having the option to recharge by solar or mains would make an absolute killing.<lb><lb>My buddy would kill to replace the 380hp V8 in his Chris Craft with an electric engine and apart from tiny outboard motors for tiny fishing boats there's nothing. Tesla already has a lot of equipment that could be adapted to marine use.<lb><lb>Marine mechanics will hate it but hey, that's progress.   \n",
       "\n",
       "      category subcategory  \\\n",
       "17629    autos       tesla   \n",
       "\n",
       "                                                                                                                                                                                                                                                                                                                                                                                                                                                                                                                                                                                                                             text  \\\n",
       "17629  Why not Tesla boats?: Tesla should come up with solutions for boating, especially lake boats. Boats use crazy amounts of gas, don't have catalytic converters (big pollution!) and are rarely used for more than a few hours at once. Having the option to recharge by solar or mains would make an absolute killing. My buddy would kill to replace the 380hp V8 in his Chris Craft with an electric engine and apart from tiny outboard motors for tiny fishing boats there's nothing. Tesla already has a lot of equipment that could be adapted to marine use. Marine mechanics will hate it but hey, that's progress.   \n",
       "\n",
       "                                                                                                                                                                                                                                                                                                                                                                                                                                                                                                                                                                                                                       lemmas  \\\n",
       "17629  [why, Tesla, boat, Tesla, should, come, up, with, solution, for, boat, especially, lake, boat, boat, use, crazy, amount, of, gas, do, have, catalytic, converter, big, pollution, and, be, rarely, use, for, more, than, few, hour, at, once, have, option, recharge, by, solar, or, main, would, make, absolute, killing, buddy, would, kill, replace, 380hp, v8, in, Chris, Craft, with, electric, engine, and, apart, from, tiny, outboard, motor, for, tiny, fishing, boat, be, Tesla, already, have, lot, of, equipment, could, be, adapt, to, marine, use, marine, mechanic, will, hate, but, hey, be, progress]   \n",
       "\n",
       "                                                                                                                                       adjs_verbs  \\\n",
       "17629  [come, boat, use, crazy, catalytic, big, have, recharge, solar, absolute, kill, replace, 380hp, electric, tiny, tiny, adapt, marine, hate]   \n",
       "\n",
       "                                                                                                                                                                                                                                           nouns  \\\n",
       "17629  [Tesla, boat, Tesla, solution, lake, boat, boat, amount, gas, converter, pollution, hour, option, main, killing, buddy, v8, Chris, Craft, engine, outboard, motor, fishing, boat, Tesla, lot, equipment, use, marine, mechanic, progress]   \n",
       "\n",
       "                                     noun_phrases  \\\n",
       "17629  [lake boat, fishing boat, marine mechanic]   \n",
       "\n",
       "                                                                                                                                             adj_noun_phrases  \\\n",
       "17629  [crazy amount, catalytic converter, big pollution, few hour, absolute killing, 380hp v8, electric engine, tiny fishing, tiny fishing boat, marine use]   \n",
       "\n",
       "                              entities  \n",
       "17629  [Chris Craft/PERSON, Tesla/ORG]  "
      ]
     },
     "execution_count": 125,
     "metadata": {},
     "output_type": "execute_result"
    }
   ],
   "source": [
    "pd.set_option('display.max_colwidth', None) \n",
    "df.sample(1)"
   ]
  },
  {
   "cell_type": "code",
   "execution_count": 133,
   "id": "208f73c5-390d-4947-b57a-0a62fcda6c96",
   "metadata": {},
   "outputs": [],
   "source": [
    "def count_words(df, column='text', preprocess=None, min_freq=2):\n",
    "    from collections import Counter\n",
    "    def update(doc):\n",
    "        tokens= doc if preprocess is None else preprocess(doc)\n",
    "        counter.update(tokens)\n",
    "\n",
    "    counter=Counter()\n",
    "    df[column].map(update)\n",
    "\n",
    "    freq_df= pd.DataFrame.from_dict(counter, orient='index', columns=['frequency'])\n",
    "    freq_df= freq_df.query('frequency>=@min_freq')\n",
    "    freq_df.index.name = 'token'\n",
    "\n",
    "    return freq_df.sort_values('frequency', ascending=False)\n"
   ]
  },
  {
   "cell_type": "code",
   "execution_count": 134,
   "id": "9cd6822c-0c22-4b3e-9c8d-a9b077805090",
   "metadata": {},
   "outputs": [
    {
     "data": {
      "image/png": "[encoded data removed]",
      "text/plain": [
       "<Figure size 640x480 with 1 Axes>"
      ]
     },
     "metadata": {},
     "output_type": "display_data"
    }
   ],
   "source": [
    "count_words(df, column='noun_phrases').head(10).plot(kind = 'barh').invert_yaxis()"
   ]
  },
  {
   "cell_type": "code",
   "execution_count": 135,
   "id": "f102933f-dea7-42fa-88e0-db552e51777c",
   "metadata": {},
   "outputs": [
    {
     "data": {
      "text/html": [
       "<div>\n",
       "<style scoped>\n",
       "    .dataframe tbody tr th:only-of-type {\n",
       "        vertical-align: middle;\n",
       "    }\n",
       "\n",
       "    .dataframe tbody tr th {\n",
       "        vertical-align: top;\n",
       "    }\n",
       "\n",
       "    .dataframe thead th {\n",
       "        text-align: right;\n",
       "    }\n",
       "</style>\n",
       "<table border=\"1\" class=\"dataframe\">\n",
       "  <thead>\n",
       "    <tr style=\"text-align: right;\">\n",
       "      <th></th>\n",
       "      <th>frequency</th>\n",
       "    </tr>\n",
       "    <tr>\n",
       "      <th>token</th>\n",
       "      <th></th>\n",
       "    </tr>\n",
       "  </thead>\n",
       "  <tbody>\n",
       "    <tr>\n",
       "      <th>oil change</th>\n",
       "      <td>532</td>\n",
       "    </tr>\n",
       "    <tr>\n",
       "      <th>steering wheel</th>\n",
       "      <td>429</td>\n",
       "    </tr>\n",
       "    <tr>\n",
       "      <th>engine light</th>\n",
       "      <td>376</td>\n",
       "    </tr>\n",
       "    <tr>\n",
       "      <th>check engine</th>\n",
       "      <td>289</td>\n",
       "    </tr>\n",
       "    <tr>\n",
       "      <th>test drive</th>\n",
       "      <td>287</td>\n",
       "    </tr>\n",
       "    <tr>\n",
       "      <th>...</th>\n",
       "      <td>...</td>\n",
       "    </tr>\n",
       "    <tr>\n",
       "      <th>dealer mechanic</th>\n",
       "      <td>2</td>\n",
       "    </tr>\n",
       "    <tr>\n",
       "      <th>car nut</th>\n",
       "      <td>2</td>\n",
       "    </tr>\n",
       "    <tr>\n",
       "      <th>truck newbie</th>\n",
       "      <td>2</td>\n",
       "    </tr>\n",
       "    <tr>\n",
       "      <th>fist year</th>\n",
       "      <td>2</td>\n",
       "    </tr>\n",
       "    <tr>\n",
       "      <th>back pressure</th>\n",
       "      <td>2</td>\n",
       "    </tr>\n",
       "  </tbody>\n",
       "</table>\n",
       "<p>8893 rows × 1 columns</p>\n",
       "</div>"
      ],
      "text/plain": [
       "                 frequency\n",
       "token                     \n",
       "oil change             532\n",
       "steering wheel         429\n",
       "engine light           376\n",
       "check engine           289\n",
       "test drive             287\n",
       "...                    ...\n",
       "dealer mechanic          2\n",
       "car nut                  2\n",
       "truck newbie             2\n",
       "fist year                2\n",
       "back pressure            2\n",
       "\n",
       "[8893 rows x 1 columns]"
      ]
     },
     "execution_count": 135,
     "metadata": {},
     "output_type": "execute_result"
    }
   ],
   "source": [
    "count_words(df, column='noun_phrases')"
   ]
  },
  {
   "cell_type": "markdown",
   "id": "626bd5ea-a014-4216-be82-cc5a44c55031",
   "metadata": {},
   "source": [
    "## sqlite 저장"
   ]
  },
  {
   "cell_type": "code",
   "execution_count": 141,
   "id": "bdf95cdf-b361-47f7-8050-ed7b8e58eb86",
   "metadata": {},
   "outputs": [
    {
     "name": "stdout",
     "output_type": "stream",
     "text": [
      "Index(['id', 'subreddit', 'title', 'raw_text', 'category', 'subcategory',\n",
      "       'text', 'lemmas', 'adjs_verbs', 'nouns', 'noun_phrases',\n",
      "       'adj_noun_phrases', 'entities'],\n",
      "      dtype='object')\n"
     ]
    },
    {
     "data": {
      "text/html": [
       "<div>\n",
       "<style scoped>\n",
       "    .dataframe tbody tr th:only-of-type {\n",
       "        vertical-align: middle;\n",
       "    }\n",
       "\n",
       "    .dataframe tbody tr th {\n",
       "        vertical-align: top;\n",
       "    }\n",
       "\n",
       "    .dataframe thead th {\n",
       "        text-align: right;\n",
       "    }\n",
       "</style>\n",
       "<table border=\"1\" class=\"dataframe\">\n",
       "  <thead>\n",
       "    <tr style=\"text-align: right;\">\n",
       "      <th></th>\n",
       "      <th>id</th>\n",
       "      <th>subreddit</th>\n",
       "      <th>title</th>\n",
       "      <th>raw_text</th>\n",
       "      <th>category</th>\n",
       "      <th>subcategory</th>\n",
       "      <th>text</th>\n",
       "      <th>lemmas</th>\n",
       "      <th>adjs_verbs</th>\n",
       "      <th>nouns</th>\n",
       "      <th>noun_phrases</th>\n",
       "      <th>adj_noun_phrases</th>\n",
       "      <th>entities</th>\n",
       "    </tr>\n",
       "  </thead>\n",
       "  <tbody>\n",
       "    <tr>\n",
       "      <th>798</th>\n",
       "      <td>8l8ve1</td>\n",
       "      <td>Volkswagen</td>\n",
       "      <td>'09 Jetta Whooshing Noise</td>\n",
       "      <td>Hi, so I am having an issue with my 2009 Jetta (mk5). Whenever I turn the wheel full lock (nearly always left and sometimes right) I get this really weird what can best be described as a whooshing noise. It only happens when I am in gear as well, if I coast and do this it does not happen. Another thing to note is that this does not happen at higher speeds, anything higher than 15-20mph and it doesn't happen.&lt;lb&gt;&lt;lb&gt;Has anyone experienced this before? Or know what it may be? I'm kind of stuck here.&lt;lb&gt;&lt;lb&gt;Thanks in advance :)</td>\n",
       "      <td>autos</td>\n",
       "      <td>VW</td>\n",
       "      <td>'09 Jetta Whooshing Noise: Hi, so I am having an issue with my 2009 Jetta (mk5). Whenever I turn the wheel full lock (nearly always left and sometimes right) I get this really weird what can best be described as a whooshing noise. It only happens when I am in gear as well, if I coast and do this it does not happen. Another thing to note is that this does not happen at higher speeds, anything higher than 15-20mph and it doesn't happen. Has anyone experienced this before? Or know what it may be? I'm kind of stuck here. Thanks in advance :)</td>\n",
       "      <td>0   9       J   e   t   t   a       W   h   o   o   s   h   i   n   g       N   o   i   s   e       H   i       s   o       b   e       h   a   v   e       i   s   s   u   e       w   i   t   h       2   0   0   9       J   e   t   t   a       m   k   5       w   h   e   n   e   v   e   r       t   u   r   n       w   h   e   e   l       f   u   l   l       l   o   c   k       n   e   a   r   l   y       a   l   w   a   y   s       l   e   a   v   e       a   n   d       s   o   m   e   t   i   m   e   s       r   i   g   h   t       g   e   t       r   e   a   l   l   y       w   e   i   r   d       c   a   n       w   e   l   l       b   e       d   e   s   c   r   i   b   e       a   s       w   h   o   o   s   h   i   n   g       n   o   i   s   e       o   n   l   y       h   a   p   p   e   n       w   h   e   n       b   e       i   n       g   e   a   r       a   s       w   e   l   l       i   f       c   o   a   s   t       a   n   d       d   o       d   o       h   a   p   p   e   n       t   h   i   n   g       n   o   t   e       b   e       t   h   a   t       d   o       h   a   p   p   e   n       a   t       h   i   g   h       s   p   e   e   d       h   i   g   h       t   h   a   n       1   5       2   0       m   p   h       a   n   d       d   o       h   a   p   p   e   n       h   a   v   e       e   x   p   e   r   i   e   n   c   e       b   e   f   o   r   e       o   r       k   n   o   w       m   a   y       b   e       b   e       k   i   n   d       o   f       s   t   u   c   k       h   e   r   e       t   h   a   n   k       i   n       a   d   v   a   n   c   e</td>\n",
       "      <td>h   a   v   e       t   u   r   n       l   e   a   v   e       r   i   g   h   t       w   e   i   r   d       d   e   s   c   r   i   b   e       w   h   o   o   s   h   i   n   g       h   a   p   p   e   n       c   o   a   s   t       h   a   p   p   e   n       n   o   t   e       h   a   p   p   e   n       h   i   g   h       h   i   g   h       h   a   p   p   e   n       e   x   p   e   r   i   e   n   c   e       k   n   o   w       s   t   u   c   k</td>\n",
       "      <td>J   e   t   t   a       W   h   o   o   s   h   i   n   g       N   o   i   s   e       H   i       i   s   s   u   e       J   e   t   t   a       m   k   5       w   h   e   e   l       l   o   c   k       n   o   i   s   e       g   e   a   r       t   h   i   n   g       s   p   e   e   d       m   p   h       t   h   a   n   k       a   d   v   a   n   c   e</td>\n",
       "      <td></td>\n",
       "      <td>f   u   l   l       l   o   c   k       w   h   o   o   s   h   i   n   g       n   o   i   s   e       h   i   g   h       s   p   e   e   d</td>\n",
       "      <td></td>\n",
       "    </tr>\n",
       "  </tbody>\n",
       "</table>\n",
       "</div>"
      ],
      "text/plain": [
       "         id   subreddit                      title  \\\n",
       "798  8l8ve1  Volkswagen  '09 Jetta Whooshing Noise   \n",
       "\n",
       "                                                                                                                                                                                                                                                                                                                                                                                                                                                                                                                                                raw_text  \\\n",
       "798  Hi, so I am having an issue with my 2009 Jetta (mk5). Whenever I turn the wheel full lock (nearly always left and sometimes right) I get this really weird what can best be described as a whooshing noise. It only happens when I am in gear as well, if I coast and do this it does not happen. Another thing to note is that this does not happen at higher speeds, anything higher than 15-20mph and it doesn't happen.<lb><lb>Has anyone experienced this before? Or know what it may be? I'm kind of stuck here.<lb><lb>Thanks in advance :)    \n",
       "\n",
       "    category subcategory  \\\n",
       "798    autos          VW   \n",
       "\n",
       "                                                                                                                                                                                                                                                                                                                                                                                                                                                                                                                                                                text  \\\n",
       "798  '09 Jetta Whooshing Noise: Hi, so I am having an issue with my 2009 Jetta (mk5). Whenever I turn the wheel full lock (nearly always left and sometimes right) I get this really weird what can best be described as a whooshing noise. It only happens when I am in gear as well, if I coast and do this it does not happen. Another thing to note is that this does not happen at higher speeds, anything higher than 15-20mph and it doesn't happen. Has anyone experienced this before? Or know what it may be? I'm kind of stuck here. Thanks in advance :)   \n",
       "\n",
       "                                                                                                                                                                                                                                                                                                                                                                                                                                                                                                                                                                                                                                                                                                                                                                                                                                                                                                                                                                                                                                                                                                                                                                                                                                                                                                                                                                                                                                                                                                                                                                                                                                                                                        lemmas  \\\n",
       "798  0   9       J   e   t   t   a       W   h   o   o   s   h   i   n   g       N   o   i   s   e       H   i       s   o       b   e       h   a   v   e       i   s   s   u   e       w   i   t   h       2   0   0   9       J   e   t   t   a       m   k   5       w   h   e   n   e   v   e   r       t   u   r   n       w   h   e   e   l       f   u   l   l       l   o   c   k       n   e   a   r   l   y       a   l   w   a   y   s       l   e   a   v   e       a   n   d       s   o   m   e   t   i   m   e   s       r   i   g   h   t       g   e   t       r   e   a   l   l   y       w   e   i   r   d       c   a   n       w   e   l   l       b   e       d   e   s   c   r   i   b   e       a   s       w   h   o   o   s   h   i   n   g       n   o   i   s   e       o   n   l   y       h   a   p   p   e   n       w   h   e   n       b   e       i   n       g   e   a   r       a   s       w   e   l   l       i   f       c   o   a   s   t       a   n   d       d   o       d   o       h   a   p   p   e   n       t   h   i   n   g       n   o   t   e       b   e       t   h   a   t       d   o       h   a   p   p   e   n       a   t       h   i   g   h       s   p   e   e   d       h   i   g   h       t   h   a   n       1   5       2   0       m   p   h       a   n   d       d   o       h   a   p   p   e   n       h   a   v   e       e   x   p   e   r   i   e   n   c   e       b   e   f   o   r   e       o   r       k   n   o   w       m   a   y       b   e       b   e       k   i   n   d       o   f       s   t   u   c   k       h   e   r   e       t   h   a   n   k       i   n       a   d   v   a   n   c   e   \n",
       "\n",
       "                                                                                                                                                                                                                                                                                                                                                                                                                                                                            adjs_verbs  \\\n",
       "798  h   a   v   e       t   u   r   n       l   e   a   v   e       r   i   g   h   t       w   e   i   r   d       d   e   s   c   r   i   b   e       w   h   o   o   s   h   i   n   g       h   a   p   p   e   n       c   o   a   s   t       h   a   p   p   e   n       n   o   t   e       h   a   p   p   e   n       h   i   g   h       h   i   g   h       h   a   p   p   e   n       e   x   p   e   r   i   e   n   c   e       k   n   o   w       s   t   u   c   k   \n",
       "\n",
       "                                                                                                                                                                                                                                                                                                                                                                             nouns  \\\n",
       "798  J   e   t   t   a       W   h   o   o   s   h   i   n   g       N   o   i   s   e       H   i       i   s   s   u   e       J   e   t   t   a       m   k   5       w   h   e   e   l       l   o   c   k       n   o   i   s   e       g   e   a   r       t   h   i   n   g       s   p   e   e   d       m   p   h       t   h   a   n   k       a   d   v   a   n   c   e   \n",
       "\n",
       "    noun_phrases  \\\n",
       "798                \n",
       "\n",
       "                                                                                                                                  adj_noun_phrases  \\\n",
       "798  f   u   l   l       l   o   c   k       w   h   o   o   s   h   i   n   g       n   o   i   s   e       h   i   g   h       s   p   e   e   d   \n",
       "\n",
       "    entities  \n",
       "798           "
      ]
     },
     "metadata": {},
     "output_type": "display_data"
    }
   ],
   "source": [
    "df[nlp_columns] = df[nlp_columns].applymap(lambda items: ' '.join(items))\n",
    "print(df.columns)\n",
    "display(df.sample(1))"
   ]
  },
  {
   "cell_type": "code",
   "execution_count": 143,
   "id": "4a949bde-578c-4d22-9f3d-8f043a79bc61",
   "metadata": {},
   "outputs": [],
   "source": [
    "con=sqlite3.connect(dir+db_name)\n",
    "df.to_sql(\"posts_nlp\", con, index=False, if_exists=\"replace\")\n",
    "con.close()"
   ]
  }
 ],
 "metadata": {
  "kernelspec": {
   "display_name": "Python 3 (ipykernel)",
   "language": "python",
   "name": "python3"
  },
  "language_info": {
   "codemirror_mode": {
    "name": "ipython",
    "version": 3
   },
   "file_extension": ".py",
   "mimetype": "text/x-python",
   "name": "python",
   "nbconvert_exporter": "python",
   "pygments_lexer": "ipython3",
   "version": "3.11.5"
  }
 },
 "nbformat": 4,
 "nbformat_minor": 5
}
