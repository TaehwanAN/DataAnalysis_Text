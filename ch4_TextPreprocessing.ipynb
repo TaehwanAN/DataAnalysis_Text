{
 "cells": [
  {
   "cell_type": "code",
   "execution_count": 123,
   "id": "9780e6de-5600-44ef-a005-d707c048b90b",
   "metadata": {},
   "outputs": [],
   "source": [
    "import os\n",
    "import numpy as np \n",
    "import pandas as pd\n",
    "pd.set_option('display.max_colwidth', None) ## 레코드의 모든 값을 보기 위한 설정(text안짤리게)\n",
    "import matplotlib.pyplot as plt\n",
    "plt.rcParams['font.family'] ='Malgun Gothic'\n",
    "plt.rcParams['axes.unicode_minus'] =False\n",
    "import sqlite3"
   ]
  },
  {
   "cell_type": "markdown",
   "id": "8412742a-3825-452f-ba4e-0990f2897e19",
   "metadata": {},
   "source": [
    "# 4.3 데이터 준비: 레딧 셀프포스트"
   ]
  },
  {
   "cell_type": "code",
   "execution_count": 124,
   "id": "155dce36-5466-4adb-9e8f-05429341686e",
   "metadata": {},
   "outputs": [
    {
     "name": "stdout",
     "output_type": "stream",
     "text": [
      "D:\\user\\Desktop\\DataScience_git\\TextAnalysis\n",
      "['rspct.tsv', 'subreddit_info.csv']\n"
     ]
    }
   ],
   "source": [
    "print(os.getcwd())\n",
    "print(os.listdir('../dataset/RedditSelfPosts/'))\n",
    "# os.chdir('../dataset/RedditSelfPosts/')\n",
    "# print(os.listdir())\n",
    "# os.chdir('../../TextAnalysis/')\n",
    "# print(os.getcwd())"
   ]
  },
  {
   "cell_type": "code",
   "execution_count": 125,
   "id": "0843dc67-b89f-4b9b-a13e-9c77579c2032",
   "metadata": {},
   "outputs": [
    {
     "name": "stdout",
     "output_type": "stream",
     "text": [
      "<class 'pandas.core.frame.DataFrame'>\n",
      "RangeIndex: 1013000 entries, 0 to 1012999\n",
      "Data columns (total 4 columns):\n",
      " #   Column     Non-Null Count    Dtype \n",
      "---  ------     --------------    ----- \n",
      " 0   id         1013000 non-null  object\n",
      " 1   subreddit  1013000 non-null  object\n",
      " 2   title      1013000 non-null  object\n",
      " 3   selftext   1013000 non-null  object\n",
      "dtypes: object(4)\n",
      "memory usage: 30.9+ MB\n"
     ]
    }
   ],
   "source": [
    "dir='../dataset/RedditSelfPosts/'\n",
    "posts_file = 'rspct.tsv'\n",
    "posts_df=pd.read_csv(dir+posts_file, sep='\\t')\n",
    "posts_df.info() ## 사용자들의 게시글. "
   ]
  },
  {
   "cell_type": "code",
   "execution_count": 126,
   "id": "eeed39d5-27e9-43a2-9e7b-a93e7cc8c8d6",
   "metadata": {},
   "outputs": [
    {
     "name": "stdout",
     "output_type": "stream",
     "text": [
      "<class 'pandas.core.frame.DataFrame'>\n",
      "Index: 3394 entries, whatsthatbook to Glitch_in_the_Matrix\n",
      "Data columns (total 5 columns):\n",
      " #   Column                Non-Null Count  Dtype \n",
      "---  ------                --------------  ----- \n",
      " 0   category_1            3394 non-null   object\n",
      " 1   category_2            3362 non-null   object\n",
      " 2   category_3            536 non-null    object\n",
      " 3   in_data               3394 non-null   bool  \n",
      " 4   reason_for_exclusion  2381 non-null   object\n",
      "dtypes: bool(1), object(4)\n",
      "memory usage: 135.9+ KB\n"
     ]
    }
   ],
   "source": [
    "subred_file='subreddit_info.csv'\n",
    "subred_df=pd.read_csv(dir+subred_file).set_index(['subreddit'])\n",
    "subred_df.info() ## subreddit 이라는 커뮤니키에 대한 정보들. 프라이머리키는 subreddit."
   ]
  },
  {
   "cell_type": "code",
   "execution_count": 127,
   "id": "da026510-c46f-4c0c-bda6-d7d13f95f026",
   "metadata": {},
   "outputs": [
    {
     "name": "stdout",
     "output_type": "stream",
     "text": [
      "<class 'pandas.core.frame.DataFrame'>\n",
      "RangeIndex: 1013000 entries, 0 to 1012999\n",
      "Data columns (total 9 columns):\n",
      " #   Column                Non-Null Count    Dtype \n",
      "---  ------                --------------    ----- \n",
      " 0   id                    1013000 non-null  object\n",
      " 1   subreddit             1013000 non-null  object\n",
      " 2   title                 1013000 non-null  object\n",
      " 3   selftext              1013000 non-null  object\n",
      " 4   category_1            1013000 non-null  object\n",
      " 5   category_2            1013000 non-null  object\n",
      " 6   category_3            136000 non-null   object\n",
      " 7   in_data               1013000 non-null  bool  \n",
      " 8   reason_for_exclusion  0 non-null        object\n",
      "dtypes: bool(1), object(8)\n",
      "memory usage: 62.8+ MB\n"
     ]
    }
   ],
   "source": [
    "df=posts_df.join(subred_df, on='subreddit')\n",
    "df.info()"
   ]
  },
  {
   "cell_type": "markdown",
   "id": "774e3049-c071-4e9d-9762-063bc384848c",
   "metadata": {},
   "source": [
    "## EDA"
   ]
  },
  {
   "cell_type": "code",
   "execution_count": 128,
   "id": "41a9bb2a-4778-47bf-b1d8-f8c9f2151728",
   "metadata": {},
   "outputs": [
    {
     "data": {
      "text/html": [
       "<div>\n",
       "<style scoped>\n",
       "    .dataframe tbody tr th:only-of-type {\n",
       "        vertical-align: middle;\n",
       "    }\n",
       "\n",
       "    .dataframe tbody tr th {\n",
       "        vertical-align: top;\n",
       "    }\n",
       "\n",
       "    .dataframe thead th {\n",
       "        text-align: right;\n",
       "    }\n",
       "</style>\n",
       "<table border=\"1\" class=\"dataframe\">\n",
       "  <thead>\n",
       "    <tr style=\"text-align: right;\">\n",
       "      <th></th>\n",
       "      <th>id</th>\n",
       "      <th>subreddit</th>\n",
       "      <th>title</th>\n",
       "      <th>selftext</th>\n",
       "      <th>category_1</th>\n",
       "      <th>category_2</th>\n",
       "      <th>category_3</th>\n",
       "      <th>in_data</th>\n",
       "      <th>reason_for_exclusion</th>\n",
       "    </tr>\n",
       "  </thead>\n",
       "  <tbody>\n",
       "    <tr>\n",
       "      <th>552975</th>\n",
       "      <td>6b1gbw</td>\n",
       "      <td>personalfinance</td>\n",
       "      <td>Question about 60 Day Roth IRA Rollover</td>\n",
       "      <td>I've checked multiple sites/threads here on Reddit and can't seem to find my answer, so hoping someone will kindly help me out.&lt;lb&gt;&lt;lb&gt;I'm looking to pull some money from my Roth IRA temporarily, with full intention of returning it within the 60 day time frame. My question is, when I return that money, is it going to count against my contribution for 2017? More specifically, say I take out $1,000 dollars and return it within 60 days, am I only able to now contribute an additional $4,500 for 2017 or can I still contribute the full $5,500 for 2017?&lt;lb&gt;&lt;lb&gt;I really appreciate any help anyone can offer.</td>\n",
       "      <td>finance/money</td>\n",
       "      <td>personal finance</td>\n",
       "      <td>NaN</td>\n",
       "      <td>True</td>\n",
       "      <td>NaN</td>\n",
       "    </tr>\n",
       "    <tr>\n",
       "      <th>970283</th>\n",
       "      <td>6ah7bs</td>\n",
       "      <td>ultrawidemasterrace</td>\n",
       "      <td>Desk mounted monitor arm for a Z35P?</td>\n",
       "      <td>I was originally going to get the x34, but looking at the Z35P, I am super keen for it and willing to wait until it comes out after my exams.&lt;lb&gt;&lt;lb&gt;I am trying to find a monitor arm with a desk clamp that would hold the Z35P as well as being able to clamp on my desk.&lt;lb&gt;&lt;lb&gt;My desk is essentially laminated particle board. Here is an image showing the dimensions:&lt;lb&gt;http://i.imgur.com/cGoYyx4.png (EDIT: the back of the desk is the right side)&lt;lb&gt;&lt;lb&gt;I don't want to drill holes in the wall and use a wall mount (I know I'm being difficult :P)&lt;lb&gt;&lt;lb&gt;Has anyone got any suggestions for a suitable mount for my desk and selected monitor?&lt;lb&gt;&lt;lb&gt;Any help is appreciated!</td>\n",
       "      <td>electronics</td>\n",
       "      <td>computer monitor</td>\n",
       "      <td>NaN</td>\n",
       "      <td>True</td>\n",
       "      <td>NaN</td>\n",
       "    </tr>\n",
       "    <tr>\n",
       "      <th>102694</th>\n",
       "      <td>5e9c48</td>\n",
       "      <td>ADHD</td>\n",
       "      <td>Just verbal vomit of poetry, on how I feel accepting this illness, and not being able to sleep from meds</td>\n",
       "      <td>My fingers won't take direction&lt;lb&gt;They're clumsy as I type&lt;lb&gt;My thoughts, they scramble faster&lt;lb&gt;Than my body can coherently write&lt;lb&gt;&lt;lb&gt;My thoughts are that I miss you&lt;lb&gt;You left so long from here&lt;lb&gt;I'm not sure who I'm writing to&lt;lb&gt;So many have disappeared&lt;lb&gt;&lt;lb&gt;I write this to the friends and lovers&lt;lb&gt;Who slowly, sadly found true&lt;lb&gt;It's hard to love someone like me&lt;lb&gt;And they very rarely do&lt;lb&gt;&lt;lb&gt;I don't need the sympathy&lt;lb&gt;I don't need the solution&lt;lb&gt;My disease is who I am&lt;lb&gt;Blame it on evolution&lt;lb&gt;&lt;lb&gt;They say ADD is a gift&lt;lb&gt;When they don't call it an illusion&lt;lb&gt;One that brings great potential&lt;lb&gt;Also bestows great confusion&lt;lb&gt;&lt;lb&gt;How does one put thoughts on paper&lt;lb&gt;When disorganized in mind&lt;lb&gt;The debate of the constant muddle&lt;lb&gt;A mess of the appropriate find&lt;lb&gt;&lt;lb&gt;My mind is a treasure&lt;lb&gt;One buried deep within&lt;lb&gt;The key is hidden from me&lt;lb&gt;I suppose I'll never win&lt;lb&gt;&lt;lb&gt;I guess if you ask,&lt;lb&gt;I'm feeling sad,&lt;lb&gt;But it's just a normal day.&lt;lb&gt;&lt;lb&gt;&lt;lb&gt;&lt;lb&gt;&lt;lb&gt;</td>\n",
       "      <td>health</td>\n",
       "      <td>adhd</td>\n",
       "      <td>NaN</td>\n",
       "      <td>True</td>\n",
       "      <td>NaN</td>\n",
       "    </tr>\n",
       "    <tr>\n",
       "      <th>4747</th>\n",
       "      <td>5omg4b</td>\n",
       "      <td>summonerswar</td>\n",
       "      <td>question about Lisa</td>\n",
       "      <td>quick question about Lisa's 3rd ability. This question could also be under any other monsters that have an ally monster attack with them. So say i use Lisa's 3rd ability and it attacks with Charlotte. For those who don't know, Charlotte's first skill has a chance to put the enemy to sleep. If this happens then she gets a second turn. &lt;lb&gt;&lt;lb&gt;&lt;lb&gt;So would Charlotte get a second turn if she puts an enemy to sleep if she was attack with Lisa?</td>\n",
       "      <td>video_game</td>\n",
       "      <td>summoners war</td>\n",
       "      <td>NaN</td>\n",
       "      <td>True</td>\n",
       "      <td>NaN</td>\n",
       "    </tr>\n",
       "    <tr>\n",
       "      <th>924671</th>\n",
       "      <td>6l10al</td>\n",
       "      <td>logorequests</td>\n",
       "      <td>New laser engraving business logo</td>\n",
       "      <td>We recently opened a new home-based laser engraving business on Expedition Creek. The name of the company is Expedition Engraving LLC and we need to come up with a logo for website, cards, email signatures, etc. The ideas below were agreed upon by myself and my partner:&lt;lb&gt;&lt;lb&gt;*  Use of a 3d compass rose to the left of the wording with a laser finishing the design of it, something similar to this but no directional letters: https://us.123rf.com/450wm/sergeiminsk/sergeiminsk1501/sergeiminsk150100006/35308597-compass-rose-isolated-on-white-vector-illustration.jpg?ver=6&lt;lb&gt;&lt;lb&gt;It's not a deal breaker, but the business name implies some kind of adventure, thus the compass&lt;lb&gt;&lt;lb&gt;* Alternatively, an italicized and bolded Expedition Engraving with a laser finishing the logo out.&lt;lb&gt;&lt;lb&gt;* With any design, black and white would be preferable to color since we can't engrave in color. Our cards will likely be aluminum sheets engraved with the logo and contact information. The kind of feel we're going for in the logo has to reflect the use of lasers.&lt;lb&gt;&lt;lb&gt;Our budget is roughly $100. If required, a $25 deposit can be made and the balance upon completion, preferably through PayPal.&lt;lb&gt;&lt;lb&gt;Deliverables in this case will be the final logo in a PNG or PS format and a simplified outline logo that can be ran through quickly on the engraving in the same format.&lt;lb&gt;&lt;lb&gt;You folks are the professionals here, I'm more than open to suggestions and ideas. Thank you for looking and any responses received. Look forward to hearing from y'all.</td>\n",
       "      <td>arts</td>\n",
       "      <td>logo</td>\n",
       "      <td>NaN</td>\n",
       "      <td>True</td>\n",
       "      <td>NaN</td>\n",
       "    </tr>\n",
       "  </tbody>\n",
       "</table>\n",
       "</div>"
      ],
      "text/plain": [
       "            id            subreddit  \\\n",
       "552975  6b1gbw      personalfinance   \n",
       "970283  6ah7bs  ultrawidemasterrace   \n",
       "102694  5e9c48                 ADHD   \n",
       "4747    5omg4b         summonerswar   \n",
       "924671  6l10al         logorequests   \n",
       "\n",
       "                                                                                                           title  \\\n",
       "552975                                                                   Question about 60 Day Roth IRA Rollover   \n",
       "970283                                                                      Desk mounted monitor arm for a Z35P?   \n",
       "102694  Just verbal vomit of poetry, on how I feel accepting this illness, and not being able to sleep from meds   \n",
       "4747                                                                                         question about Lisa   \n",
       "924671                                                                         New laser engraving business logo   \n",
       "\n",
       "                                                                                                                                                                                                                                                                                                                                                                                                                                                                                                                                                                                                                                                                                                                                                                                                                                                                                                                                                                                                                                                                                                                                                                                                                                                                                                                                                                                                                                                                                                                                                                                                      selftext  \\\n",
       "552975                                                                                                                                                                                                                                                                                                                                                                                                                                                                                                                                                                                                                                                                                                                                                                                                                                                                                                                                                                          I've checked multiple sites/threads here on Reddit and can't seem to find my answer, so hoping someone will kindly help me out.<lb><lb>I'm looking to pull some money from my Roth IRA temporarily, with full intention of returning it within the 60 day time frame. My question is, when I return that money, is it going to count against my contribution for 2017? More specifically, say I take out $1,000 dollars and return it within 60 days, am I only able to now contribute an additional $4,500 for 2017 or can I still contribute the full $5,500 for 2017?<lb><lb>I really appreciate any help anyone can offer.   \n",
       "970283                                                                                                                                                                                                                                                                                                                                                                                                                                                                                                                                                                                                                                                                                                                                                                                                                                                                                                         I was originally going to get the x34, but looking at the Z35P, I am super keen for it and willing to wait until it comes out after my exams.<lb><lb>I am trying to find a monitor arm with a desk clamp that would hold the Z35P as well as being able to clamp on my desk.<lb><lb>My desk is essentially laminated particle board. Here is an image showing the dimensions:<lb>http://i.imgur.com/cGoYyx4.png (EDIT: the back of the desk is the right side)<lb><lb>I don't want to drill holes in the wall and use a wall mount (I know I'm being difficult :P)<lb><lb>Has anyone got any suggestions for a suitable mount for my desk and selected monitor?<lb><lb>Any help is appreciated!   \n",
       "102694                                                                                                                                                                                                                                                                                                                                                                                                                                                                                                                                                        My fingers won't take direction<lb>They're clumsy as I type<lb>My thoughts, they scramble faster<lb>Than my body can coherently write<lb><lb>My thoughts are that I miss you<lb>You left so long from here<lb>I'm not sure who I'm writing to<lb>So many have disappeared<lb><lb>I write this to the friends and lovers<lb>Who slowly, sadly found true<lb>It's hard to love someone like me<lb>And they very rarely do<lb><lb>I don't need the sympathy<lb>I don't need the solution<lb>My disease is who I am<lb>Blame it on evolution<lb><lb>They say ADD is a gift<lb>When they don't call it an illusion<lb>One that brings great potential<lb>Also bestows great confusion<lb><lb>How does one put thoughts on paper<lb>When disorganized in mind<lb>The debate of the constant muddle<lb>A mess of the appropriate find<lb><lb>My mind is a treasure<lb>One buried deep within<lb>The key is hidden from me<lb>I suppose I'll never win<lb><lb>I guess if you ask,<lb>I'm feeling sad,<lb>But it's just a normal day.<lb><lb><lb><lb><lb>   \n",
       "4747                                                                                                                                                                                                                                                                                                                                                                                                                                                                                                                                                                                                                                                                                                                                                                                                                                                                                                                                                                                                                                                                                                                                              quick question about Lisa's 3rd ability. This question could also be under any other monsters that have an ally monster attack with them. So say i use Lisa's 3rd ability and it attacks with Charlotte. For those who don't know, Charlotte's first skill has a chance to put the enemy to sleep. If this happens then she gets a second turn. <lb><lb><lb>So would Charlotte get a second turn if she puts an enemy to sleep if she was attack with Lisa?    \n",
       "924671  We recently opened a new home-based laser engraving business on Expedition Creek. The name of the company is Expedition Engraving LLC and we need to come up with a logo for website, cards, email signatures, etc. The ideas below were agreed upon by myself and my partner:<lb><lb>*  Use of a 3d compass rose to the left of the wording with a laser finishing the design of it, something similar to this but no directional letters: https://us.123rf.com/450wm/sergeiminsk/sergeiminsk1501/sergeiminsk150100006/35308597-compass-rose-isolated-on-white-vector-illustration.jpg?ver=6<lb><lb>It's not a deal breaker, but the business name implies some kind of adventure, thus the compass<lb><lb>* Alternatively, an italicized and bolded Expedition Engraving with a laser finishing the logo out.<lb><lb>* With any design, black and white would be preferable to color since we can't engrave in color. Our cards will likely be aluminum sheets engraved with the logo and contact information. The kind of feel we're going for in the logo has to reflect the use of lasers.<lb><lb>Our budget is roughly $100. If required, a $25 deposit can be made and the balance upon completion, preferably through PayPal.<lb><lb>Deliverables in this case will be the final logo in a PNG or PS format and a simplified outline logo that can be ran through quickly on the engraving in the same format.<lb><lb>You folks are the professionals here, I'm more than open to suggestions and ideas. Thank you for looking and any responses received. Look forward to hearing from y'all.   \n",
       "\n",
       "           category_1        category_2 category_3  in_data  \\\n",
       "552975  finance/money  personal finance        NaN     True   \n",
       "970283    electronics  computer monitor        NaN     True   \n",
       "102694         health              adhd        NaN     True   \n",
       "4747       video_game     summoners war        NaN     True   \n",
       "924671           arts              logo        NaN     True   \n",
       "\n",
       "       reason_for_exclusion  \n",
       "552975                  NaN  \n",
       "970283                  NaN  \n",
       "102694                  NaN  \n",
       "4747                    NaN  \n",
       "924671                  NaN  "
      ]
     },
     "metadata": {},
     "output_type": "display_data"
    }
   ],
   "source": [
    "display(df.sample(5))"
   ]
  },
  {
   "cell_type": "code",
   "execution_count": 129,
   "id": "c88223a1-6b1d-483e-bc4f-8c7765192488",
   "metadata": {},
   "outputs": [
    {
     "data": {
      "text/plain": [
       "subreddit        category_1   category_2            category_3\n",
       "ASUS             electronics  laptop/notebook       asus          1000\n",
       "obs              software     video streaming       obs           1000\n",
       "korea            geo          korea                 country       1000\n",
       "lebanon          geo          lebanon               country       1000\n",
       "linuxquestions   software     unix/unix-like        linux         1000\n",
       "                                                                  ... \n",
       "ShieldAndroidTV  electronics  television            shield tv     1000\n",
       "SCCM             software     infrastructure        SCCM          1000\n",
       "Roll20           software     tabletop emulator     roll20        1000\n",
       "Roku             electronics  digital media player  roku          1000\n",
       "ynab             software     budgeting             ynab          1000\n",
       "Name: count, Length: 136, dtype: int64"
      ]
     },
     "execution_count": 129,
     "metadata": {},
     "output_type": "execute_result"
    }
   ],
   "source": [
    "df[['subreddit','category_1','category_2','category_3']].value_counts()"
   ]
  },
  {
   "cell_type": "code",
   "execution_count": 130,
   "id": "897666a2-c98e-435f-9c27-65bd6748a3d1",
   "metadata": {},
   "outputs": [
    {
     "data": {
      "text/plain": [
       "array(['writing/stories', 'tv_show', 'autos', 'hardware/tools',\n",
       "       'electronics', 'video_game', 'crypto', 'sports', 'hobby',\n",
       "       'appearance', 'card_game', 'drugs', 'advice/question',\n",
       "       'social_group', 'anime/manga', 'sex/relationships', 'software',\n",
       "       'health', 'other', 'animals', 'arts', 'programming', 'rpg',\n",
       "       'books', 'parenting', 'education', 'company/website', 'profession',\n",
       "       'music', 'politics/viewpoint', 'stem', 'travel', 'geo',\n",
       "       'religion/supernatural', 'board_game', 'movies', 'food/drink',\n",
       "       'finance/money', 'meta'], dtype=object)"
      ]
     },
     "execution_count": 130,
     "metadata": {},
     "output_type": "execute_result"
    }
   ],
   "source": [
    "df['category_1'].unique()"
   ]
  },
  {
   "cell_type": "code",
   "execution_count": 131,
   "id": "8e35a809-ce04-4f7a-8f8b-2020cfdcb666",
   "metadata": {},
   "outputs": [
    {
     "data": {
      "text/plain": [
       "array(['tech support', 'teen mom', 'harley davidson', ..., 'halo',\n",
       "       'grand theft auto', 'mead'], dtype=object)"
      ]
     },
     "execution_count": 131,
     "metadata": {},
     "output_type": "execute_result"
    }
   ],
   "source": [
    "df['category_2'].unique()"
   ]
  },
  {
   "cell_type": "code",
   "execution_count": 132,
   "id": "99e43561-9d20-4204-88d4-1a3a80b9d939",
   "metadata": {},
   "outputs": [
    {
     "data": {
      "text/plain": [
       "array([nan, 'intel', 'oculus rift', 'garmin', 'sharepoint', 'gamestop',\n",
       "       'uber', 'cloud9', 'microsoft', 'country', 'home assistant', 'tor',\n",
       "       'hue', 'costco', 'taco bell', 'movie pass club', 'snapchat',\n",
       "       'excel', 'synology', 'dji', 'wacom', 'sony', 'obs', 'nest',\n",
       "       'vmware', 'knife club', 'starbucks', 'android auto', 'tinder',\n",
       "       'valve', 'magento', 'roku', 'autohotkey', 'solidworks', 'thinkpad',\n",
       "       'premiere', 'ynab', 'corsair', 'spacex', 'unreal', 'windows',\n",
       "       'lineage os', 'cemu', 'amazon', 'adobe illustrator', 'discord',\n",
       "       'mac os', 'pfsense', 'postmates', 'outlook', 'arduino', 'sonarr',\n",
       "       'verizon', 'instacart', 'google', 'criterion', 'shield tv',\n",
       "       'roll20', 'nvidia', 'tableau', 'samsung', 'word press', 'origin',\n",
       "       'boosted', 'tasker', 'onenote', 'lime technology', 'cisco',\n",
       "       'crossfit', 'if then then that', 'nintendo', 'kodi', 'homelab',\n",
       "       'audible', 'u block', 'walmart', 'airbnb', 'home depot', 'swift',\n",
       "       'kickstarter', 'workflow', 'SCCM', 'staples', 'pihole',\n",
       "       'salesforce', 'linux', 'beauty box', 'firefox', 'juul', 'asus',\n",
       "       'radarr', 'gopro', 'fitbit', 'raspberrypi', 'rainmeter', 'anki',\n",
       "       'microsoft access', 'ableton', 'ikea', 'freenas', 'paypal',\n",
       "       'apple', 'spotify', 'blender', 'pebble', 'trezor'], dtype=object)"
      ]
     },
     "execution_count": 132,
     "metadata": {},
     "output_type": "execute_result"
    }
   ],
   "source": [
    "df['category_3'].unique()"
   ]
  },
  {
   "cell_type": "code",
   "execution_count": 133,
   "id": "07a0882e-8639-4b80-81e3-7bd0731deb79",
   "metadata": {},
   "outputs": [
    {
     "data": {
      "text/plain": [
       "id                            0\n",
       "subreddit                     0\n",
       "title                         0\n",
       "selftext                      0\n",
       "category_1                    0\n",
       "category_2                    0\n",
       "category_3               877000\n",
       "in_data                       0\n",
       "reason_for_exclusion    1013000\n",
       "dtype: int64"
      ]
     },
     "execution_count": 133,
     "metadata": {},
     "output_type": "execute_result"
    }
   ],
   "source": [
    "df.isna().sum()"
   ]
  },
  {
   "cell_type": "markdown",
   "id": "eea38d87-9a11-4a65-ac84-b0150d7cfaeb",
   "metadata": {},
   "source": [
    "## 컬럼(속성) 표준화\n",
    "- 1. 사용하지 않을 컬럼과 사용할 컬럼으로 나눈다.\n",
    "  2. 사용할 컬럼의 이름을 일반적인 컬럼명으로 변경해주고, 사용하지 않을 컬럼의 이름에는 None을 붙인다.\n",
    "  3. 사용하지 않을 컬럼을 삭제한다.\n",
    "- 목적: 100만건의 데이터는 너무 방대하므로, 카테고리가 \"autos\"인 데이터 2만건만 추출해낸다."
   ]
  },
  {
   "cell_type": "code",
   "execution_count": 134,
   "id": "a2667346-5f4f-49cf-bb92-0380ccf906a0",
   "metadata": {},
   "outputs": [
    {
     "data": {
      "text/plain": [
       "Index(['id', 'subreddit', 'title', 'selftext', 'category_1', 'category_2',\n",
       "       'category_3', 'in_data', 'reason_for_exclusion'],\n",
       "      dtype='object')"
      ]
     },
     "execution_count": 134,
     "metadata": {},
     "output_type": "execute_result"
    }
   ],
   "source": [
    "df.columns"
   ]
  },
  {
   "cell_type": "code",
   "execution_count": 135,
   "id": "17e05d71-c0ac-4b23-938d-9b20662f2c84",
   "metadata": {},
   "outputs": [],
   "source": [
    "df.columns=['id', 'subreddit', 'title', 'text', 'category', 'subcategory',\n",
    "            None, None, None] \n",
    "# 필요 없는 카테고리3, 인데이터, 배제사유 날려버리기\n",
    "df=df.drop([col for col in df.columns if col==None],axis=1)"
   ]
  },
  {
   "cell_type": "code",
   "execution_count": 136,
   "id": "1603162f-ec30-4736-898f-23ec1182531c",
   "metadata": {},
   "outputs": [
    {
     "data": {
      "text/html": [
       "<div>\n",
       "<style scoped>\n",
       "    .dataframe tbody tr th:only-of-type {\n",
       "        vertical-align: middle;\n",
       "    }\n",
       "\n",
       "    .dataframe tbody tr th {\n",
       "        vertical-align: top;\n",
       "    }\n",
       "\n",
       "    .dataframe thead th {\n",
       "        text-align: right;\n",
       "    }\n",
       "</style>\n",
       "<table border=\"1\" class=\"dataframe\">\n",
       "  <thead>\n",
       "    <tr style=\"text-align: right;\">\n",
       "      <th></th>\n",
       "      <th>608246</th>\n",
       "    </tr>\n",
       "  </thead>\n",
       "  <tbody>\n",
       "    <tr>\n",
       "      <th>id</th>\n",
       "      <td>8hrhzm</td>\n",
       "    </tr>\n",
       "    <tr>\n",
       "      <th>subreddit</th>\n",
       "      <td>Tulpas</td>\n",
       "    </tr>\n",
       "    <tr>\n",
       "      <th>title</th>\n",
       "      <td>I don't know where to start</td>\n",
       "    </tr>\n",
       "    <tr>\n",
       "      <th>text</th>\n",
       "      <td>Ok, apologies for the title, and really anything I say here. I am well aware that there are probably so many posts out here like this on the internet, however, personally I am finding trouble finding those posts.&lt;lb&gt;&lt;lb&gt;So, I've been thinking about creating a Tulpa for a while now. I've read a few guides on it too, and I really want to take up the commitment. I already know it will be challenging, and there will be downsides. I've read plenty of posts concerning that as well.&lt;lb&gt;&lt;lb&gt;My issue is that I have no clue where to start.&lt;lb&gt;Like, where do I even begin?&lt;lb&gt;&lt;lb&gt;Here are some of my problems&lt;lb&gt;&lt;lb&gt;1.) Visualizing&lt;lb&gt;I've heard a lot of talk about visualizing your Tulpa. Some say it can even speed development of one, however, I simply have trouble with even visualizing anything. I'm like a dim bulb. I (kind of) work, but not really anything compared to a normal, fully functioning bulb.&lt;lb&gt;&lt;lb&gt;I can visualize things, but to a certain extend. For example, I can visualize a picture of my sisters face if I try, however it usually seems really dark and desaturated for some reason, and if I focus on one certain part of the image, I cannot see anything else.&lt;lb&gt;Other times though, I just see completely nothing. Just black. That's it.&lt;lb&gt;I just find myself having a terrible time visualizing.&lt;lb&gt;&lt;lb&gt;I've heard that it can become better over time, and that is cool. Does anyone in the community have any tips?&lt;lb&gt;&lt;lb&gt;(Also, I've been hearing a lot of word going around about Aphantasia, and I am pretty sure that I don't have it. I have poor visualization, not none at all.)&lt;lb&gt;&lt;lb&gt;2.) What to do..(?)&lt;lb&gt;&lt;lb&gt;Like, how do you start even if you can visualize? Some people say to introduce yourself to them, and I've tried that, but I just really get confused about what to do next. I'll (kind of) speak in my head (if that is the correct term to it) and describe what I am doing, but it doesn't feel right.&lt;lb&gt;&lt;lb&gt;(For example, if I am petting a cat, I'll describe petting a cat, and what a cat even is, stuff like that)&lt;lb&gt;&lt;lb&gt;I just know I'm probably doing something wrong.&lt;lb&gt;&lt;lb&gt;&lt;lb&gt;&lt;lb&gt;Does anyone have any tips on getting started?&lt;lb&gt;&lt;lb&gt;Tulpas are really interesting, and I really want to try to get invested in it and make one, however I just think that I am doing something wrong...&lt;lb&gt;&lt;lb&gt;&lt;lb&gt;&lt;lb&gt;&lt;lb&gt;&lt;lb&gt;&lt;lb&gt;Also, here are some misc questions (that might have been answered hundreds of times before) if you feel like answering:&lt;lb&gt;&lt;lb&gt;- Can you change your dreamscape (if you and your Tulpa agree too), like, if your dreamscape is a wooden house, could you change it to a castle, or is it permanent?&lt;lb&gt;&lt;lb&gt;- Is there any guide that you recommend? If so, please tell me, it would be very helpful&lt;lb&gt;&lt;lb&gt;- What is the most annoying thing your Tulpa has ever done or said to you? (for Host)&lt;lb&gt;&lt;lb&gt;- What is the most annoying think your Host have ever done or said to you? (for Tulpa)&lt;lb&gt;&lt;lb&gt;- How hard is it to make a Tulpa (in your experience)&lt;lb&gt;&lt;lb&gt;&lt;lb&gt;&lt;lb&gt;*TLDR - I am totally confused on where to start, I also suck at visualizing, and any help on some overall direction would be really nice*</td>\n",
       "    </tr>\n",
       "    <tr>\n",
       "      <th>category</th>\n",
       "      <td>religion/supernatural</td>\n",
       "    </tr>\n",
       "    <tr>\n",
       "      <th>subcategory</th>\n",
       "      <td>buddhism</td>\n",
       "    </tr>\n",
       "  </tbody>\n",
       "</table>\n",
       "</div>"
      ],
      "text/plain": [
       "                                                                                                                                                                                                                                                                                                                                                                                                                                                                                                                                                                                                                                                                                                                                                                                                                                                                                                                                                                                                                                                                                                                                                                                                                                                                                                                                                                                                                                                                                                                                                                                                                                                                                                                                                                                                                                                                                                                                                                                                                                                                                                                                                                                                                                                                                                                                                                                                                                                                                                                                                                                                                                                                                                                                                                                                                                                                                                                                                                                                                                                                                                                                                                                                                                                          608246\n",
       "id                                                                                                                                                                                                                                                                                                                                                                                                                                                                                                                                                                                                                                                                                                                                                                                                                                                                                                                                                                                                                                                                                                                                                                                                                                                                                                                                                                                                                                                                                                                                                                                                                                                                                                                                                                                                                                                                                                                                                                                                                                                                                                                                                                                                                                                                                                                                                                                                                                                                                                                                                                                                                                                                                                                                                                                                                                                                                                                                                                                                                                                                                                                                                                                                                                                        8hrhzm\n",
       "subreddit                                                                                                                                                                                                                                                                                                                                                                                                                                                                                                                                                                                                                                                                                                                                                                                                                                                                                                                                                                                                                                                                                                                                                                                                                                                                                                                                                                                                                                                                                                                                                                                                                                                                                                                                                                                                                                                                                                                                                                                                                                                                                                                                                                                                                                                                                                                                                                                                                                                                                                                                                                                                                                                                                                                                                                                                                                                                                                                                                                                                                                                                                                                                                                                                                                                 Tulpas\n",
       "title                                                                                                                                                                                                                                                                                                                                                                                                                                                                                                                                                                                                                                                                                                                                                                                                                                                                                                                                                                                                                                                                                                                                                                                                                                                                                                                                                                                                                                                                                                                                                                                                                                                                                                                                                                                                                                                                                                                                                                                                                                                                                                                                                                                                                                                                                                                                                                                                                                                                                                                                                                                                                                                                                                                                                                                                                                                                                                                                                                                                                                                                                                                                                                                                                                I don't know where to start\n",
       "text         Ok, apologies for the title, and really anything I say here. I am well aware that there are probably so many posts out here like this on the internet, however, personally I am finding trouble finding those posts.<lb><lb>So, I've been thinking about creating a Tulpa for a while now. I've read a few guides on it too, and I really want to take up the commitment. I already know it will be challenging, and there will be downsides. I've read plenty of posts concerning that as well.<lb><lb>My issue is that I have no clue where to start.<lb>Like, where do I even begin?<lb><lb>Here are some of my problems<lb><lb>1.) Visualizing<lb>I've heard a lot of talk about visualizing your Tulpa. Some say it can even speed development of one, however, I simply have trouble with even visualizing anything. I'm like a dim bulb. I (kind of) work, but not really anything compared to a normal, fully functioning bulb.<lb><lb>I can visualize things, but to a certain extend. For example, I can visualize a picture of my sisters face if I try, however it usually seems really dark and desaturated for some reason, and if I focus on one certain part of the image, I cannot see anything else.<lb>Other times though, I just see completely nothing. Just black. That's it.<lb>I just find myself having a terrible time visualizing.<lb><lb>I've heard that it can become better over time, and that is cool. Does anyone in the community have any tips?<lb><lb>(Also, I've been hearing a lot of word going around about Aphantasia, and I am pretty sure that I don't have it. I have poor visualization, not none at all.)<lb><lb>2.) What to do..(?)<lb><lb>Like, how do you start even if you can visualize? Some people say to introduce yourself to them, and I've tried that, but I just really get confused about what to do next. I'll (kind of) speak in my head (if that is the correct term to it) and describe what I am doing, but it doesn't feel right.<lb><lb>(For example, if I am petting a cat, I'll describe petting a cat, and what a cat even is, stuff like that)<lb><lb>I just know I'm probably doing something wrong.<lb><lb><lb><lb>Does anyone have any tips on getting started?<lb><lb>Tulpas are really interesting, and I really want to try to get invested in it and make one, however I just think that I am doing something wrong...<lb><lb><lb><lb><lb><lb><lb>Also, here are some misc questions (that might have been answered hundreds of times before) if you feel like answering:<lb><lb>- Can you change your dreamscape (if you and your Tulpa agree too), like, if your dreamscape is a wooden house, could you change it to a castle, or is it permanent?<lb><lb>- Is there any guide that you recommend? If so, please tell me, it would be very helpful<lb><lb>- What is the most annoying thing your Tulpa has ever done or said to you? (for Host)<lb><lb>- What is the most annoying think your Host have ever done or said to you? (for Tulpa)<lb><lb>- How hard is it to make a Tulpa (in your experience)<lb><lb><lb><lb>*TLDR - I am totally confused on where to start, I also suck at visualizing, and any help on some overall direction would be really nice*\n",
       "category                                                                                                                                                                                                                                                                                                                                                                                                                                                                                                                                                                                                                                                                                                                                                                                                                                                                                                                                                                                                                                                                                                                                                                                                                                                                                                                                                                                                                                                                                                                                                                                                                                                                                                                                                                                                                                                                                                                                                                                                                                                                                                                                                                                                                                                                                                                                                                                                                                                                                                                                                                                                                                                                                                                                                                                                                                                                                                                                                                                                                                                                                                                                                                                                                                   religion/supernatural\n",
       "subcategory                                                                                                                                                                                                                                                                                                                                                                                                                                                                                                                                                                                                                                                                                                                                                                                                                                                                                                                                                                                                                                                                                                                                                                                                                                                                                                                                                                                                                                                                                                                                                                                                                                                                                                                                                                                                                                                                                                                                                                                                                                                                                                                                                                                                                                                                                                                                                                                                                                                                                                                                                                                                                                                                                                                                                                                                                                                                                                                                                                                                                                                                                                                                                                                                                                             buddhism"
      ]
     },
     "metadata": {},
     "output_type": "display_data"
    }
   ],
   "source": [
    "display(df.sample(1).T)"
   ]
  },
  {
   "cell_type": "code",
   "execution_count": 137,
   "id": "ad00d366-7902-4395-bf6b-aada2ec53543",
   "metadata": {},
   "outputs": [
    {
     "name": "stdout",
     "output_type": "stream",
     "text": [
      "<class 'pandas.core.frame.DataFrame'>\n",
      "Index: 20000 entries, 2 to 1012979\n",
      "Data columns (total 6 columns):\n",
      " #   Column       Non-Null Count  Dtype \n",
      "---  ------       --------------  ----- \n",
      " 0   id           20000 non-null  object\n",
      " 1   subreddit    20000 non-null  object\n",
      " 2   title        20000 non-null  object\n",
      " 3   text         20000 non-null  object\n",
      " 4   category     20000 non-null  object\n",
      " 5   subcategory  20000 non-null  object\n",
      "dtypes: object(6)\n",
      "memory usage: 1.1+ MB\n"
     ]
    }
   ],
   "source": [
    "## \"autos\" category 추출\n",
    "df = df[df['category']=='autos']\n",
    "df.info()"
   ]
  },
  {
   "cell_type": "markdown",
   "id": "dd95e134-b5d9-4ddb-a810-e1bb5cd72cd4",
   "metadata": {},
   "source": [
    "## sqlite3 : autos 데이터프레임 SQL DB로 저장하기\n",
    "- 피클은 파이썬에서만 사용할 수 있다.\n",
    "- 데이터프레임은 SQL의 이점을 이용할 수 있으므로, SQL Lite으로 저장한다.\n",
    "\n",
    "- - 아래는 df.to_sql 함수의 주요 파라미터들입니다. \n",
    "- 1. name: DataFrame을 쓸 SQL 테이블의 이름입니다.\n",
    "  2. con: SQLAlchemy 연결 객체입니다. 데이터베이스 연결 정보를 설정합니다.\n",
    "  3. schema: 테이블의 스키마 이름 (기본값은 None).\n",
    "  4. if_exists: 테이블이 이미 존재할 경우의 동작을 지정합니다. 옵션으로는 'fail' (기본값, 테이블이 이미 존재하면 실패), 'replace' (테이블을 덮어씀), 'append' (테이블에 추가)이 있습니다.\n",
    "  5. index: DataFrame의 인덱스를 데이터베이스 테이블의 인덱스로 사용할지 여부를 지정합니다 (기본값은 True).\n",
    "  6. index_label: 인덱스 열의 이름을 지정합니다.\n",
    "  7. chunksize: 한 번에 쓰는 레코드 수를 지정합니다.\n",
    "  8. dtype: 열의 데이터 유형을 지정합니다.\n",
    "  9. method: 데이터를 쓰는 방법을 지정합니다.방법을 지정합니다."
   ]
  },
  {
   "cell_type": "code",
   "execution_count": 138,
   "id": "30b22b08-4244-44e3-b5d8-3d1aa7ef827c",
   "metadata": {},
   "outputs": [
    {
     "data": {
      "text/plain": [
       "20000"
      ]
     },
     "execution_count": 138,
     "metadata": {},
     "output_type": "execute_result"
    }
   ],
   "source": [
    "## 저장\n",
    "import sqlite3\n",
    "save_dir=\"../output/\"\n",
    "db_name=\"reddit-selfposts.db\"\n",
    "con=sqlite3.connect(save_dir+db_name)\n",
    "df.to_sql(\"posts\", con, index=False, if_exists='replace')"
   ]
  },
  {
   "cell_type": "code",
   "execution_count": 139,
   "id": "e075e0d6-8929-4652-8da4-6463e44d8e96",
   "metadata": {},
   "outputs": [],
   "source": [
    "## 읽기\n",
    "save_dir=\"../output/\"\n",
    "db_name=\"reddit-selfposts.db\"\n",
    "con=sqlite3.connect(save_dir+db_name)\n",
    "df=pd.read_sql(\"select * from posts\", con)\n",
    "con.close()"
   ]
  },
  {
   "cell_type": "code",
   "execution_count": 140,
   "id": "3fcbb505-c72e-461c-857e-cb99f6426804",
   "metadata": {},
   "outputs": [
    {
     "data": {
      "text/html": [
       "<div>\n",
       "<style scoped>\n",
       "    .dataframe tbody tr th:only-of-type {\n",
       "        vertical-align: middle;\n",
       "    }\n",
       "\n",
       "    .dataframe tbody tr th {\n",
       "        vertical-align: top;\n",
       "    }\n",
       "\n",
       "    .dataframe thead th {\n",
       "        text-align: right;\n",
       "    }\n",
       "</style>\n",
       "<table border=\"1\" class=\"dataframe\">\n",
       "  <thead>\n",
       "    <tr style=\"text-align: right;\">\n",
       "      <th></th>\n",
       "      <th>id</th>\n",
       "      <th>subreddit</th>\n",
       "      <th>title</th>\n",
       "      <th>text</th>\n",
       "      <th>category</th>\n",
       "      <th>subcategory</th>\n",
       "    </tr>\n",
       "  </thead>\n",
       "  <tbody>\n",
       "    <tr>\n",
       "      <th>0</th>\n",
       "      <td>8f73s7</td>\n",
       "      <td>Harley</td>\n",
       "      <td>No Club Colors</td>\n",
       "      <td>Funny story. I went to college in Las Vegas. This was before I knew anything about motorcycling whatsoever. Me and some college buddies would always go out on the strip to the dance clubs. We always ended up at a bar called Hogs &amp;amp; Heifers. It's worth noting the females working there can outdrink ANYONE. Anyway, there was a sign on the front door that read 'No Club Colors'. So we lose our ties and blazers before heading there. Also we assumed bright colors like red, yellow, green etc were not allowed. So we would always bring an xtra t-shirt and pair of jeans. This went on for years! Looking back now on how naive we were, it's just hilarious. I was never able to walk out of that bar....had to crawl out! So much booze. &lt;lb&gt;&lt;lb&gt;Cheers. Ride safe, boys!</td>\n",
       "      <td>autos</td>\n",
       "      <td>harley davidson</td>\n",
       "    </tr>\n",
       "    <tr>\n",
       "      <th>1</th>\n",
       "      <td>5s0q8r</td>\n",
       "      <td>Mustang</td>\n",
       "      <td>Roush vs Shleby GT500</td>\n",
       "      <td>I am trying to determine which is faster, and I've seen the dealership video with the two racing(Roush won 2/3). But I was wondering if it was just because of the bigass supercharger in the Roush. &lt;lb&gt;&lt;lb&gt;&lt;lb&gt;Also I can't find the same specs on any two websites, what are some trustworthy sources for this kind of thing?</td>\n",
       "      <td>autos</td>\n",
       "      <td>ford</td>\n",
       "    </tr>\n",
       "    <tr>\n",
       "      <th>2</th>\n",
       "      <td>5z3405</td>\n",
       "      <td>Volkswagen</td>\n",
       "      <td>2001 Golf Wagon looking for some insight</td>\n",
       "      <td>Hello! &lt;lb&gt;&lt;lb&gt;Trying to find some information on replacing a 2001 Golf Wagon starter (gas).... mine's gone out and going to the dealership is quite out of the range right now. Nor is it in the biggest of rushes. &lt;lb&gt;&lt;lb&gt;I live in Japan, and I'm wondering if anyone had any international shipping websites they could recommend and if they had any direction on how to replace it as manuals are oh-so-specific (and not to mention, in Japanese). TIA</td>\n",
       "      <td>autos</td>\n",
       "      <td>VW</td>\n",
       "    </tr>\n",
       "    <tr>\n",
       "      <th>3</th>\n",
       "      <td>7df18v</td>\n",
       "      <td>Lexus</td>\n",
       "      <td>IS 250 Coolant Flush/Change</td>\n",
       "      <td>https://www.cars.com/articles/how-often-should-i-change-engine-coolant-1420680853669/&lt;lb&gt;&lt;lb&gt;I have a IS 250 AWD from 2006. About 73K miles on it. I've never touched the engine radiator coolant and can't find anything on when to change this in the book. It just says 'long life 100k Toyota coolant.' &lt;lb&gt;&lt;lb&gt;Does anyone get this flushed or changed at ten years?? Do I wait until 100k?</td>\n",
       "      <td>autos</td>\n",
       "      <td>lexus</td>\n",
       "    </tr>\n",
       "    <tr>\n",
       "      <th>4</th>\n",
       "      <td>5tpve8</td>\n",
       "      <td>volt</td>\n",
       "      <td>Gen1 mpg w/ dead battery?</td>\n",
       "      <td>Hi, new to this subreddit.  I'm considering buying a Gen1 Volt, but I can't find any straight answers as to what kind of mpg it gets after the battery is completely dead (say I take a 300 mile trip).  What kind of highway mpg does the Gen1 volt get after the battery is depleted?</td>\n",
       "      <td>autos</td>\n",
       "      <td>chevrolet</td>\n",
       "    </tr>\n",
       "    <tr>\n",
       "      <th>...</th>\n",
       "      <td>...</td>\n",
       "      <td>...</td>\n",
       "      <td>...</td>\n",
       "      <td>...</td>\n",
       "      <td>...</td>\n",
       "      <td>...</td>\n",
       "    </tr>\n",
       "    <tr>\n",
       "      <th>19995</th>\n",
       "      <td>7i2k6y</td>\n",
       "      <td>4Runner</td>\n",
       "      <td>Bilstein Shocks</td>\n",
       "      <td>I read a lot Forums and people recommend getting TUNDRA Bilstein Shocks for a 3rd gen 4 runner, what is the difference? and why do they recommend that? I bought Springs tundra Springs for the front and 1997 landcruiser springs fro the rear now I just need shocks. &lt;lb&gt;Thank you</td>\n",
       "      <td>autos</td>\n",
       "      <td>toyota</td>\n",
       "    </tr>\n",
       "    <tr>\n",
       "      <th>19996</th>\n",
       "      <td>83p2kv</td>\n",
       "      <td>Harley</td>\n",
       "      <td>Question on potential purchase of crashed bike.</td>\n",
       "      <td>I am thinking about  buying a 2010 Harley Sportster 1200 custom for $6k with 7k miles. It has Vance radius pipes, t bars, screaming eagle filters, sissy bar, new seat and either a new tank or a new paint job as it does not say Harley Davidson on the tank anywhere but has pin stripes.. the title it’s clean but it just seems to good to be true and the sales man has no record of it being in a accident or not. The Title has been transferred to 5 different owners (can not see prices) I really want this bike but I’m skeptical. Any ideas or tips to look for?</td>\n",
       "      <td>autos</td>\n",
       "      <td>harley davidson</td>\n",
       "    </tr>\n",
       "    <tr>\n",
       "      <th>19997</th>\n",
       "      <td>7x722h</td>\n",
       "      <td>volt</td>\n",
       "      <td>Got our first warning light on our dash</td>\n",
       "      <td>My husband and I were headed somewhere and I was cold. So, I figured I could turn the car on before he unplugged it. When it turned on it was fine. Then he got into the drivers seat ten seconds later and we got a \"check charging system\" any suggestions? I figure I messed it up by turning it on before unplugging it *facepalm*</td>\n",
       "      <td>autos</td>\n",
       "      <td>chevrolet</td>\n",
       "    </tr>\n",
       "    <tr>\n",
       "      <th>19998</th>\n",
       "      <td>7v2xmg</td>\n",
       "      <td>Lexus</td>\n",
       "      <td>Any IS models to avoid?</td>\n",
       "      <td>I am looking at getting a used Lexus IS (2014 model year and newer). Are there any trim levels that I should avoid? Thinking about getting a 250, however, I might spend a little bit more and get a 350 if there is a significant performance increase, but I wanted to know if there is anything I should know about the lineup before I pull the trigger. I am really liking the white exterior and red interior combo.</td>\n",
       "      <td>autos</td>\n",
       "      <td>lexus</td>\n",
       "    </tr>\n",
       "    <tr>\n",
       "      <th>19999</th>\n",
       "      <td>8dxx3b</td>\n",
       "      <td>mercedes_benz</td>\n",
       "      <td>Advice please. Looking at a 2011 E550 with 71K miles. Good car?</td>\n",
       "      <td>Looking for some help. I've never owned any luxury car. Especially not a Mercedes. My husband's old commander in the Air Force is leaving the area and offering us his E550 for $15K. &lt;lb&gt;&lt;lb&gt;Seems like a good price but I have no idea about a German car as all I've ever owned are cars less than $25K new. It's loaded with every feature but NOT a 4Matic or AMG. We're test driving it tomorrow. Should we get it inspected? Anyone else own this or a similar model? Thanks!&lt;lb&gt;&lt;lb&gt;I drive for Uber p/t so might be using it for that too.</td>\n",
       "      <td>autos</td>\n",
       "      <td>mercedes</td>\n",
       "    </tr>\n",
       "  </tbody>\n",
       "</table>\n",
       "<p>20000 rows × 6 columns</p>\n",
       "</div>"
      ],
      "text/plain": [
       "           id      subreddit  \\\n",
       "0      8f73s7         Harley   \n",
       "1      5s0q8r        Mustang   \n",
       "2      5z3405     Volkswagen   \n",
       "3      7df18v          Lexus   \n",
       "4      5tpve8           volt   \n",
       "...       ...            ...   \n",
       "19995  7i2k6y        4Runner   \n",
       "19996  83p2kv         Harley   \n",
       "19997  7x722h           volt   \n",
       "19998  7v2xmg          Lexus   \n",
       "19999  8dxx3b  mercedes_benz   \n",
       "\n",
       "                                                                 title  \\\n",
       "0                                                       No Club Colors   \n",
       "1                                                Roush vs Shleby GT500   \n",
       "2                             2001 Golf Wagon looking for some insight   \n",
       "3                                          IS 250 Coolant Flush/Change   \n",
       "4                                            Gen1 mpg w/ dead battery?   \n",
       "...                                                                ...   \n",
       "19995                                                  Bilstein Shocks   \n",
       "19996                  Question on potential purchase of crashed bike.   \n",
       "19997                          Got our first warning light on our dash   \n",
       "19998                                          Any IS models to avoid?   \n",
       "19999  Advice please. Looking at a 2011 E550 with 71K miles. Good car?   \n",
       "\n",
       "                                                                                                                                                                                                                                                                                                                                                                                                                                                                                                                                                                                                                                                                                                                                                                                               text  \\\n",
       "0      Funny story. I went to college in Las Vegas. This was before I knew anything about motorcycling whatsoever. Me and some college buddies would always go out on the strip to the dance clubs. We always ended up at a bar called Hogs &amp; Heifers. It's worth noting the females working there can outdrink ANYONE. Anyway, there was a sign on the front door that read 'No Club Colors'. So we lose our ties and blazers before heading there. Also we assumed bright colors like red, yellow, green etc were not allowed. So we would always bring an xtra t-shirt and pair of jeans. This went on for years! Looking back now on how naive we were, it's just hilarious. I was never able to walk out of that bar....had to crawl out! So much booze. <lb><lb>Cheers. Ride safe, boys!    \n",
       "1                                                                                                                                                                                                                                                                                                                                                                                                                                                                  I am trying to determine which is faster, and I've seen the dealership video with the two racing(Roush won 2/3). But I was wondering if it was just because of the bigass supercharger in the Roush. <lb><lb><lb>Also I can't find the same specs on any two websites, what are some trustworthy sources for this kind of thing?   \n",
       "2                                                                                                                                                                                                                                                                                                                                    Hello! <lb><lb>Trying to find some information on replacing a 2001 Golf Wagon starter (gas).... mine's gone out and going to the dealership is quite out of the range right now. Nor is it in the biggest of rushes. <lb><lb>I live in Japan, and I'm wondering if anyone had any international shipping websites they could recommend and if they had any direction on how to replace it as manuals are oh-so-specific (and not to mention, in Japanese). TIA   \n",
       "3                                                                                                                                                                                                                                                                                                                                                                                                 https://www.cars.com/articles/how-often-should-i-change-engine-coolant-1420680853669/<lb><lb>I have a IS 250 AWD from 2006. About 73K miles on it. I've never touched the engine radiator coolant and can't find anything on when to change this in the book. It just says 'long life 100k Toyota coolant.' <lb><lb>Does anyone get this flushed or changed at ten years?? Do I wait until 100k?    \n",
       "4                                                                                                                                                                                                                                                                                                                                                                                                                                                                                                          Hi, new to this subreddit.  I'm considering buying a Gen1 Volt, but I can't find any straight answers as to what kind of mpg it gets after the battery is completely dead (say I take a 300 mile trip).  What kind of highway mpg does the Gen1 volt get after the battery is depleted?    \n",
       "...                                                                                                                                                                                                                                                                                                                                                                                                                                                                                                                                                                                                                                                                                                                                                                                             ...   \n",
       "19995                                                                                                                                                                                                                                                                                                                                                                                                                                                                                                         I read a lot Forums and people recommend getting TUNDRA Bilstein Shocks for a 3rd gen 4 runner, what is the difference? and why do they recommend that? I bought Springs tundra Springs for the front and 1997 landcruiser springs fro the rear now I just need shocks. <lb>Thank you   \n",
       "19996                                                                                                                                                                                                                 I am thinking about  buying a 2010 Harley Sportster 1200 custom for $6k with 7k miles. It has Vance radius pipes, t bars, screaming eagle filters, sissy bar, new seat and either a new tank or a new paint job as it does not say Harley Davidson on the tank anywhere but has pin stripes.. the title it’s clean but it just seems to good to be true and the sales man has no record of it being in a accident or not. The Title has been transferred to 5 different owners (can not see prices) I really want this bike but I’m skeptical. Any ideas or tips to look for?   \n",
       "19997                                                                                                                                                                                                                                                                                                                                                                                                                                                        My husband and I were headed somewhere and I was cold. So, I figured I could turn the car on before he unplugged it. When it turned on it was fine. Then he got into the drivers seat ten seconds later and we got a \"check charging system\" any suggestions? I figure I messed it up by turning it on before unplugging it *facepalm*   \n",
       "19998                                                                                                                                                                                                                                                                                                                                                                    I am looking at getting a used Lexus IS (2014 model year and newer). Are there any trim levels that I should avoid? Thinking about getting a 250, however, I might spend a little bit more and get a 350 if there is a significant performance increase, but I wanted to know if there is anything I should know about the lineup before I pull the trigger. I am really liking the white exterior and red interior combo.   \n",
       "19999                                                                                                                                                                                                                                           Looking for some help. I've never owned any luxury car. Especially not a Mercedes. My husband's old commander in the Air Force is leaving the area and offering us his E550 for $15K. <lb><lb>Seems like a good price but I have no idea about a German car as all I've ever owned are cars less than $25K new. It's loaded with every feature but NOT a 4Matic or AMG. We're test driving it tomorrow. Should we get it inspected? Anyone else own this or a similar model? Thanks!<lb><lb>I drive for Uber p/t so might be using it for that too.   \n",
       "\n",
       "      category      subcategory  \n",
       "0        autos  harley davidson  \n",
       "1        autos             ford  \n",
       "2        autos               VW  \n",
       "3        autos            lexus  \n",
       "4        autos        chevrolet  \n",
       "...        ...              ...  \n",
       "19995    autos           toyota  \n",
       "19996    autos  harley davidson  \n",
       "19997    autos        chevrolet  \n",
       "19998    autos            lexus  \n",
       "19999    autos         mercedes  \n",
       "\n",
       "[20000 rows x 6 columns]"
      ]
     },
     "execution_count": 140,
     "metadata": {},
     "output_type": "execute_result"
    }
   ],
   "source": [
    "df"
   ]
  },
  {
   "cell_type": "markdown",
   "id": "fe959fc0-aea1-4526-8390-e723189b03d6",
   "metadata": {},
   "source": [
    "# 4.4 텍스트 데이터 정리"
   ]
  },
  {
   "cell_type": "markdown",
   "id": "6c6e65b4-0814-422d-85fd-ad5d18994699",
   "metadata": {},
   "source": [
    "## 정규표현식: 노이즈 식별 - impurity 함수"
   ]
  },
  {
   "cell_type": "code",
   "execution_count": 141,
   "id": "3f97bb90-18ad-415a-8b0d-8428d3ca5ad6",
   "metadata": {},
   "outputs": [],
   "source": [
    "text=\"\"\"\n",
    "I am looking at getting a used Lexus IS (2014 model year and newer). \n",
    "Are there any trim levels that I should avoid? \n",
    "Thinking about getting a 250, however, I might spend a little bit more and get a 350 if there is a significant performance increase, \n",
    "but I wanted to know if there is anything I should know about the lineup before I pull the trigger. \n",
    "I am really liking the white exterior and red interior combo.\n",
    "\"\"\""
   ]
  },
  {
   "cell_type": "code",
   "execution_count": 142,
   "id": "cb5fd258-bb6f-42a7-912c-c82f4c9bc7f2",
   "metadata": {},
   "outputs": [
    {
     "name": "stdout",
     "output_type": "stream",
     "text": [
      "0.0\n"
     ]
    }
   ],
   "source": [
    "import re\n",
    "RE_SUSPICIOUS =re.compile(r'[&#<>{}\\[\\]\\\\]')\n",
    "\n",
    "def impurity(text, min_len=10):\n",
    "    \"\"\"텍스트에서 의심스러운 문자의 비율을 반환한다.\"\"\"\n",
    "    if text == None or len(text) < min_len:\n",
    "        return 0\n",
    "    else: \n",
    "        return len(RE_SUSPICIOUS.findall(text))/len(text)\n",
    "\n",
    "print(impurity(text))"
   ]
  },
  {
   "cell_type": "code",
   "execution_count": 143,
   "id": "6f69f3ad-99b4-4aa9-a0cd-618f0f4c4f36",
   "metadata": {},
   "outputs": [
    {
     "name": "stdout",
     "output_type": "stream",
     "text": [
      "0.08968609865470852\n"
     ]
    }
   ],
   "source": [
    "text=\"\"\"\n",
    "After viewing the [PINKIEPOOL Trailer](https://www.youtube.com/watch?v=ieRouHUg) it got me thinking about the best match ups. <lb> Here's my take: <lb><lb>[](/ppseesyou) Deadpool<lb>[](\\sp)[](/ajsly) Captain America <\\lb>\n",
    "\"\"\"\n",
    "print(impurity(text))"
   ]
  },
  {
   "cell_type": "code",
   "execution_count": 144,
   "id": "89efe735-e9a2-4e0e-b117-a3f6b0088ac1",
   "metadata": {},
   "outputs": [
    {
     "data": {
      "text/html": [
       "<div>\n",
       "<style scoped>\n",
       "    .dataframe tbody tr th:only-of-type {\n",
       "        vertical-align: middle;\n",
       "    }\n",
       "\n",
       "    .dataframe tbody tr th {\n",
       "        vertical-align: top;\n",
       "    }\n",
       "\n",
       "    .dataframe thead th {\n",
       "        text-align: right;\n",
       "    }\n",
       "</style>\n",
       "<table border=\"1\" class=\"dataframe\">\n",
       "  <thead>\n",
       "    <tr style=\"text-align: right;\">\n",
       "      <th></th>\n",
       "      <th>text</th>\n",
       "      <th>impurity</th>\n",
       "    </tr>\n",
       "  </thead>\n",
       "  <tbody>\n",
       "    <tr>\n",
       "      <th>19682</th>\n",
       "      <td>Looking at buying a 335i with 39k miles and 11 months left on the CPO warranty. I asked the deal...</td>\n",
       "      <td>0.214716</td>\n",
       "    </tr>\n",
       "    <tr>\n",
       "      <th>12357</th>\n",
       "      <td>I'm looking to lease an a4 premium plus automatic with the nav package.&lt;lb&gt;&lt;lb&gt;Vehicle Price:&lt;ta...</td>\n",
       "      <td>0.165099</td>\n",
       "    </tr>\n",
       "    <tr>\n",
       "      <th>2730</th>\n",
       "      <td>Breakdown below:&lt;lb&gt;&lt;lb&gt;Elantra GT&lt;lb&gt;&lt;lb&gt;2.0L 4-cylinder&lt;lb&gt;&lt;lb&gt;6-speed Manual Transmission&lt;lb&gt;...</td>\n",
       "      <td>0.139130</td>\n",
       "    </tr>\n",
       "  </tbody>\n",
       "</table>\n",
       "</div>"
      ],
      "text/plain": [
       "                                                                                                      text  \\\n",
       "19682  Looking at buying a 335i with 39k miles and 11 months left on the CPO warranty. I asked the deal...   \n",
       "12357  I'm looking to lease an a4 premium plus automatic with the nav package.<lb><lb>Vehicle Price:<ta...   \n",
       "2730   Breakdown below:<lb><lb>Elantra GT<lb><lb>2.0L 4-cylinder<lb><lb>6-speed Manual Transmission<lb>...   \n",
       "\n",
       "       impurity  \n",
       "19682  0.214716  \n",
       "12357  0.165099  \n",
       "2730   0.139130  "
      ]
     },
     "execution_count": 144,
     "metadata": {},
     "output_type": "execute_result"
    }
   ],
   "source": [
    "# 데이터프레임에 새로운 컬럼 추가\n",
    "df['impurity']= df['text'].apply(impurity, min_len=10)\n",
    "\n",
    "# 상위 3개 레코드 확인\n",
    "pd.set_option('display.max_colwidth', 100)\n",
    "df[['text','impurity']].sort_values(by='impurity', ascending=False).head(3)"
   ]
  },
  {
   "cell_type": "code",
   "execution_count": 145,
   "id": "b6a6e9eb-3dc2-4cd4-8073-1be431e9eca9",
   "metadata": {},
   "outputs": [
    {
     "ename": "ModuleNotFoundError",
     "evalue": "No module named 'blueprints'",
     "output_type": "error",
     "traceback": [
      "\u001b[1;31m---------------------------------------------------------------------------\u001b[0m",
      "\u001b[1;31mModuleNotFoundError\u001b[0m                       Traceback (most recent call last)",
      "Cell \u001b[1;32mIn[145], line 5\u001b[0m\n\u001b[0;32m      1\u001b[0m \u001b[38;5;66;03m# from blueprints.exploration import count_words\u001b[39;00m\n\u001b[0;32m      2\u001b[0m \u001b[38;5;66;03m# count_words(df, column='text', preprocess= lambda t: re.findall(r'<[\\w/]*>',t))\u001b[39;00m\n\u001b[0;32m      3\u001b[0m \u001b[38;5;66;03m## 블루프린트 없음..\u001b[39;00m\n\u001b[1;32m----> 5\u001b[0m \u001b[38;5;28;01mfrom\u001b[39;00m \u001b[38;5;21;01mblueprints\u001b[39;00m\u001b[38;5;21;01m.\u001b[39;00m\u001b[38;5;21;01mexploration\u001b[39;00m \u001b[38;5;28;01mimport\u001b[39;00m count_words\n\u001b[0;32m      6\u001b[0m count_words(df, column\u001b[38;5;241m=\u001b[39m\u001b[38;5;124m'\u001b[39m\u001b[38;5;124mtext\u001b[39m\u001b[38;5;124m'\u001b[39m, preprocess\u001b[38;5;241m=\u001b[39m\u001b[38;5;28;01mlambda\u001b[39;00m t: re\u001b[38;5;241m.\u001b[39mfindall(\u001b[38;5;124mr\u001b[39m\u001b[38;5;124m'\u001b[39m\u001b[38;5;124m<[\u001b[39m\u001b[38;5;124m\\\u001b[39m\u001b[38;5;124mw/]*>\u001b[39m\u001b[38;5;124m'\u001b[39m, t))\n",
      "\u001b[1;31mModuleNotFoundError\u001b[0m: No module named 'blueprints'"
     ]
    }
   ],
   "source": [
    "# from blueprints.exploration import count_words\n",
    "# count_words(df, column='text', preprocess= lambda t: re.findall(r'<[\\w/]*>',t))\n",
    "## 블루프린트 없음..\n",
    "\n",
    "from blueprints.exploration import count_words\n",
    "count_words(df, column='text', preprocess=lambda t: re.findall(r'<[\\w/]*>', t))"
   ]
  },
  {
   "cell_type": "code",
   "execution_count": 146,
   "id": "8d87e434-a0dd-4515-9364-efc9c745ac2a",
   "metadata": {},
   "outputs": [
    {
     "name": "stdout",
     "output_type": "stream",
     "text": [
      "{'<tab>', '<lb>'}\n"
     ]
    }
   ],
   "source": [
    "impurity_set=set()\n",
    "for l in df['text'].apply(lambda t: re.findall(r'<[\\w/]*>',t)).values:\n",
    "    impurity_set|=set(l)\n",
    "print(impurity_set)"
   ]
  },
  {
   "cell_type": "markdown",
   "id": "67f46bb2-ae80-4871-b60a-60f4b8aa269e",
   "metadata": {},
   "source": [
    "## 정규표현식: 노이즈 제거 - clean함수"
   ]
  },
  {
   "cell_type": "code",
   "execution_count": 147,
   "id": "89a6348b-3187-4818-8a83-0d13bd6b48b3",
   "metadata": {},
   "outputs": [
    {
     "name": "stdout",
     "output_type": "stream",
     "text": [
      "After viewing the PINKIEPOOL Trailer it got me thinking about the best match ups. Here's my take: Deadpool Captain America\n",
      "0.0\n"
     ]
    }
   ],
   "source": [
    "import html\n",
    "\n",
    "def clean(text):\n",
    "    # &amp;와 같은 html 이스케이프를 문자로 변환한다.\n",
    "    text=html.unescape(text)\n",
    "    # print(text)\n",
    "    # <tab>, <lb>과 같은 태그를 공백으로 변환한다.\n",
    "    text=re.sub('<[^<>&]*>', ' ', text)\n",
    "    # print(text)\n",
    "    # [Some text](https://....)과 같은 마크다운 URL을 공백으로 변환한다.\n",
    "    # text=re.sub(r'\\[([^\\[\\]]*)\\]([^\\(\\)]*\\)', r'\\1', text)\n",
    "    text = re.sub('\\[([^\\[\\]]*)\\]\\([^\\(\\)]*\\)', r'\\1', text)\n",
    "    # print(text)\n",
    "    # [0]과 같은 괄호안의 텍스트 또는 코드를 공백으로 변환한다.\n",
    "    text=re.sub(r'\\[[^\\[\\]]*\\]', ' ', text)\n",
    "    # print(text)\n",
    "    # 특수 문자로만 구성된 문자열을 공백으로 변환한다. 이때 &#은 변환되지만 #cool은 변환되지 않는다.\n",
    "    text=re.sub(r'(?:^|\\s)[&#<>{}\\[\\]+|\\\\:-]{1,}(?:\\s|$)', ' ', text)\n",
    "    # print(text)\n",
    "    # --- 또는 == 같은 하이픈으로 이뤄진 문자열을 공백으로 변환한다.\n",
    "    text=re.sub(r'(?:^|\\s)[\\-=\\+]{2,}(?:\\s|$)', ' ', text)\n",
    "    # print(text)\n",
    "    # 연속된 공백을 공백 하나로 변환한다.\n",
    "    text=re.sub('\\s+', ' ', text)\n",
    "\n",
    "    return text.strip()\n",
    "    \n",
    "clean_text=clean(text)\n",
    "print(clean_text)\n",
    "print(impurity(clean_text))"
   ]
  },
  {
   "cell_type": "code",
   "execution_count": 148,
   "id": "37f2038b-80aa-4cdb-b4a8-4250c5f21594",
   "metadata": {},
   "outputs": [
    {
     "data": {
      "text/html": [
       "<div>\n",
       "<style scoped>\n",
       "    .dataframe tbody tr th:only-of-type {\n",
       "        vertical-align: middle;\n",
       "    }\n",
       "\n",
       "    .dataframe tbody tr th {\n",
       "        vertical-align: top;\n",
       "    }\n",
       "\n",
       "    .dataframe thead th {\n",
       "        text-align: right;\n",
       "    }\n",
       "</style>\n",
       "<table border=\"1\" class=\"dataframe\">\n",
       "  <thead>\n",
       "    <tr style=\"text-align: right;\">\n",
       "      <th></th>\n",
       "      <th>clean_text</th>\n",
       "      <th>impurity</th>\n",
       "    </tr>\n",
       "  </thead>\n",
       "  <tbody>\n",
       "    <tr>\n",
       "      <th>14058</th>\n",
       "      <td>Mustang 2018, 2019, or 2020? Must Haves!! 1. Have a Credit score of 780\\+ for the best low inter...</td>\n",
       "      <td>0.030864</td>\n",
       "    </tr>\n",
       "    <tr>\n",
       "      <th>18934</th>\n",
       "      <td>At the dealership, they offered an option for foot-well illumination, but I cannot find any refe...</td>\n",
       "      <td>0.026455</td>\n",
       "    </tr>\n",
       "    <tr>\n",
       "      <th>16505</th>\n",
       "      <td>I am looking at four Caymans, all are in a similar price range. The major differences are the mi...</td>\n",
       "      <td>0.024631</td>\n",
       "    </tr>\n",
       "  </tbody>\n",
       "</table>\n",
       "</div>"
      ],
      "text/plain": [
       "                                                                                                clean_text  \\\n",
       "14058  Mustang 2018, 2019, or 2020? Must Haves!! 1. Have a Credit score of 780\\+ for the best low inter...   \n",
       "18934  At the dealership, they offered an option for foot-well illumination, but I cannot find any refe...   \n",
       "16505  I am looking at four Caymans, all are in a similar price range. The major differences are the mi...   \n",
       "\n",
       "       impurity  \n",
       "14058  0.030864  \n",
       "18934  0.026455  \n",
       "16505  0.024631  "
      ]
     },
     "execution_count": 148,
     "metadata": {},
     "output_type": "execute_result"
    }
   ],
   "source": [
    "df['clean_text']=df['text'].map(clean)\n",
    "df['impurity']=df['clean_text'].map(impurity)\n",
    "df[['clean_text','impurity']].sort_values(by='impurity', ascending=False).head(3)"
   ]
  },
  {
   "cell_type": "markdown",
   "id": "92ed8f8c-6ae1-4092-87d9-fb011e24ac5c",
   "metadata": {},
   "source": [
    "## textacy: 문자 정규화 - normalize, replace, remove\n",
    "- 텍스트 전처리(정규화)에 특화된 라이브러리\n",
    "- 함수\n",
    "- - 1) normalize.hyphenated_words: 줄바꿈으로 구분된 단어를 다시 조합한다.\n",
    "    2) normalize.quotation_marks: 모든 종류의 따옴표를 아스키 코드에 해당하는 곧은 따옴표로 대체한다.\n",
    "    3) normalize.unicode: 유니코드에서 악센트가 있는 문자를 다른 코드로 변경한다.\n",
    "    4) normalize.accents: 가능한 경우 악센트가 있는 문자를 ASCII로 바꾸거나 삭제한다.\n",
    "    5) replace.urls: https://xyz.com과 같은 URL을 _URL_로 대체한다.\n",
    "    6) replace.emails: 이메일을 _EMAILS_로 대체한다.\n",
    "    7) replace.hashtags: #sunshine과 같은 해시태그를 _TAG_로 대체한다.\n",
    "    8) replace.numbers: 12345와 같은 숫자 패턴을 _NUMBER_로 대체한다.\n",
    "    9) replace.phon_numbers: 전화번호 패턴을 _PHONE_으로 대체한다.\n",
    "    10) replace.user_handles: @peter와 같은 사용자명을 _USER_로 대체한다.\n",
    "    11) replace.emojis: 스마일리와 같은 이모지를 _EMOJI_로 대체한다.\n",
    "- https://textacy.readthedocs.io/en/latest/"
   ]
  },
  {
   "cell_type": "code",
   "execution_count": 149,
   "id": "1dadd5fb-6e06-47cc-9e85-982364370d4c",
   "metadata": {},
   "outputs": [],
   "source": [
    "import textacy.preprocessing as tprep\n",
    "\n",
    "def normalize(text):\n",
    "    text=tprep.normalize.hyphenated_words(text)\n",
    "    text=tprep.normalize.quotation_marks(text)\n",
    "    text=tprep.normalize.unicode(text)\n",
    "    text=tprep.remove.accents(text)\n",
    "\n",
    "    return(text)\n"
   ]
  },
  {
   "cell_type": "code",
   "execution_count": 150,
   "id": "30a6e6c8-f550-4662-b827-b72daacb525a",
   "metadata": {},
   "outputs": [
    {
     "name": "stdout",
     "output_type": "stream",
     "text": [
      "The cafe \"Saint-Raphael\" is located on Cote d'Azur.\n"
     ]
    }
   ],
   "source": [
    "text=\"The café “Saint-Raphaël” is loca-\\nted on Côte dʼAzur.\"\n",
    "print(normalize(text))"
   ]
  },
  {
   "cell_type": "markdown",
   "id": "842cb36b-6a9d-465f-94c7-ca4b2956ccb1",
   "metadata": {},
   "source": [
    "## textacy: 데이터 마스킹 - resources"
   ]
  },
  {
   "cell_type": "code",
   "execution_count": 151,
   "id": "50087d45-bec4-4989-98e4-1f116986c6ea",
   "metadata": {
    "scrolled": true
   },
   "outputs": [
    {
     "name": "stdout",
     "output_type": "stream",
     "text": [
      "['https://www.nrdc.org/experts/luke-tonachel/new-york-state-enacts-electric-vehicle-consumer-rebate-program', 'https://www.nysenate.gov/legislation', 'http://www.vectoroffroad.com/jke-dock-2007-2010-p-28.html!,', 'http://www.morris4x4center.com/rugged-ridge-cb-radio-dash-mounting-bracket-13551-09.html!', 'https://www.thingiverse.com/thing:912478']\n",
      "1152\n"
     ]
    }
   ],
   "source": [
    "from textacy.preprocessing.resources import RE_URL\n",
    "\n",
    "# df['clean_text'].apply(lambda x: RE_URL.findall(x))\n",
    "urls=df['clean_text'].map(RE_URL.findall).values\n",
    "urls_list=[]\n",
    "for u in urls.tolist():\n",
    "    if len(u)>1:\n",
    "        urls_list.extend(u)\n",
    "print(urls_list[:5])\n",
    "print(len(urls_list))\n",
    "\n"
   ]
  },
  {
   "cell_type": "code",
   "execution_count": 152,
   "id": "5f9e3060-079f-46b1-b7fb-56fd08284449",
   "metadata": {},
   "outputs": [
    {
     "name": "stdout",
     "output_type": "stream",
     "text": [
      "check this url change http://i.imgur.com/lcr0MZW.jpg\n",
      "check this url change _URL_\n"
     ]
    }
   ],
   "source": [
    "text=\"check this url change \"+urls_list[101]\n",
    "print(text)\n",
    "\n",
    "print(tprep.replace.urls(text))"
   ]
  },
  {
   "cell_type": "code",
   "execution_count": 153,
   "id": "9b743b18-022a-4bc4-a743-da91d6935fab",
   "metadata": {},
   "outputs": [],
   "source": [
    "df.rename(columns={'text':'raw_text', 'clean_text':'text'}, inplace=True)\n",
    "df.drop(columns=['impurity'], inplace=True)"
   ]
  },
  {
   "cell_type": "code",
   "execution_count": 154,
   "id": "9665f6c5-33a8-4474-9eea-8f468bfb98b4",
   "metadata": {},
   "outputs": [],
   "source": [
    "con=sqlite3.connect(save_dir+db_name)\n",
    "df.to_sql(\"posts_cleaned\", con, index=False, if_exists=\"replace\")\n",
    "con.close()"
   ]
  },
  {
   "cell_type": "code",
   "execution_count": 155,
   "id": "17428ce9-c18e-43ed-8e7c-681d61fd7236",
   "metadata": {},
   "outputs": [
    {
     "data": {
      "text/html": [
       "<div>\n",
       "<style scoped>\n",
       "    .dataframe tbody tr th:only-of-type {\n",
       "        vertical-align: middle;\n",
       "    }\n",
       "\n",
       "    .dataframe tbody tr th {\n",
       "        vertical-align: top;\n",
       "    }\n",
       "\n",
       "    .dataframe thead th {\n",
       "        text-align: right;\n",
       "    }\n",
       "</style>\n",
       "<table border=\"1\" class=\"dataframe\">\n",
       "  <thead>\n",
       "    <tr style=\"text-align: right;\">\n",
       "      <th></th>\n",
       "      <th>id</th>\n",
       "      <th>subreddit</th>\n",
       "      <th>title</th>\n",
       "      <th>raw_text</th>\n",
       "      <th>category</th>\n",
       "      <th>subcategory</th>\n",
       "      <th>text</th>\n",
       "    </tr>\n",
       "  </thead>\n",
       "  <tbody>\n",
       "    <tr>\n",
       "      <th>0</th>\n",
       "      <td>8f73s7</td>\n",
       "      <td>Harley</td>\n",
       "      <td>No Club Colors</td>\n",
       "      <td>Funny story. I went to college in Las Vegas. This was before I knew anything about motorcycling ...</td>\n",
       "      <td>autos</td>\n",
       "      <td>harley davidson</td>\n",
       "      <td>Funny story. I went to college in Las Vegas. This was before I knew anything about motorcycling ...</td>\n",
       "    </tr>\n",
       "    <tr>\n",
       "      <th>1</th>\n",
       "      <td>5s0q8r</td>\n",
       "      <td>Mustang</td>\n",
       "      <td>Roush vs Shleby GT500</td>\n",
       "      <td>I am trying to determine which is faster, and I've seen the dealership video with the two racing...</td>\n",
       "      <td>autos</td>\n",
       "      <td>ford</td>\n",
       "      <td>I am trying to determine which is faster, and I've seen the dealership video with the two racing...</td>\n",
       "    </tr>\n",
       "    <tr>\n",
       "      <th>2</th>\n",
       "      <td>5z3405</td>\n",
       "      <td>Volkswagen</td>\n",
       "      <td>2001 Golf Wagon looking for some insight</td>\n",
       "      <td>Hello! &lt;lb&gt;&lt;lb&gt;Trying to find some information on replacing a 2001 Golf Wagon starter (gas).... ...</td>\n",
       "      <td>autos</td>\n",
       "      <td>VW</td>\n",
       "      <td>Hello! Trying to find some information on replacing a 2001 Golf Wagon starter (gas).... mine's g...</td>\n",
       "    </tr>\n",
       "    <tr>\n",
       "      <th>3</th>\n",
       "      <td>7df18v</td>\n",
       "      <td>Lexus</td>\n",
       "      <td>IS 250 Coolant Flush/Change</td>\n",
       "      <td>https://www.cars.com/articles/how-often-should-i-change-engine-coolant-1420680853669/&lt;lb&gt;&lt;lb&gt;I h...</td>\n",
       "      <td>autos</td>\n",
       "      <td>lexus</td>\n",
       "      <td>https://www.cars.com/articles/how-often-should-i-change-engine-coolant-1420680853669/ I have a I...</td>\n",
       "    </tr>\n",
       "    <tr>\n",
       "      <th>4</th>\n",
       "      <td>5tpve8</td>\n",
       "      <td>volt</td>\n",
       "      <td>Gen1 mpg w/ dead battery?</td>\n",
       "      <td>Hi, new to this subreddit.  I'm considering buying a Gen1 Volt, but I can't find any straight an...</td>\n",
       "      <td>autos</td>\n",
       "      <td>chevrolet</td>\n",
       "      <td>Hi, new to this subreddit. I'm considering buying a Gen1 Volt, but I can't find any straight ans...</td>\n",
       "    </tr>\n",
       "    <tr>\n",
       "      <th>...</th>\n",
       "      <td>...</td>\n",
       "      <td>...</td>\n",
       "      <td>...</td>\n",
       "      <td>...</td>\n",
       "      <td>...</td>\n",
       "      <td>...</td>\n",
       "      <td>...</td>\n",
       "    </tr>\n",
       "    <tr>\n",
       "      <th>19995</th>\n",
       "      <td>7i2k6y</td>\n",
       "      <td>4Runner</td>\n",
       "      <td>Bilstein Shocks</td>\n",
       "      <td>I read a lot Forums and people recommend getting TUNDRA Bilstein Shocks for a 3rd gen 4 runner, ...</td>\n",
       "      <td>autos</td>\n",
       "      <td>toyota</td>\n",
       "      <td>I read a lot Forums and people recommend getting TUNDRA Bilstein Shocks for a 3rd gen 4 runner, ...</td>\n",
       "    </tr>\n",
       "    <tr>\n",
       "      <th>19996</th>\n",
       "      <td>83p2kv</td>\n",
       "      <td>Harley</td>\n",
       "      <td>Question on potential purchase of crashed bike.</td>\n",
       "      <td>I am thinking about  buying a 2010 Harley Sportster 1200 custom for $6k with 7k miles. It has Va...</td>\n",
       "      <td>autos</td>\n",
       "      <td>harley davidson</td>\n",
       "      <td>I am thinking about buying a 2010 Harley Sportster 1200 custom for $6k with 7k miles. It has Van...</td>\n",
       "    </tr>\n",
       "    <tr>\n",
       "      <th>19997</th>\n",
       "      <td>7x722h</td>\n",
       "      <td>volt</td>\n",
       "      <td>Got our first warning light on our dash</td>\n",
       "      <td>My husband and I were headed somewhere and I was cold. So, I figured I could turn the car on bef...</td>\n",
       "      <td>autos</td>\n",
       "      <td>chevrolet</td>\n",
       "      <td>My husband and I were headed somewhere and I was cold. So, I figured I could turn the car on bef...</td>\n",
       "    </tr>\n",
       "    <tr>\n",
       "      <th>19998</th>\n",
       "      <td>7v2xmg</td>\n",
       "      <td>Lexus</td>\n",
       "      <td>Any IS models to avoid?</td>\n",
       "      <td>I am looking at getting a used Lexus IS (2014 model year and newer). Are there any trim levels t...</td>\n",
       "      <td>autos</td>\n",
       "      <td>lexus</td>\n",
       "      <td>I am looking at getting a used Lexus IS (2014 model year and newer). Are there any trim levels t...</td>\n",
       "    </tr>\n",
       "    <tr>\n",
       "      <th>19999</th>\n",
       "      <td>8dxx3b</td>\n",
       "      <td>mercedes_benz</td>\n",
       "      <td>Advice please. Looking at a 2011 E550 with 71K miles. Good car?</td>\n",
       "      <td>Looking for some help. I've never owned any luxury car. Especially not a Mercedes. My husband's ...</td>\n",
       "      <td>autos</td>\n",
       "      <td>mercedes</td>\n",
       "      <td>Looking for some help. I've never owned any luxury car. Especially not a Mercedes. My husband's ...</td>\n",
       "    </tr>\n",
       "  </tbody>\n",
       "</table>\n",
       "<p>20000 rows × 7 columns</p>\n",
       "</div>"
      ],
      "text/plain": [
       "           id      subreddit  \\\n",
       "0      8f73s7         Harley   \n",
       "1      5s0q8r        Mustang   \n",
       "2      5z3405     Volkswagen   \n",
       "3      7df18v          Lexus   \n",
       "4      5tpve8           volt   \n",
       "...       ...            ...   \n",
       "19995  7i2k6y        4Runner   \n",
       "19996  83p2kv         Harley   \n",
       "19997  7x722h           volt   \n",
       "19998  7v2xmg          Lexus   \n",
       "19999  8dxx3b  mercedes_benz   \n",
       "\n",
       "                                                                 title  \\\n",
       "0                                                       No Club Colors   \n",
       "1                                                Roush vs Shleby GT500   \n",
       "2                             2001 Golf Wagon looking for some insight   \n",
       "3                                          IS 250 Coolant Flush/Change   \n",
       "4                                            Gen1 mpg w/ dead battery?   \n",
       "...                                                                ...   \n",
       "19995                                                  Bilstein Shocks   \n",
       "19996                  Question on potential purchase of crashed bike.   \n",
       "19997                          Got our first warning light on our dash   \n",
       "19998                                          Any IS models to avoid?   \n",
       "19999  Advice please. Looking at a 2011 E550 with 71K miles. Good car?   \n",
       "\n",
       "                                                                                                  raw_text  \\\n",
       "0      Funny story. I went to college in Las Vegas. This was before I knew anything about motorcycling ...   \n",
       "1      I am trying to determine which is faster, and I've seen the dealership video with the two racing...   \n",
       "2      Hello! <lb><lb>Trying to find some information on replacing a 2001 Golf Wagon starter (gas).... ...   \n",
       "3      https://www.cars.com/articles/how-often-should-i-change-engine-coolant-1420680853669/<lb><lb>I h...   \n",
       "4      Hi, new to this subreddit.  I'm considering buying a Gen1 Volt, but I can't find any straight an...   \n",
       "...                                                                                                    ...   \n",
       "19995  I read a lot Forums and people recommend getting TUNDRA Bilstein Shocks for a 3rd gen 4 runner, ...   \n",
       "19996  I am thinking about  buying a 2010 Harley Sportster 1200 custom for $6k with 7k miles. It has Va...   \n",
       "19997  My husband and I were headed somewhere and I was cold. So, I figured I could turn the car on bef...   \n",
       "19998  I am looking at getting a used Lexus IS (2014 model year and newer). Are there any trim levels t...   \n",
       "19999  Looking for some help. I've never owned any luxury car. Especially not a Mercedes. My husband's ...   \n",
       "\n",
       "      category      subcategory  \\\n",
       "0        autos  harley davidson   \n",
       "1        autos             ford   \n",
       "2        autos               VW   \n",
       "3        autos            lexus   \n",
       "4        autos        chevrolet   \n",
       "...        ...              ...   \n",
       "19995    autos           toyota   \n",
       "19996    autos  harley davidson   \n",
       "19997    autos        chevrolet   \n",
       "19998    autos            lexus   \n",
       "19999    autos         mercedes   \n",
       "\n",
       "                                                                                                      text  \n",
       "0      Funny story. I went to college in Las Vegas. This was before I knew anything about motorcycling ...  \n",
       "1      I am trying to determine which is faster, and I've seen the dealership video with the two racing...  \n",
       "2      Hello! Trying to find some information on replacing a 2001 Golf Wagon starter (gas).... mine's g...  \n",
       "3      https://www.cars.com/articles/how-often-should-i-change-engine-coolant-1420680853669/ I have a I...  \n",
       "4      Hi, new to this subreddit. I'm considering buying a Gen1 Volt, but I can't find any straight ans...  \n",
       "...                                                                                                    ...  \n",
       "19995  I read a lot Forums and people recommend getting TUNDRA Bilstein Shocks for a 3rd gen 4 runner, ...  \n",
       "19996  I am thinking about buying a 2010 Harley Sportster 1200 custom for $6k with 7k miles. It has Van...  \n",
       "19997  My husband and I were headed somewhere and I was cold. So, I figured I could turn the car on bef...  \n",
       "19998  I am looking at getting a used Lexus IS (2014 model year and newer). Are there any trim levels t...  \n",
       "19999  Looking for some help. I've never owned any luxury car. Especially not a Mercedes. My husband's ...  \n",
       "\n",
       "[20000 rows x 7 columns]"
      ]
     },
     "execution_count": 155,
     "metadata": {},
     "output_type": "execute_result"
    }
   ],
   "source": [
    "df"
   ]
  }
 ],
 "metadata": {
  "kernelspec": {
   "display_name": "Python 3 (ipykernel)",
   "language": "python",
   "name": "python3"
  },
  "language_info": {
   "codemirror_mode": {
    "name": "ipython",
    "version": 3
   },
   "file_extension": ".py",
   "mimetype": "text/x-python",
   "name": "python",
   "nbconvert_exporter": "python",
   "pygments_lexer": "ipython3",
   "version": "3.11.5"
  }
 },
 "nbformat": 4,
 "nbformat_minor": 5
}
